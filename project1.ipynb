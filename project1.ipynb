{
 "cells": [
  {
   "cell_type": "code",
   "execution_count": 67,
   "metadata": {
    "deletable": false,
    "editable": false
   },
   "outputs": [
    {
     "name": "stdout",
     "output_type": "stream",
     "text": [
      "=====================================================================\n",
      "Assignment: Project 1: World Progress\n",
      "OK, version v1.18.1\n",
      "=====================================================================\n",
      "\n"
     ]
    }
   ],
   "source": [
    "# Initialize OK\n",
    "from client.api.notebook import Notebook\n",
    "ok = Notebook('project1.ok')"
   ]
  },
  {
   "cell_type": "markdown",
   "metadata": {},
   "source": [
    "## Project 1: World Progress"
   ]
  },
  {
   "cell_type": "markdown",
   "metadata": {},
   "source": [
    "In this project, you'll explore data from [Gapminder.org](http://gapminder.org), a website dedicated to providing a fact-based view of the world and how it has changed. That site includes several data visualizations and presentations, but also publishes the raw data that we will use in this project to recreate and extend some of their most famous visualizations.\n",
    "\n",
    "The Gapminder website collects data from many sources and compiles them into tables that describe many countries around the world. All of the data they aggregate are published in the [Systema Globalis](https://github.com/open-numbers/ddf--gapminder--systema_globalis/blob/master/README.md). Their goal is \"to compile all public statistics; Social, Economic and Environmental; into a comparable total dataset.\" All data sets in this project are copied directly from the Systema Globalis without any changes.\n",
    "\n",
    "This project is dedicated to [Hans Rosling](https://en.wikipedia.org/wiki/Hans_Rosling) (1948-2017), who championed the use of data to understand and prioritize global development challenges."
   ]
  },
  {
   "cell_type": "markdown",
   "metadata": {},
   "source": [
    "### Logistics\n",
    "\n",
    "**Deadline.** This project is due at 11:59pm P.D.T. on Friday 10/02. Projects will be accepted up to 2 days (48 hours) late; a project submitted less than 24 hours after the deadline will receive 2/3 credit, a project submitted between 24 and 48 hours after the deadline will receive 1/3 credit, and a project submitted 48 hours or more after the deadline will receive no credit. It's **much** better to be early than late, so start working now.\n",
    "\n",
    "**Checkpoint.** For full credit, you must also complete the first 8 questions, pass all public autograder tests, and submit to okpy by 11:59pm P.D.T. on Friday 9/25. After you've submitted the checkpoint, you may still change your answers before the project deadline - only your final submission will be graded for correctness. You will have some lab time to work on these questions, but we recommend that you start the project before lab and leave time to finish the checkpoint afterward.\n",
    "\n",
    "**Partners.** You may work with one other partner; your partner must be from your assigned lab section. Only one of you is required to submit the project. On [okpy.org](http://okpy.org), the person who submits should also designate their partner so that both of you receive credit.\n",
    "\n",
    "**Rules.** Don't share your code with anybody but your partner. You are welcome to discuss questions with other students, but don't share the answers. The experience of solving the problems in this project will prepare you for exams (and life). If someone asks you for the answer, resist! Instead, you can demonstrate how you would solve a similar problem.\n",
    "\n",
    "**Support.** You are not alone! Come to office hours, post on Piazza, and talk to your classmates. If you want to ask about the details of your solution to a problem, make a private Piazza post and the staff will respond. If you're ever feeling overwhelmed or don't know how to make progress, email your TA or tutor for help. You can find contact information for the staff on the [course website](http://data8.org/sp20/staff.html).\n",
    "\n",
    "**Tests.** The tests that are given are **not comprehensive** and passing the tests for a question **does not** mean that you answered the question correctly. Tests usually only check that your table has the correct column labels. However, more tests will be applied to verify the correctness of your submission in order to assign your final score, so be careful and check your work! You might want to create your own checks along the way to see if your answers make sense. Additionally, before you submit, make sure that none of your cells take a very long time to run (several minutes).\n",
    "\n",
    "**Free Response Questions:** Make sure that you put the answers to the written questions in the indicated cell we provide. Check to make sure that you have a [Gradescope](http://gradescope.com) account, which is where the scores to the free response questions will be posted. If you do not, make sure to reach out to your assigned (u)GSI.\n",
    "\n",
    "**Advice.** Develop your answers incrementally. To perform a complicated table manipulation, break it up into steps, perform each step on a different line, give a new name to each result, and check that each intermediate result is what you expect. You can add any additional names or functions you want to the provided cells. Make sure that you are using distinct and meaningful variable names throughout the notebook. Along that line, **DO NOT** reuse the variable names that we use when we grade your answers. For example, in Question 1 of the Global Poverty section, we ask you to assign an answer to `latest`. Do not reassign the variable name `latest` to anything else in your notebook, otherwise there is the chance that our tests grade against what `latest` was reassigned to.\n",
    "\n",
    "You **never** have to use just one line in this project or any others. Use intermediate variables and multiple lines as much as you would like!  \n",
    "\n",
    "To get started, load `datascience`, `numpy`, `plots`, and `ok`."
   ]
  },
  {
   "cell_type": "code",
   "execution_count": 68,
   "metadata": {},
   "outputs": [
    {
     "name": "stdout",
     "output_type": "stream",
     "text": [
      "=====================================================================\n",
      "Assignment: Project 1: World Progress\n",
      "OK, version v1.18.1\n",
      "=====================================================================\n",
      "\n"
     ]
    }
   ],
   "source": [
    "from datascience import *\n",
    "import numpy as np\n",
    "\n",
    "%matplotlib inline\n",
    "import matplotlib.pyplot as plots\n",
    "plots.style.use('fivethirtyeight')\n",
    "\n",
    "from client.api.notebook import Notebook\n",
    "ok = Notebook('project1.ok')"
   ]
  },
  {
   "cell_type": "markdown",
   "metadata": {},
   "source": [
    "Before continuing the assignment, select \"Save and Checkpoint\" in the File menu and then execute the submit cell below. The result will contain a link that you can use to check that your assignment has been submitted successfully. If you submit more than once before the deadline, we will only grade your final submission. If you mistakenly submit the wrong one, you can head to okpy.org and flag the correct version. There will be another submit cell at the end of the assignment when you finish!"
   ]
  },
  {
   "cell_type": "code",
   "execution_count": 4,
   "metadata": {},
   "outputs": [
    {
     "data": {
      "application/javascript": [
       "IPython.notebook.save_checkpoint();"
      ],
      "text/plain": [
       "<IPython.core.display.Javascript object>"
      ]
     },
     "metadata": {},
     "output_type": "display_data"
    },
    {
     "data": {
      "application/javascript": [
       "IPython.notebook.save_notebook();"
      ],
      "text/plain": [
       "<IPython.core.display.Javascript object>"
      ]
     },
     "metadata": {},
     "output_type": "display_data"
    },
    {
     "name": "stdout",
     "output_type": "stream",
     "text": [
      "Saving notebook... Saved 'project1.ipynb'.\n",
      "Submit... 100% complete\n",
      "Submission successful for user: aarushiwalia@berkeley.edu\n",
      "URL: https://okpy.org/cal/data8/fa20/project1/submissions/Q6918l\n",
      "\n"
     ]
    }
   ],
   "source": [
    "_ = ok.submit()"
   ]
  },
  {
   "cell_type": "markdown",
   "metadata": {
    "deletable": false,
    "editable": false
   },
   "source": [
    "## 1. Global Population Growth\n"
   ]
  },
  {
   "cell_type": "markdown",
   "metadata": {
    "deletable": false,
    "editable": false
   },
   "source": [
    "The global population of humans reached 1 billion around 1800, 3 billion around 1960, and 7 billion around 2011. The potential impact of exponential population growth has concerned scientists, economists, and politicians alike.\n",
    "\n",
    "The UN Population Division estimates that the world population will likely continue to grow throughout the 21st century, but at a slower rate, perhaps reaching 11 billion by 2100. However, the UN does not rule out scenarios of more extreme growth.\n",
    "\n",
    "<a href=\"http://www.pewresearch.org/fact-tank/2015/06/08/scientists-more-worried-than-public-about-worlds-growing-population/ft_15-06-04_popcount/\"> \n",
    " <img src=\"pew_population_projection.png\"/> \n",
    "</a>\n",
    "\n",
    "In this section, we will examine some of the factors that influence population growth and how they are changing around the world.\n",
    "\n",
    "The first table we will consider is the total population of each country over time. Run the cell below."
   ]
  },
  {
   "cell_type": "code",
   "execution_count": 69,
   "metadata": {
    "deletable": false
   },
   "outputs": [
    {
     "data": {
      "text/html": [
       "<table border=\"1\" class=\"dataframe\">\n",
       "    <thead>\n",
       "        <tr>\n",
       "            <th>geo</th> <th>time</th> <th>population_total</th>\n",
       "        </tr>\n",
       "    </thead>\n",
       "    <tbody>\n",
       "        <tr>\n",
       "            <td>afg </td> <td>1800</td> <td>3280000         </td>\n",
       "        </tr>\n",
       "        <tr>\n",
       "            <td>afg </td> <td>1801</td> <td>3280000         </td>\n",
       "        </tr>\n",
       "        <tr>\n",
       "            <td>afg </td> <td>1802</td> <td>3280000         </td>\n",
       "        </tr>\n",
       "    </tbody>\n",
       "</table>\n",
       "<p>... (43534 rows omitted)</p>"
      ],
      "text/plain": [
       "<IPython.core.display.HTML object>"
      ]
     },
     "metadata": {},
     "output_type": "display_data"
    }
   ],
   "source": [
    "population = Table.read_table('population.csv').where(\"time\", are.below(2021))\n",
    "population.show(3)"
   ]
  },
  {
   "cell_type": "markdown",
   "metadata": {},
   "source": [
    "**Note:** The population csv file can also be found [here](https://github.com/open-numbers/ddf--gapminder--systema_globalis/raw/master/ddf--datapoints--population_total--by--geo--time.csv). The data for this project was downloaded in April 2020."
   ]
  },
  {
   "cell_type": "markdown",
   "metadata": {
    "deletable": false
   },
   "source": [
    "### Haiti\n",
    "\n",
    "In the `population` table, the `geo` column contains three-letter codes established by the [International Organization for Standardization](https://en.wikipedia.org/wiki/International_Organization_for_Standardization) (ISO) in the [Alpha-3](https://en.wikipedia.org/wiki/ISO_3166-1_alpha-3#Current_codes) standard. We will begin by taking a close look at Haiti. Use the ISO link to find the 3-letter code for Haiti."
   ]
  },
  {
   "cell_type": "markdown",
   "metadata": {
    "deletable": false,
    "editable": false
   },
   "source": [
    "**Question 1.** Create a table called `h_pop` that has two columns labeled `time` and `population_total`. The first column should contain the years from 1970 through 2020 (including both 1970 and 2020) and the second should contain the population of Haiti in each of those years.\n",
    "\n",
    "<!--\n",
    "BEGIN QUESTION\n",
    "name: q1_1\n",
    "-->"
   ]
  },
  {
   "cell_type": "code",
   "execution_count": 70,
   "metadata": {
    "deletable": false
   },
   "outputs": [
    {
     "data": {
      "text/html": [
       "<table border=\"1\" class=\"dataframe\">\n",
       "    <thead>\n",
       "        <tr>\n",
       "            <th>time</th> <th>population_total</th>\n",
       "        </tr>\n",
       "    </thead>\n",
       "    <tbody>\n",
       "        <tr>\n",
       "            <td>1970</td> <td>4676237         </td>\n",
       "        </tr>\n",
       "        <tr>\n",
       "            <td>1971</td> <td>4757175         </td>\n",
       "        </tr>\n",
       "        <tr>\n",
       "            <td>1972</td> <td>4837334         </td>\n",
       "        </tr>\n",
       "        <tr>\n",
       "            <td>1973</td> <td>4918625         </td>\n",
       "        </tr>\n",
       "        <tr>\n",
       "            <td>1974</td> <td>5003708         </td>\n",
       "        </tr>\n",
       "        <tr>\n",
       "            <td>1975</td> <td>5094570         </td>\n",
       "        </tr>\n",
       "        <tr>\n",
       "            <td>1976</td> <td>5191637         </td>\n",
       "        </tr>\n",
       "        <tr>\n",
       "            <td>1977</td> <td>5294625         </td>\n",
       "        </tr>\n",
       "        <tr>\n",
       "            <td>1978</td> <td>5404020         </td>\n",
       "        </tr>\n",
       "        <tr>\n",
       "            <td>1979</td> <td>5520187         </td>\n",
       "        </tr>\n",
       "    </tbody>\n",
       "</table>\n",
       "<p>... (41 rows omitted)</p>"
      ],
      "text/plain": [
       "time | population_total\n",
       "1970 | 4676237\n",
       "1971 | 4757175\n",
       "1972 | 4837334\n",
       "1973 | 4918625\n",
       "1974 | 5003708\n",
       "1975 | 5094570\n",
       "1976 | 5191637\n",
       "1977 | 5294625\n",
       "1978 | 5404020\n",
       "1979 | 5520187\n",
       "... (41 rows omitted)"
      ]
     },
     "execution_count": 70,
     "metadata": {},
     "output_type": "execute_result"
    }
   ],
   "source": [
    "h_pop = population.where('geo',are.equal_to('hti')).where('time',are.above_or_equal_to(1970)).drop('geo')\n",
    "h_pop"
   ]
  },
  {
   "cell_type": "code",
   "execution_count": 71,
   "metadata": {
    "deletable": false,
    "editable": false
   },
   "outputs": [
    {
     "name": "stdout",
     "output_type": "stream",
     "text": [
      "~~~~~~~~~~~~~~~~~~~~~~~~~~~~~~~~~~~~~~~~~~~~~~~~~~~~~~~~~~~~~~~~~~~~~\n",
      "Running tests\n",
      "\n",
      "---------------------------------------------------------------------\n",
      "Test summary\n",
      "    Passed: 2\n",
      "    Failed: 0\n",
      "[ooooooooook] 100.0% passed\n",
      "\n"
     ]
    }
   ],
   "source": [
    "ok.grade(\"q1_1\");"
   ]
  },
  {
   "cell_type": "markdown",
   "metadata": {
    "deletable": false
   },
   "source": [
    "Run the following cell to create a table called `h_decade` that has the population of Haiti for every ten years starting in 1970 and going up to 2020. At a glance, it appears that the population of Haiti has been growing quickly indeed!"
   ]
  },
  {
   "cell_type": "code",
   "execution_count": 72,
   "metadata": {
    "deletable": false
   },
   "outputs": [
    {
     "data": {
      "text/html": [
       "<table border=\"1\" class=\"dataframe\">\n",
       "    <thead>\n",
       "        <tr>\n",
       "            <th>time</th> <th>population_total</th>\n",
       "        </tr>\n",
       "    </thead>\n",
       "    <tbody>\n",
       "        <tr>\n",
       "            <td>1970</td> <td>4,676,237       </td>\n",
       "        </tr>\n",
       "        <tr>\n",
       "            <td>1980</td> <td>5,643,175       </td>\n",
       "        </tr>\n",
       "        <tr>\n",
       "            <td>1990</td> <td>7,037,915       </td>\n",
       "        </tr>\n",
       "        <tr>\n",
       "            <td>2000</td> <td>8,463,802       </td>\n",
       "        </tr>\n",
       "        <tr>\n",
       "            <td>2010</td> <td>9,949,318       </td>\n",
       "        </tr>\n",
       "        <tr>\n",
       "            <td>2020</td> <td>11,402,533      </td>\n",
       "        </tr>\n",
       "    </tbody>\n",
       "</table>"
      ],
      "text/plain": [
       "<IPython.core.display.HTML object>"
      ]
     },
     "metadata": {},
     "output_type": "display_data"
    }
   ],
   "source": [
    "h_pop.set_format('population_total', NumberFormatter)\n",
    "\n",
    "tens = np.arange(1970, 2021, 10) # 1970, 1980, 1990, ...\n",
    "h_decade = h_pop.sort('time').where('time', are.contained_in(tens))\n",
    "h_decade.show()"
   ]
  },
  {
   "cell_type": "markdown",
   "metadata": {
    "deletable": false,
    "editable": false
   },
   "source": [
    "**Question 2.** Assign `initial` to an array that contains the population for every ten year interval from 1970 to 2010. Then, assign `changed` to an array that contains the population for every ten year interval from 1980 to 2020. You should use the `h_decade` table to create both arrays, first filtering the table to only contain the relevant years.\n",
    "\n",
    "The annual growth rate for a time period is equal to:\n",
    "\n",
    "$$(\\frac{\\text{Population at end of period}}{\\text{Population at start of period}}^{\\frac{1}{\\text{number of years}}} )-1$$\n",
    "\n",
    "We have provided the code below that uses  `initial` and `changed` in order to add a column to `h_decade` called `annual_growth`. Don't worry about the calculation of the growth rates; run the test below to test your solution.\n",
    "\n",
    "If you are interested in how we came up with the formula for growth rates, consult the [growth rates](https://www.inferentialthinking.com/chapters/03/2/1/growth) section of the textbook.\n",
    "\n",
    "<!--\n",
    "BEGIN QUESTION\n",
    "name: q1_2\n",
    "-->"
   ]
  },
  {
   "cell_type": "code",
   "execution_count": 73,
   "metadata": {
    "scrolled": true
   },
   "outputs": [
    {
     "data": {
      "text/html": [
       "<table border=\"1\" class=\"dataframe\">\n",
       "    <thead>\n",
       "        <tr>\n",
       "            <th>time</th> <th>population_total</th> <th>annual_growth</th>\n",
       "        </tr>\n",
       "    </thead>\n",
       "    <tbody>\n",
       "        <tr>\n",
       "            <td>1970</td> <td>4,676,237       </td> <td>1.90%        </td>\n",
       "        </tr>\n",
       "        <tr>\n",
       "            <td>1980</td> <td>5,643,175       </td> <td>2.23%        </td>\n",
       "        </tr>\n",
       "        <tr>\n",
       "            <td>1990</td> <td>7,037,915       </td> <td>1.86%        </td>\n",
       "        </tr>\n",
       "        <tr>\n",
       "            <td>2000</td> <td>8,463,802       </td> <td>1.63%        </td>\n",
       "        </tr>\n",
       "        <tr>\n",
       "            <td>2010</td> <td>9,949,318       </td> <td>1.37%        </td>\n",
       "        </tr>\n",
       "    </tbody>\n",
       "</table>"
      ],
      "text/plain": [
       "time | population_total | annual_growth\n",
       "1970 | 4,676,237        | 1.90%\n",
       "1980 | 5,643,175        | 2.23%\n",
       "1990 | 7,037,915        | 1.86%\n",
       "2000 | 8,463,802        | 1.63%\n",
       "2010 | 9,949,318        | 1.37%"
      ]
     },
     "execution_count": 73,
     "metadata": {},
     "output_type": "execute_result"
    }
   ],
   "source": [
    "initial = h_decade.where('time', are.not_equal_to(2020)).column(\"population_total\")\n",
    "changed = h_decade.where('time', are.not_equal_to(1970)).column(\"population_total\")\n",
    "\n",
    "growth_rates = ((changed/initial)**0.1)-1\n",
    "\n",
    "h_1970_through_2010 = h_decade.where('time', are.below_or_equal_to(2010)) \n",
    "h_decade_growth = h_1970_through_2010.with_column('annual_growth', growth_rates)\n",
    "# Don't change this line!\n",
    "h_decade_growth.set_format('annual_growth', PercentFormatter)"
   ]
  },
  {
   "cell_type": "code",
   "execution_count": 74,
   "metadata": {
    "deletable": false,
    "editable": false
   },
   "outputs": [
    {
     "name": "stdout",
     "output_type": "stream",
     "text": [
      "~~~~~~~~~~~~~~~~~~~~~~~~~~~~~~~~~~~~~~~~~~~~~~~~~~~~~~~~~~~~~~~~~~~~~\n",
      "Running tests\n",
      "\n",
      "---------------------------------------------------------------------\n",
      "Test summary\n",
      "    Passed: 2\n",
      "    Failed: 0\n",
      "[ooooooooook] 100.0% passed\n",
      "\n"
     ]
    }
   ],
   "source": [
    "ok.grade(\"q1_2\");"
   ]
  },
  {
   "cell_type": "markdown",
   "metadata": {
    "deletable": false
   },
   "source": [
    "While the population has grown every decade since 1970, the annual growth rate decreased dramatically from 1980 to 2020. Let's look at some other information in order to develop a possible explanation. Run the next cell to load three additional tables of measurements about countries over time."
   ]
  },
  {
   "cell_type": "code",
   "execution_count": 75,
   "metadata": {
    "deletable": false
   },
   "outputs": [],
   "source": [
    "life_expectancy = Table.read_table('life_expectancy.csv').where('time', are.below(2021))\n",
    "child_mortality = Table.read_table('child_mortality.csv').relabel(2, 'child_mortality_under_5_per_1000_born').where('time', are.below(2021))\n",
    "fertility = Table.read_table('fertility.csv').where('time', are.below(2021))"
   ]
  },
  {
   "cell_type": "markdown",
   "metadata": {
    "deletable": false,
    "editable": false
   },
   "source": [
    "The `life_expectancy` table contains a statistic that is often used to measure how long people live, called *life expectancy at birth*. This number, for a country in a given year, [does not measure how long babies born in that year are expected to live](http://blogs.worldbank.org/opendata/what-does-life-expectancy-birth-really-mean). Instead, it measures how long someone would live, on average, if the *mortality conditions* in that year persisted throughout their lifetime. These \"mortality conditions\" describe what fraction of people at each age survived the year. So, it is a way of measuring the proportion of people that are staying alive, aggregated over different age groups in the population."
   ]
  },
  {
   "cell_type": "markdown",
   "metadata": {},
   "source": [
    "Run the following cells below to see `life_expectancy`, `child_mortality`, and `fertility`. Refer back to these tables as they will be helpful for answering further questions!"
   ]
  },
  {
   "cell_type": "code",
   "execution_count": 76,
   "metadata": {},
   "outputs": [
    {
     "data": {
      "text/html": [
       "<table border=\"1\" class=\"dataframe\">\n",
       "    <thead>\n",
       "        <tr>\n",
       "            <th>geo</th> <th>time</th> <th>life_expectancy_years</th>\n",
       "        </tr>\n",
       "    </thead>\n",
       "    <tbody>\n",
       "        <tr>\n",
       "            <td>afg </td> <td>1800</td> <td>28.21                </td>\n",
       "        </tr>\n",
       "        <tr>\n",
       "            <td>afg </td> <td>1801</td> <td>28.2                 </td>\n",
       "        </tr>\n",
       "        <tr>\n",
       "            <td>afg </td> <td>1802</td> <td>28.19                </td>\n",
       "        </tr>\n",
       "        <tr>\n",
       "            <td>afg </td> <td>1803</td> <td>28.18                </td>\n",
       "        </tr>\n",
       "        <tr>\n",
       "            <td>afg </td> <td>1804</td> <td>28.17                </td>\n",
       "        </tr>\n",
       "        <tr>\n",
       "            <td>afg </td> <td>1805</td> <td>28.16                </td>\n",
       "        </tr>\n",
       "        <tr>\n",
       "            <td>afg </td> <td>1806</td> <td>28.15                </td>\n",
       "        </tr>\n",
       "        <tr>\n",
       "            <td>afg </td> <td>1807</td> <td>28.14                </td>\n",
       "        </tr>\n",
       "        <tr>\n",
       "            <td>afg </td> <td>1808</td> <td>28.13                </td>\n",
       "        </tr>\n",
       "        <tr>\n",
       "            <td>afg </td> <td>1809</td> <td>28.12                </td>\n",
       "        </tr>\n",
       "    </tbody>\n",
       "</table>\n",
       "<p>... (41240 rows omitted)</p>"
      ],
      "text/plain": [
       "geo  | time | life_expectancy_years\n",
       "afg  | 1800 | 28.21\n",
       "afg  | 1801 | 28.2\n",
       "afg  | 1802 | 28.19\n",
       "afg  | 1803 | 28.18\n",
       "afg  | 1804 | 28.17\n",
       "afg  | 1805 | 28.16\n",
       "afg  | 1806 | 28.15\n",
       "afg  | 1807 | 28.14\n",
       "afg  | 1808 | 28.13\n",
       "afg  | 1809 | 28.12\n",
       "... (41240 rows omitted)"
      ]
     },
     "execution_count": 76,
     "metadata": {},
     "output_type": "execute_result"
    }
   ],
   "source": [
    "life_expectancy"
   ]
  },
  {
   "cell_type": "code",
   "execution_count": 77,
   "metadata": {},
   "outputs": [
    {
     "data": {
      "text/html": [
       "<table border=\"1\" class=\"dataframe\">\n",
       "    <thead>\n",
       "        <tr>\n",
       "            <th>geo</th> <th>time</th> <th>child_mortality_under_5_per_1000_born</th>\n",
       "        </tr>\n",
       "    </thead>\n",
       "    <tbody>\n",
       "        <tr>\n",
       "            <td>afg </td> <td>1800</td> <td>468.58                               </td>\n",
       "        </tr>\n",
       "        <tr>\n",
       "            <td>afg </td> <td>1801</td> <td>468.58                               </td>\n",
       "        </tr>\n",
       "        <tr>\n",
       "            <td>afg </td> <td>1802</td> <td>468.58                               </td>\n",
       "        </tr>\n",
       "        <tr>\n",
       "            <td>afg </td> <td>1803</td> <td>468.58                               </td>\n",
       "        </tr>\n",
       "        <tr>\n",
       "            <td>afg </td> <td>1804</td> <td>468.58                               </td>\n",
       "        </tr>\n",
       "        <tr>\n",
       "            <td>afg </td> <td>1805</td> <td>468.58                               </td>\n",
       "        </tr>\n",
       "        <tr>\n",
       "            <td>afg </td> <td>1806</td> <td>469.98                               </td>\n",
       "        </tr>\n",
       "        <tr>\n",
       "            <td>afg </td> <td>1807</td> <td>469.98                               </td>\n",
       "        </tr>\n",
       "        <tr>\n",
       "            <td>afg </td> <td>1808</td> <td>469.98                               </td>\n",
       "        </tr>\n",
       "        <tr>\n",
       "            <td>afg </td> <td>1809</td> <td>469.98                               </td>\n",
       "        </tr>\n",
       "    </tbody>\n",
       "</table>\n",
       "<p>... (41727 rows omitted)</p>"
      ],
      "text/plain": [
       "geo  | time | child_mortality_under_5_per_1000_born\n",
       "afg  | 1800 | 468.58\n",
       "afg  | 1801 | 468.58\n",
       "afg  | 1802 | 468.58\n",
       "afg  | 1803 | 468.58\n",
       "afg  | 1804 | 468.58\n",
       "afg  | 1805 | 468.58\n",
       "afg  | 1806 | 469.98\n",
       "afg  | 1807 | 469.98\n",
       "afg  | 1808 | 469.98\n",
       "afg  | 1809 | 469.98\n",
       "... (41727 rows omitted)"
      ]
     },
     "execution_count": 77,
     "metadata": {},
     "output_type": "execute_result"
    }
   ],
   "source": [
    "child_mortality"
   ]
  },
  {
   "cell_type": "code",
   "execution_count": 78,
   "metadata": {},
   "outputs": [
    {
     "data": {
      "text/html": [
       "<table border=\"1\" class=\"dataframe\">\n",
       "    <thead>\n",
       "        <tr>\n",
       "            <th>geo</th> <th>time</th> <th>children_per_woman_total_fertility</th>\n",
       "        </tr>\n",
       "    </thead>\n",
       "    <tbody>\n",
       "        <tr>\n",
       "            <td>abw </td> <td>1800</td> <td>5.64                              </td>\n",
       "        </tr>\n",
       "        <tr>\n",
       "            <td>abw </td> <td>1801</td> <td>5.64                              </td>\n",
       "        </tr>\n",
       "        <tr>\n",
       "            <td>abw </td> <td>1802</td> <td>5.64                              </td>\n",
       "        </tr>\n",
       "        <tr>\n",
       "            <td>abw </td> <td>1803</td> <td>5.64                              </td>\n",
       "        </tr>\n",
       "        <tr>\n",
       "            <td>abw </td> <td>1804</td> <td>5.64                              </td>\n",
       "        </tr>\n",
       "        <tr>\n",
       "            <td>abw </td> <td>1805</td> <td>5.64                              </td>\n",
       "        </tr>\n",
       "        <tr>\n",
       "            <td>abw </td> <td>1806</td> <td>5.64                              </td>\n",
       "        </tr>\n",
       "        <tr>\n",
       "            <td>abw </td> <td>1807</td> <td>5.64                              </td>\n",
       "        </tr>\n",
       "        <tr>\n",
       "            <td>abw </td> <td>1808</td> <td>5.64                              </td>\n",
       "        </tr>\n",
       "        <tr>\n",
       "            <td>abw </td> <td>1809</td> <td>5.64                              </td>\n",
       "        </tr>\n",
       "    </tbody>\n",
       "</table>\n",
       "<p>... (44625 rows omitted)</p>"
      ],
      "text/plain": [
       "geo  | time | children_per_woman_total_fertility\n",
       "abw  | 1800 | 5.64\n",
       "abw  | 1801 | 5.64\n",
       "abw  | 1802 | 5.64\n",
       "abw  | 1803 | 5.64\n",
       "abw  | 1804 | 5.64\n",
       "abw  | 1805 | 5.64\n",
       "abw  | 1806 | 5.64\n",
       "abw  | 1807 | 5.64\n",
       "abw  | 1808 | 5.64\n",
       "abw  | 1809 | 5.64\n",
       "... (44625 rows omitted)"
      ]
     },
     "execution_count": 78,
     "metadata": {},
     "output_type": "execute_result"
    }
   ],
   "source": [
    "fertility"
   ]
  },
  {
   "cell_type": "markdown",
   "metadata": {
    "deletable": false,
    "editable": false
   },
   "source": [
    "**Question 3.** Perhaps population is growing more slowly because people aren't living as long. Use the `life_expectancy` table to draw a line graph with the years 1970 and later on the horizontal axis that shows how the *life expectancy at birth* has changed in Haiti.\n",
    "\n",
    "<!--\n",
    "BEGIN QUESTION\n",
    "name: q1_3\n",
    "manual: true\n",
    "-->\n",
    "<!-- EXPORT TO PDF -->"
   ]
  },
  {
   "cell_type": "code",
   "execution_count": 79,
   "metadata": {
    "deletable": false,
    "export_pdf": true,
    "manual_grade": true,
    "manual_problem_id": "global_pop_3"
   },
   "outputs": [
    {
     "data": {
      "image/png": "[encoded data removed]",
      "text/plain": [
       "<Figure size 432x288 with 1 Axes>"
      ]
     },
     "metadata": {},
     "output_type": "display_data"
    }
   ],
   "source": [
    "#Fill in code here\n",
    "life_expectancy.where(\"geo\",are.equal_to(\"hti\")).where(\"time\",are.above_or_equal_to(1970)).plot(\"time\",\"life_expectancy_years\")"
   ]
  },
  {
   "cell_type": "markdown",
   "metadata": {
    "deletable": false,
    "editable": false
   },
   "source": [
    "**Question 4.** Assuming everything else stays the same, do the trends in life expectancy in the graph above directly explain why the population growth rate decreased from 1980 to 2020 in Haiti? Why or why not? \n",
    "\n",
    "Hint: What happened in Haiti in 2010, and does that event explain the overall change in population growth rate?\n",
    "\n",
    "<!--\n",
    "BEGIN QUESTION\n",
    "name: q1_4\n",
    "manual: true\n",
    "-->\n",
    "<!-- EXPORT TO PDF -->"
   ]
  },
  {
   "cell_type": "markdown",
   "metadata": {
    "collapsed": true,
    "deletable": false,
    "export_pdf": true,
    "manual_grade": true,
    "manual_problem_id": "global_pop_4"
   },
   "source": [
    "No, the trends in life expectancy in the graph don't directly explain the decreased population growth rate. Life expectancy rates indicate the death rate of individuals, so the reduced life expectancy years rate also indicates a higher death rate. It's also important to keep in mind the drastic earthquake that occurred in Haiti in 2010 which induced a sudden drop as shown in the graph; because of this crisis, the death rate increased and resources were fairly limited which is why life expectancy dropped around 2010. In other words, the death rate was becoming smaller. However, as they recovered from the disaster life expectancy rose again and continued to grow. The graph shows that at 2020 life expectancy is at it's peak."
   ]
  },
  {
   "cell_type": "markdown",
   "metadata": {
    "deletable": false,
    "editable": false
   },
   "source": [
    "The `fertility` table contains a statistic that is often used to measure how many babies are being born, the *total fertility rate*. This number describes the [number of children a woman would have in her lifetime](https://www.measureevaluation.org/prh/rh_indicators/specific/fertility/total-fertility-rate), on average, if the current rates of birth by age of the mother persisted throughout her child bearing years, assuming she survived through age 49. "
   ]
  },
  {
   "cell_type": "markdown",
   "metadata": {
    "deletable": false,
    "editable": false
   },
   "source": [
    "**Question 5.** Write a function `fertility_over_time` that takes the Alpha-3 code of a `country` and a `start` year. It returns a two-column table with labels `Year` and `Children per woman` that can be used to generate a line chart of the country's fertility rate each year, starting at the `start` year. The plot should include the `start` year and all later years that appear in the `fertility` table. \n",
    "\n",
    "Then, in the next cell, call your `fertility_over_time` function on the Alpha-3 code for Haiti and the year 1970 in order to plot how Haiti's fertility rate has changed since 1970. Note that the function `fertility_over_time` should not return the plot itself. **The expression that draws the line plot is provided for you; please don't change it.**\n",
    "\n",
    "<!--\n",
    "BEGIN QUESTION\n",
    "name: q1_5\n",
    "-->"
   ]
  },
  {
   "cell_type": "code",
   "execution_count": 80,
   "metadata": {
    "deletable": false
   },
   "outputs": [
    {
     "data": {
      "image/png": "[encoded data removed]",
      "text/plain": [
       "<Figure size 432x288 with 1 Axes>"
      ]
     },
     "metadata": {},
     "output_type": "display_data"
    }
   ],
   "source": [
    "def fertility_over_time(country, start):\n",
    "    \"\"\"Create a two-column table that describes a country's total fertility rate each year.\"\"\"\n",
    "    country_fertility = fertility.where('geo',are.equal_to(country)).drop('geo')\n",
    "    country_fertility_after_start = country_fertility.where('time',are.above_or_equal_to(start))\n",
    "    cleaned_table = country_fertility_after_start.relabel('time','Year').relabel('children_per_woman_total_fertility','Children per woman').drop('geo')\n",
    "    return cleaned_table\n",
    "\n",
    "haiti_code = 'hti'\n",
    "fertility_over_time(haiti_code, 1970).plot(0, 1) # You should *not* change this line."
   ]
  },
  {
   "cell_type": "code",
   "execution_count": 81,
   "metadata": {
    "deletable": false,
    "editable": false
   },
   "outputs": [
    {
     "name": "stdout",
     "output_type": "stream",
     "text": [
      "~~~~~~~~~~~~~~~~~~~~~~~~~~~~~~~~~~~~~~~~~~~~~~~~~~~~~~~~~~~~~~~~~~~~~\n",
      "Running tests\n",
      "\n",
      "---------------------------------------------------------------------\n",
      "Test summary\n",
      "    Passed: 3\n",
      "    Failed: 0\n",
      "[ooooooooook] 100.0% passed\n",
      "\n"
     ]
    }
   ],
   "source": [
    "ok.grade(\"q1_5\");"
   ]
  },
  {
   "cell_type": "markdown",
   "metadata": {
    "deletable": false,
    "editable": false
   },
   "source": [
    "**Question 6.** Assuming everything else is constant, do the trends in fertility in the graph above help directly explain why the population growth rate decreased from 1980 to 2020 in Haiti? Why or why not?\n",
    "\n",
    "<!--\n",
    "BEGIN QUESTION\n",
    "name: q1_6\n",
    "manual: true\n",
    "-->\n",
    "<!-- EXPORT TO PDF -->"
   ]
  },
  {
   "cell_type": "markdown",
   "metadata": {
    "deletable": false,
    "export_pdf": true,
    "manual_grade": true,
    "manual_problem_id": "global_pop_6"
   },
   "source": [
    "Yes, the trends in fertility support the population growth rate decrease. Because the population growth rate is directly affected by the fertility rate, this indicates that when there is a decrease in fertility rates (as shown in the graph above), then the population growth rate will decrease as well."
   ]
  },
  {
   "cell_type": "markdown",
   "metadata": {
    "deletable": false
   },
   "source": [
    "It has been observed that lower fertility rates are often associated with lower child mortality rates. The link has been attributed to family planning: if parents can expect that their children will all survive into adulthood, then they will choose to have fewer children. We can see if this association is evident in Haiti by plotting the relationship between total fertility rate and [child mortality rate per 1000 children](https://en.wikipedia.org/wiki/Child_mortality)."
   ]
  },
  {
   "cell_type": "markdown",
   "metadata": {
    "deletable": false,
    "editable": false
   },
   "source": [
    "**Question 7.** Using both the `fertility` and `child_mortality` tables, draw a scatter diagram that has Haiti's total fertility on the horizontal axis and its child mortality on the vertical axis with one point for each year, starting with 1970.\n",
    "\n",
    "**The expression that draws the scatter diagram is provided for you; please don't change it.** Instead, create a table called `post_1969_fertility_and_child_mortality` with the appropriate column labels and data in order to generate the chart correctly. Use the label `Children per woman` to describe total fertility and the label `Child deaths per 1000 born` to describe child mortality.\n",
    "\n",
    "<!--\n",
    "BEGIN QUESTION\n",
    "name: q1_7\n",
    "manual: false\n",
    "-->"
   ]
  },
  {
   "cell_type": "code",
   "execution_count": 82,
   "metadata": {
    "deletable": false
   },
   "outputs": [
    {
     "data": {
      "image/png": "[encoded data removed]",
      "text/plain": [
       "<Figure size 360x360 with 1 Axes>"
      ]
     },
     "metadata": {},
     "output_type": "display_data"
    }
   ],
   "source": [
    "hti_fertility = fertility.where('geo',are.equal_to('hti'))\n",
    "hti_child_mortality = child_mortality.where('geo',are.equal_to('hti'))\n",
    "fertility_and_child_mortality = hti_fertility.join('time',hti_child_mortality).relabeled(\"children_per_woman_total_fertility\", \"Children per woman\").relabeled(\"child_mortality_under_5_per_1000_born\", \"Child deaths per 1000 born\")\n",
    "post_1969_fertility_and_child_mortality = fertility_and_child_mortality.where(\"time\", are.above_or_equal_to(1970))\n",
    "\n",
    "# Don't change this line!\n",
    "post_1969_fertility_and_child_mortality.scatter('Children per woman', 'Child deaths per 1000 born')"
   ]
  },
  {
   "cell_type": "code",
   "execution_count": 83,
   "metadata": {
    "deletable": false,
    "editable": false
   },
   "outputs": [
    {
     "name": "stdout",
     "output_type": "stream",
     "text": [
      "~~~~~~~~~~~~~~~~~~~~~~~~~~~~~~~~~~~~~~~~~~~~~~~~~~~~~~~~~~~~~~~~~~~~~\n",
      "Running tests\n",
      "\n",
      "---------------------------------------------------------------------\n",
      "Test summary\n",
      "    Passed: 2\n",
      "    Failed: 0\n",
      "[ooooooooook] 100.0% passed\n",
      "\n"
     ]
    }
   ],
   "source": [
    "ok.grade(\"q1_7\");"
   ]
  },
  {
   "cell_type": "markdown",
   "metadata": {
    "deletable": false,
    "editable": false
   },
   "source": [
    "**Question 8.** In one or two sentences, describe the association (if any) that is illustrated by this scatter diagram. Does the diagram show that reduced child mortality causes parents to choose to have fewer children? Beyond the general association, are there any irregularities or odd points that would be worth investigating? \n",
    "\n",
    "<!--\n",
    "BEGIN QUESTION\n",
    "name: q1_8\n",
    "manual: true\n",
    "-->\n",
    "<!-- EXPORT TO PDF -->"
   ]
  },
  {
   "cell_type": "markdown",
   "metadata": {
    "deletable": false,
    "export_pdf": true,
    "manual_grade": true,
    "manual_problem_id": "global_pop_8"
   },
   "source": [
    "As shown above, there seems to be a positive association between the two variables, or in other words, the diagram does support the correlation between reduced child mortality and the parents' desire to have fewer children. The scatter plot shows that the children fertility increases as the child mortality increases. This makes sense because when there are more children, there is bound to be more deaths.It's important to note that there is one extreme outliar at approximately (3, 210); it is worth investigating that point and  see why this outlier exists. There is also a small, abrupt change at approximately 175 children deaths per 1000 born; there's a small period where the children deaths per woman increases while the children per woman decreases. The children per woman starts to slightly increase after this abrupt change as the children deaths increases. "
   ]
  },
  {
   "cell_type": "code",
   "execution_count": 84,
   "metadata": {},
   "outputs": [
    {
     "data": {
      "image/png": "[encoded data removed]",
      "text/plain": [
       "<Figure size 360x360 with 1 Axes>"
      ]
     },
     "metadata": {},
     "output_type": "display_data"
    }
   ],
   "source": [
    "# Don't change this line!\n",
    "post_1969_fertility_and_child_mortality.scatter('time', 'Child deaths per 1000 born')"
   ]
  },
  {
   "cell_type": "markdown",
   "metadata": {
    "deletable": false,
    "editable": false
   },
   "source": [
    "**Question 9.** Using our knowledge that historical factors may affect Haiti's population, we decide to plot the child mortality rate per 1000 born against time, as seen in the scatter plot above. The y-axis remains the same as the plot from 1.8, but we are now plotting against time rather than the number of children per woman. Does this new visualization give us a better understanding of the outlier in 1.8?\n",
    "<!--\n",
    "BEGIN QUESTION\n",
    "name: q1_9\n",
    "manual: true\n",
    "-->\n",
    "<!-- EXPORT TO PDF -->"
   ]
  },
  {
   "cell_type": "markdown",
   "metadata": {
    "export_pdf": true
   },
   "source": [
    "This new graphs allows us to better understand the outlier. In question 1.08, it's unclear and difficult to pinpoint why the outlier exists as the points are plotted against two numerical variables. With the new time axis in this graph, we can use our knowledge of the catostrophic 2010 Haiti earthquake and better understand why the children deaths increased at this time despite the rest of the years following the general trend. The earthquake caused many individuals to die, so it would make sense for the child mortality to increase by several factors during this year."
   ]
  },
  {
   "cell_type": "markdown",
   "metadata": {},
   "source": [
    "### Checkpoint (due Friday 9/25)\n",
    "#### Congratulations, you have reached the checkpoint! Run the submit cell below to generate the checkpoint submission."
   ]
  },
  {
   "cell_type": "code",
   "execution_count": 19,
   "metadata": {},
   "outputs": [
    {
     "data": {
      "application/javascript": [
       "IPython.notebook.save_checkpoint();"
      ],
      "text/plain": [
       "<IPython.core.display.Javascript object>"
      ]
     },
     "metadata": {},
     "output_type": "display_data"
    },
    {
     "data": {
      "application/javascript": [
       "IPython.notebook.save_notebook();"
      ],
      "text/plain": [
       "<IPython.core.display.Javascript object>"
      ]
     },
     "metadata": {},
     "output_type": "display_data"
    },
    {
     "name": "stdout",
     "output_type": "stream",
     "text": [
      "Saving notebook... Saved 'project1.ipynb'.\n",
      "Submit... 100% complete\n",
      "Submission successful for user: aarushiwalia@berkeley.edu\n",
      "URL: https://okpy.org/cal/data8/fa20/project1/submissions/wKGXAz\n",
      "\n"
     ]
    }
   ],
   "source": [
    "_ = ok.submit()"
   ]
  },
  {
   "cell_type": "markdown",
   "metadata": {
    "deletable": false
   },
   "source": [
    "### The World\n",
    "\n",
    "The change observed in Haiti since 1970 can also be observed in many other developing countries: health services improve, life expectancy increases, and child mortality decreases. At the same time, the fertility rate often plummets, and so the population growth rate decreases despite increasing longevity."
   ]
  },
  {
   "cell_type": "markdown",
   "metadata": {
    "deletable": false
   },
   "source": [
    "Run the cell below to generate two overlaid histograms, one for 1960 and one for 2013, that show the distributions of total fertility rates for these two years among all 201 countries in the `fertility` table."
   ]
  },
  {
   "cell_type": "code",
   "execution_count": 85,
   "metadata": {
    "deletable": false,
    "scrolled": true
   },
   "outputs": [
    {
     "data": {
      "image/png": "[encoded data removed]",
      "text/plain": [
       "<Figure size 432x288 with 1 Axes>"
      ]
     },
     "metadata": {},
     "output_type": "display_data"
    }
   ],
   "source": [
    "Table().with_columns(\n",
    "    '1960', fertility.where('time', 1960).column(2),\n",
    "    '2013', fertility.where('time', 2013).column(2)\n",
    ").hist(bins=np.arange(0, 10, 0.5), unit='child per woman')\n",
    "_ = plots.xlabel('Children per woman')\n",
    "_ = plots.ylabel('Percent per children per woman')\n",
    "_ = plots.xticks(np.arange(10))"
   ]
  },
  {
   "cell_type": "markdown",
   "metadata": {
    "deletable": false,
    "editable": false
   },
   "source": [
    "**Question 9.** Assign `fertility_statements` to an array of the numbers of each statement below that can be correctly inferred from these histograms.\n",
    "\n",
    "1. About the same number of countries had a fertility rate between 3.5 and 4.5 in both 1960 and 2013.\n",
    "1. In 1960, less than 20% of countries had a fertility rate below 3.\n",
    "1. At least half of countries had a fertility rate between 5 and 8 in 1960.\n",
    "1. In 2013, about 40% of countries had a fertility rate between 1.5 and 2.\n",
    "1. At least half of countries had a fertility rate below 3 in 2013.\n",
    "1. More countries had a fertility rate above 3 in 1960 than in 2013.\n",
    "\n",
    "<!--\n",
    "BEGIN QUESTION\n",
    "name: q1_9\n",
    "-->"
   ]
  },
  {
   "cell_type": "code",
   "execution_count": 86,
   "metadata": {
    "deletable": false
   },
   "outputs": [],
   "source": [
    "fertility_statements = make_array(2, 3, 5, 6)"
   ]
  },
  {
   "cell_type": "code",
   "execution_count": 87,
   "metadata": {
    "deletable": false,
    "editable": false,
    "scrolled": true
   },
   "outputs": [
    {
     "name": "stdout",
     "output_type": "stream",
     "text": [
      "~~~~~~~~~~~~~~~~~~~~~~~~~~~~~~~~~~~~~~~~~~~~~~~~~~~~~~~~~~~~~~~~~~~~~\n",
      "Running tests\n",
      "\n",
      "---------------------------------------------------------------------\n",
      "Test summary\n",
      "    Passed: 1\n",
      "    Failed: 0\n",
      "[ooooooooook] 100.0% passed\n",
      "\n"
     ]
    }
   ],
   "source": [
    "ok.grade(\"q1_9\");"
   ]
  },
  {
   "cell_type": "markdown",
   "metadata": {
    "deletable": false,
    "editable": false
   },
   "source": [
    "**Question 10.** Draw a line plot of the world population from 1800 through 2020. The world population is the sum of all the country's populations. \n",
    "\n",
    "<!--\n",
    "BEGIN QUESTION\n",
    "name: q1_10\n",
    "manual: true\n",
    "-->\n",
    "<!-- EXPORT TO PDF -->"
   ]
  },
  {
   "cell_type": "code",
   "execution_count": 88,
   "metadata": {
    "deletable": false,
    "export_pdf": true,
    "manual_grade": true,
    "manual_problem_id": "global_pop_10"
   },
   "outputs": [
    {
     "data": {
      "image/png": "[encoded data removed]",
      "text/plain": [
       "<Figure size 432x288 with 1 Axes>"
      ]
     },
     "metadata": {},
     "output_type": "display_data"
    }
   ],
   "source": [
    "#Fill in code here\n",
    "population.where('time', are.between_or_equal_to(1800, 2020)).group('time', sum).relabeled(\"population_total sum\", \"world population\").plot(\"time\", \"world population\")"
   ]
  },
  {
   "cell_type": "markdown",
   "metadata": {
    "deletable": false,
    "editable": false
   },
   "source": [
    "**Question 11.** Create a function `stats_for_year` that takes a `year` and returns a table of statistics. The table it returns should have four columns: `geo`, `population_total`, `children_per_woman_total_fertility`, and `child_mortality_under_5_per_1000_born`. Each row should contain one Alpha-3 country code and three statistics: population, fertility rate, and child mortality for that `year` from the `population`, `fertility` and `child_mortality` tables. Only include rows for which all three statistics are available for the country and year.\n",
    "\n",
    "In addition, restrict the result to country codes that appears in `big_50`, an array of the 50 most populous countries in 2020. This restriction will speed up computations later in the project.\n",
    "\n",
    "After you write `stats_for_year`, try calling `stats_for_year` on any year between 1960 and 2020. Try to understand the output of stats_for_year.\n",
    "\n",
    "*Hint*: The tests for this question are quite comprehensive, so if you pass the tests, your function is probably correct. However, without calling your function yourself and looking at the output, it will be very difficult to understand any problems you have, so try your best to write the function correctly and check that it works before you rely on the `ok` tests to confirm your work.\n",
    "\n",
    "<!--\n",
    "BEGIN QUESTION\n",
    "name: q1_11\n",
    "manual: false\n",
    "-->"
   ]
  },
  {
   "cell_type": "code",
   "execution_count": 89,
   "metadata": {
    "deletable": false
   },
   "outputs": [],
   "source": [
    "# We first create a population table that only includes the \n",
    "# 50 countries with the largest 2010 populations. We focus on \n",
    "# these 50 countries only so that plotting later will run faster.\n",
    "big_50 = population.where('time', are.equal_to(2020)).sort(\"population_total\", descending=True).take(np.arange(50)).column('geo')\n",
    "population_of_big_50 = population.where('time', are.above(1959)).where('geo', are.contained_in(big_50))\n",
    "\n",
    "def stats_for_year(year):\n",
    "    \"\"\"Return a table of the stats for each country that year.\"\"\"\n",
    "    p = population_of_big_50.where('time', year).drop('time')\n",
    "    f = fertility.where('time', year).drop('time')\n",
    "    c = child_mortality.where('time', year).drop('time')\n",
    "    return p.join(\"geo\", f).join(\"geo\", c)"
   ]
  },
  {
   "cell_type": "code",
   "execution_count": 90,
   "metadata": {
    "deletable": false,
    "editable": false
   },
   "outputs": [
    {
     "name": "stdout",
     "output_type": "stream",
     "text": [
      "~~~~~~~~~~~~~~~~~~~~~~~~~~~~~~~~~~~~~~~~~~~~~~~~~~~~~~~~~~~~~~~~~~~~~\n",
      "Running tests\n",
      "\n",
      "---------------------------------------------------------------------\n",
      "Test summary\n",
      "    Passed: 4\n",
      "    Failed: 0\n",
      "[ooooooooook] 100.0% passed\n",
      "\n"
     ]
    }
   ],
   "source": [
    "ok.grade(\"q1_11\");"
   ]
  },
  {
   "cell_type": "markdown",
   "metadata": {
    "deletable": false,
    "editable": false
   },
   "source": [
    "**Question 12.** Create a table called `pop_by_decade` with two columns called `decade` and `population`. It has a row for each `year` since 1960 that starts a decade. The `population` column contains the total population of all countries included in the result of `stats_for_year(year)` for the first `year` of the decade. For example, 1960 is the first year of the 1960's decade. You should see that these countries contain most of the world's population.\n",
    "\n",
    "*Hint:* One approach is to define a function `pop_for_year` that computes this total population, then `apply` it to the `decade` column.  The `stats_for_year` function from the previous question may be useful here.\n",
    "\n",
    "This first test is just a sanity check for your helper function if you choose to use it. You will not lose points for not implementing the function `pop_for_year`.\n",
    "\n",
    "**Note:** The cell where you will generate the `pop_by_decade` table is below the cell where you can choose to define the helper function `pop_for_year`. You should define your `pop_by_decade` table in the cell that starts with the table `decades` being defined. \n",
    "\n",
    "<!--\n",
    "BEGIN QUESTION\n",
    "name: q1_12_0\n",
    "manual: false\n",
    "points: 0\n",
    "-->"
   ]
  },
  {
   "cell_type": "code",
   "execution_count": 91,
   "metadata": {},
   "outputs": [],
   "source": [
    "def pop_for_year(year):\n",
    "    return sum(stats_for_year(year).column(\"population_total\"))"
   ]
  },
  {
   "cell_type": "code",
   "execution_count": 92,
   "metadata": {
    "deletable": false,
    "editable": false
   },
   "outputs": [
    {
     "name": "stdout",
     "output_type": "stream",
     "text": [
      "~~~~~~~~~~~~~~~~~~~~~~~~~~~~~~~~~~~~~~~~~~~~~~~~~~~~~~~~~~~~~~~~~~~~~\n",
      "Running tests\n",
      "\n",
      "---------------------------------------------------------------------\n",
      "Test summary\n",
      "    Passed: 4\n",
      "    Failed: 0\n",
      "[ooooooooook] 100.0% passed\n",
      "\n"
     ]
    }
   ],
   "source": [
    "ok.grade(\"q1_12_0\");"
   ]
  },
  {
   "cell_type": "markdown",
   "metadata": {
    "deletable": false,
    "editable": false
   },
   "source": [
    "Now that you've defined your helper function (if you've chosen to do so), define the `pop_by_decade` table.\n",
    "\n",
    "<!--\n",
    "BEGIN QUESTION\n",
    "name: q1_12\n",
    "manual: false\n",
    "-->"
   ]
  },
  {
   "cell_type": "code",
   "execution_count": 93,
   "metadata": {
    "deletable": false
   },
   "outputs": [
    {
     "data": {
      "text/html": [
       "<table border=\"1\" class=\"dataframe\">\n",
       "    <thead>\n",
       "        <tr>\n",
       "            <th>decade</th> <th>population</th>\n",
       "        </tr>\n",
       "    </thead>\n",
       "    <tbody>\n",
       "        <tr>\n",
       "            <td>1960  </td> <td>2,635,123,897</td>\n",
       "        </tr>\n",
       "        <tr>\n",
       "            <td>1970  </td> <td>3,221,457,416</td>\n",
       "        </tr>\n",
       "        <tr>\n",
       "            <td>1980  </td> <td>3,890,044,418</td>\n",
       "        </tr>\n",
       "        <tr>\n",
       "            <td>1990  </td> <td>4,656,339,803</td>\n",
       "        </tr>\n",
       "        <tr>\n",
       "            <td>2000  </td> <td>5,377,062,169</td>\n",
       "        </tr>\n",
       "        <tr>\n",
       "            <td>2010  </td> <td>6,064,674,132</td>\n",
       "        </tr>\n",
       "        <tr>\n",
       "            <td>2020  </td> <td>6,765,161,289</td>\n",
       "        </tr>\n",
       "    </tbody>\n",
       "</table>"
      ],
      "text/plain": [
       "decade | population\n",
       "1960   | 2,635,123,897\n",
       "1970   | 3,221,457,416\n",
       "1980   | 3,890,044,418\n",
       "1990   | 4,656,339,803\n",
       "2000   | 5,377,062,169\n",
       "2010   | 6,064,674,132\n",
       "2020   | 6,765,161,289"
      ]
     },
     "execution_count": 93,
     "metadata": {},
     "output_type": "execute_result"
    }
   ],
   "source": [
    "decades = Table().with_column('decade', np.arange(1960, 2021, 10))\n",
    "\n",
    "pop_by_decade = decades.with_columns(\"population\", decades.apply(pop_for_year, \"decade\"))\n",
    "pop_by_decade.set_format(1, NumberFormatter)"
   ]
  },
  {
   "cell_type": "code",
   "execution_count": 94,
   "metadata": {
    "deletable": false,
    "editable": false
   },
   "outputs": [
    {
     "name": "stdout",
     "output_type": "stream",
     "text": [
      "~~~~~~~~~~~~~~~~~~~~~~~~~~~~~~~~~~~~~~~~~~~~~~~~~~~~~~~~~~~~~~~~~~~~~\n",
      "Running tests\n",
      "\n",
      "---------------------------------------------------------------------\n",
      "Test summary\n",
      "    Passed: 2\n",
      "    Failed: 0\n",
      "[ooooooooook] 100.0% passed\n",
      "\n"
     ]
    }
   ],
   "source": [
    "ok.grade(\"q1_12\");"
   ]
  },
  {
   "cell_type": "markdown",
   "metadata": {
    "deletable": false,
    "editable": false
   },
   "source": [
    "The `countries` table describes various characteristics of countries. The `country` column contains the same codes as the `geo` column in each of the other data tables (`population`, `fertility`, and `child_mortality`). The `world_6region` column classifies each country into a region of the world. Run the cell below to inspect the data."
   ]
  },
  {
   "cell_type": "code",
   "execution_count": 95,
   "metadata": {},
   "outputs": [
    {
     "data": {
      "text/html": [
       "<table border=\"1\" class=\"dataframe\">\n",
       "    <thead>\n",
       "        <tr>\n",
       "            <th>country</th> <th>name</th> <th>world_6region</th>\n",
       "        </tr>\n",
       "    </thead>\n",
       "    <tbody>\n",
       "        <tr>\n",
       "            <td>afg    </td> <td>Afghanistan         </td> <td>south_asia              </td>\n",
       "        </tr>\n",
       "        <tr>\n",
       "            <td>ago    </td> <td>Angola              </td> <td>sub_saharan_africa      </td>\n",
       "        </tr>\n",
       "        <tr>\n",
       "            <td>alb    </td> <td>Albania             </td> <td>europe_central_asia     </td>\n",
       "        </tr>\n",
       "        <tr>\n",
       "            <td>and    </td> <td>Andorra             </td> <td>europe_central_asia     </td>\n",
       "        </tr>\n",
       "        <tr>\n",
       "            <td>are    </td> <td>United Arab Emirates</td> <td>middle_east_north_africa</td>\n",
       "        </tr>\n",
       "        <tr>\n",
       "            <td>arg    </td> <td>Argentina           </td> <td>america                 </td>\n",
       "        </tr>\n",
       "        <tr>\n",
       "            <td>arm    </td> <td>Armenia             </td> <td>europe_central_asia     </td>\n",
       "        </tr>\n",
       "        <tr>\n",
       "            <td>atg    </td> <td>Antigua and Barbuda </td> <td>america                 </td>\n",
       "        </tr>\n",
       "        <tr>\n",
       "            <td>aus    </td> <td>Australia           </td> <td>east_asia_pacific       </td>\n",
       "        </tr>\n",
       "        <tr>\n",
       "            <td>aut    </td> <td>Austria             </td> <td>europe_central_asia     </td>\n",
       "        </tr>\n",
       "    </tbody>\n",
       "</table>\n",
       "<p>... (187 rows omitted)</p>"
      ],
      "text/plain": [
       "country | name                 | world_6region\n",
       "afg     | Afghanistan          | south_asia\n",
       "ago     | Angola               | sub_saharan_africa\n",
       "alb     | Albania              | europe_central_asia\n",
       "and     | Andorra              | europe_central_asia\n",
       "are     | United Arab Emirates | middle_east_north_africa\n",
       "arg     | Argentina            | america\n",
       "arm     | Armenia              | europe_central_asia\n",
       "atg     | Antigua and Barbuda  | america\n",
       "aus     | Australia            | east_asia_pacific\n",
       "aut     | Austria              | europe_central_asia\n",
       "... (187 rows omitted)"
      ]
     },
     "execution_count": 95,
     "metadata": {},
     "output_type": "execute_result"
    }
   ],
   "source": [
    "countries = Table.read_table('countries.csv').where('country', are.contained_in(population.group('geo').column('geo')))\n",
    "countries.select('country', 'name', 'world_6region')"
   ]
  },
  {
   "cell_type": "markdown",
   "metadata": {
    "deletable": false,
    "editable": false
   },
   "source": [
    "**Question 13.** Create a table called `region_counts` that has two columns, `region` and `count`. It should contain two columns: a region column and a count column that contains the number of countries in each region that appear in the result of `stats_for_year(2020)`. For example, one row would have `south_asia` as its `world_6region` value and an integer as its `count` value: the number of large South Asian countries for which we have population, fertility, and child mortality numbers from 2020.\n",
    "\n",
    "<!--\n",
    "BEGIN QUESTION\n",
    "name: q1_13\n",
    "-->"
   ]
  },
  {
   "cell_type": "code",
   "execution_count": 96,
   "metadata": {
    "deletable": false
   },
   "outputs": [
    {
     "data": {
      "text/html": [
       "<table border=\"1\" class=\"dataframe\">\n",
       "    <thead>\n",
       "        <tr>\n",
       "            <th>region</th> <th>count</th>\n",
       "        </tr>\n",
       "    </thead>\n",
       "    <tbody>\n",
       "        <tr>\n",
       "            <td>america                 </td> <td>8    </td>\n",
       "        </tr>\n",
       "        <tr>\n",
       "            <td>east_asia_pacific       </td> <td>9    </td>\n",
       "        </tr>\n",
       "        <tr>\n",
       "            <td>europe_central_asia     </td> <td>10   </td>\n",
       "        </tr>\n",
       "        <tr>\n",
       "            <td>middle_east_north_africa</td> <td>7    </td>\n",
       "        </tr>\n",
       "        <tr>\n",
       "            <td>south_asia              </td> <td>5    </td>\n",
       "        </tr>\n",
       "        <tr>\n",
       "            <td>sub_saharan_africa      </td> <td>11   </td>\n",
       "        </tr>\n",
       "    </tbody>\n",
       "</table>"
      ],
      "text/plain": [
       "region                   | count\n",
       "america                  | 8\n",
       "east_asia_pacific        | 9\n",
       "europe_central_asia      | 10\n",
       "middle_east_north_africa | 7\n",
       "south_asia               | 5\n",
       "sub_saharan_africa       | 11"
      ]
     },
     "execution_count": 96,
     "metadata": {},
     "output_type": "execute_result"
    }
   ],
   "source": [
    "region_counts = countries.join(\"country\", stats_for_year(2020), \"geo\").group(\"world_6region\").relabeled(\"world_6region\", \"region\")\n",
    "region_counts"
   ]
  },
  {
   "cell_type": "code",
   "execution_count": 97,
   "metadata": {
    "deletable": false,
    "editable": false
   },
   "outputs": [
    {
     "name": "stdout",
     "output_type": "stream",
     "text": [
      "~~~~~~~~~~~~~~~~~~~~~~~~~~~~~~~~~~~~~~~~~~~~~~~~~~~~~~~~~~~~~~~~~~~~~\n",
      "Running tests\n",
      "\n",
      "---------------------------------------------------------------------\n",
      "Test summary\n",
      "    Passed: 2\n",
      "    Failed: 0\n",
      "[ooooooooook] 100.0% passed\n",
      "\n"
     ]
    }
   ],
   "source": [
    "ok.grade(\"q1_13\");"
   ]
  },
  {
   "cell_type": "markdown",
   "metadata": {
    "deletable": false,
    "editable": false
   },
   "source": [
    "The following scatter diagram compares total fertility rate and child mortality rate for each country in 2020. The area of each dot represents the population of the country, and the color represents its region of the world. Run the cell. Do you think you can identify any of the dots?"
   ]
  },
  {
   "cell_type": "code",
   "execution_count": 98,
   "metadata": {
    "deletable": false,
    "scrolled": true
   },
   "outputs": [
    {
     "data": {
      "image/png": "[encoded data removed]",
      "text/plain": [
       "<Figure size 360x360 with 1 Axes>"
      ]
     },
     "metadata": {},
     "output_type": "display_data"
    }
   ],
   "source": [
    "from functools import lru_cache as cache\n",
    "\n",
    "# This cache annotation makes sure that if the same year\n",
    "# is passed as an argument twice, the work of computing\n",
    "# the result is only carried out once.\n",
    "@cache(None)\n",
    "def stats_relabeled(year):\n",
    "    \"\"\"Relabeled and cached version of stats_for_year.\"\"\"\n",
    "    return stats_for_year(year).relabel(2, 'Children per woman').relabel(3, 'Child deaths per 1000 born')\n",
    "\n",
    "def fertility_vs_child_mortality(year):\n",
    "    \"\"\"Draw a color scatter diagram comparing child mortality and fertility.\"\"\"\n",
    "    with_region = stats_relabeled(year).join('geo', countries.select('country', 'world_6region'), 'country')\n",
    "    with_region.scatter(2, 3, sizes=1, group=4, s=500)\n",
    "    plots.xlim(0,6)\n",
    "    plots.ylim(-25, 150)\n",
    "    plots.title(year)\n",
    "\n",
    "fertility_vs_child_mortality(2020)"
   ]
  },
  {
   "cell_type": "markdown",
   "metadata": {
    "deletable": false,
    "editable": false
   },
   "source": [
    "**Question 14.** Assign `scatter_statements` to an array of the numbers of each statement below that can be inferred from this scatter diagram for 2020. \n",
    "1. As a whole, the `europe_central_asia` region had the lowest child mortality rate.\n",
    "1. The lowest child mortality rate of any country was from an `east_asia_pacific` country.\n",
    "1. Most countries had a fertility rate above 5.\n",
    "1. There was an association between child mortality and fertility.\n",
    "1. The two largest countries by population also had the two highest child mortality rate.\n",
    "\n",
    "<!--\n",
    "BEGIN QUESTION\n",
    "name: q1_14\n",
    "-->"
   ]
  },
  {
   "cell_type": "code",
   "execution_count": 99,
   "metadata": {
    "deletable": false
   },
   "outputs": [],
   "source": [
    "scatter_statements = make_array(1, 2, 4, 5)"
   ]
  },
  {
   "cell_type": "code",
   "execution_count": 100,
   "metadata": {
    "deletable": false,
    "editable": false
   },
   "outputs": [
    {
     "name": "stdout",
     "output_type": "stream",
     "text": [
      "~~~~~~~~~~~~~~~~~~~~~~~~~~~~~~~~~~~~~~~~~~~~~~~~~~~~~~~~~~~~~~~~~~~~~\n",
      "Running tests\n",
      "\n",
      "---------------------------------------------------------------------\n",
      "Test summary\n",
      "    Passed: 1\n",
      "    Failed: 0\n",
      "[ooooooooook] 100.0% passed\n",
      "\n"
     ]
    }
   ],
   "source": [
    "ok.grade(\"q1_14\");"
   ]
  },
  {
   "cell_type": "markdown",
   "metadata": {
    "deletable": false
   },
   "source": [
    "The result of the cell below is interactive. Drag the slider to the right to see how countries have changed over time. You'll find that the great divide between so-called \"Western\" and \"developing\" countries that existed in the 1960's has nearly disappeared. This shift in fertility rates is the reason that the global population is expected to grow more slowly in the 21st century than it did in the 19th and 20th centuries.\n",
    "\n",
    "**Note:** Don't worry if a red warning pops up when running the cell below. You'll still be able to run the cell!"
   ]
  },
  {
   "cell_type": "code",
   "execution_count": 101,
   "metadata": {
    "deletable": false,
    "scrolled": false
   },
   "outputs": [
    {
     "name": "stderr",
     "output_type": "stream",
     "text": [
      "/opt/conda/lib/python3.8/site-packages/datascience/tables.py:193: FutureWarning: Implicit column method lookup is deprecated.\n",
      "  warnings.warn(\"Implicit column method lookup is deprecated.\", FutureWarning)\n"
     ]
    },
    {
     "data": {
      "application/vnd.jupyter.widget-view+json": {
       "model_id": "924a98c4ade44507958f623ecfd1249b",
       "version_major": 2,
       "version_minor": 0
      },
      "text/plain": [
       "interactive(children=(IntSlider(value=1960, description='year', max=2015, min=1960), Output()), _dom_classes=(…"
      ]
     },
     "metadata": {},
     "output_type": "display_data"
    }
   ],
   "source": [
    "import ipywidgets as widgets\n",
    "\n",
    "# This part takes a few minutes to run because it \n",
    "# computes 55 tables in advance: one for each year.\n",
    "Table().with_column('Year', np.arange(1960, 2016)).apply(stats_relabeled, 'Year')\n",
    "\n",
    "_ = widgets.interact(fertility_vs_child_mortality, \n",
    "                     year=widgets.IntSlider(min=1960, max=2015, value=1960))"
   ]
  },
  {
   "cell_type": "markdown",
   "metadata": {
    "deletable": false,
    "editable": false
   },
   "source": [
    "Now is a great time to take a break and watch the same data presented by [Hans Rosling in a 2010 TEDx talk](https://www.gapminder.org/videos/reducing-child-mortality-a-moral-and-environmental-imperative) with smoother animation and witty commentary."
   ]
  },
  {
   "cell_type": "markdown",
   "metadata": {
    "deletable": false,
    "editable": false
   },
   "source": [
    "## 2. Global Poverty\n"
   ]
  },
  {
   "cell_type": "markdown",
   "metadata": {
    "deletable": false,
    "editable": false
   },
   "source": [
    "In 1800, 85% of the world's 1 billion people lived in *extreme poverty*, defined by the United Nations as \"a condition characterized by severe deprivation of basic human needs, including food, safe drinking water, sanitation facilities, health, shelter, education and information.\" A common measure of extreme poverty is a person living on less than \\$1.25 per day.\n",
    "\n",
    "In 2018, the proportion of people living in extreme poverty was estimated to be 8%. Although the world rate of extreme poverty has declined consistently for hundreds of years, the number of people living in extreme poverty is still over 600 million. The United Nations recently adopted an [ambitious goal](http://www.un.org/sustainabledevelopment/poverty/): \"By 2030, eradicate extreme poverty for all people everywhere.\"\n",
    "In this section, we will examine extreme poverty trends around the world."
   ]
  },
  {
   "cell_type": "markdown",
   "metadata": {
    "deletable": false,
    "editable": false
   },
   "source": [
    "First, load the population and poverty rate by country and year and the country descriptions. While the `population` table has values for every recent year for many countries, the `poverty` table only includes certain years for each country in which a measurement of the rate of extreme poverty was available."
   ]
  },
  {
   "cell_type": "code",
   "execution_count": 102,
   "metadata": {},
   "outputs": [
    {
     "data": {
      "text/html": [
       "<table border=\"1\" class=\"dataframe\">\n",
       "    <thead>\n",
       "        <tr>\n",
       "            <th>geo</th> <th>time</th> <th>extreme_poverty_percent_people_below_125_a_day</th>\n",
       "        </tr>\n",
       "    </thead>\n",
       "    <tbody>\n",
       "        <tr>\n",
       "            <td>alb </td> <td>1996</td> <td>0.2                                           </td>\n",
       "        </tr>\n",
       "        <tr>\n",
       "            <td>alb </td> <td>2002</td> <td>0.73                                          </td>\n",
       "        </tr>\n",
       "        <tr>\n",
       "            <td>alb </td> <td>2004</td> <td>0.53                                          </td>\n",
       "        </tr>\n",
       "    </tbody>\n",
       "</table>\n",
       "<p>... (1096 rows omitted)</p>"
      ],
      "text/plain": [
       "<IPython.core.display.HTML object>"
      ]
     },
     "metadata": {},
     "output_type": "display_data"
    }
   ],
   "source": [
    "population = Table.read_table('population.csv')\n",
    "countries = Table.read_table('countries.csv').where('country', are.contained_in(population.group('geo').column('geo')))\n",
    "poverty = Table.read_table('poverty.csv')\n",
    "poverty.show(3)"
   ]
  },
  {
   "cell_type": "markdown",
   "metadata": {
    "deletable": false,
    "editable": false
   },
   "source": [
    "**Question 1.** Assign `latest_poverty` to a three-column table with one row for each country that appears in the `poverty` table. The first column should contain the 3-letter code for the country. The second column should contain the most recent year for which an extreme poverty rate is available for the country. The third column should contain the poverty rate in that year. **Do not change the last line, so that the labels of your table are set correctly.**\n",
    "\n",
    "*Hint*: think about how ```group``` works: it does a sequential search of the table (from top to bottom) and collects values in the array in the order in which they appear, and then applies a function to that array. The `first` function may be helpful, but you are not required to use it.\n",
    "\n",
    "<!--\n",
    "BEGIN QUESTION\n",
    "name: q2_1\n",
    "-->"
   ]
  },
  {
   "cell_type": "code",
   "execution_count": 103,
   "metadata": {
    "deletable": false
   },
   "outputs": [
    {
     "data": {
      "text/html": [
       "<table border=\"1\" class=\"dataframe\">\n",
       "    <thead>\n",
       "        <tr>\n",
       "            <th>geo</th> <th>time</th> <th>poverty_percent</th>\n",
       "        </tr>\n",
       "    </thead>\n",
       "    <tbody>\n",
       "        <tr>\n",
       "            <td>ago </td> <td>2009</td> <td>43.37          </td>\n",
       "        </tr>\n",
       "        <tr>\n",
       "            <td>alb </td> <td>2012</td> <td>0.46           </td>\n",
       "        </tr>\n",
       "        <tr>\n",
       "            <td>arg </td> <td>2011</td> <td>1.41           </td>\n",
       "        </tr>\n",
       "        <tr>\n",
       "            <td>arm </td> <td>2012</td> <td>1.75           </td>\n",
       "        </tr>\n",
       "        <tr>\n",
       "            <td>aus </td> <td>2003</td> <td>1.36           </td>\n",
       "        </tr>\n",
       "        <tr>\n",
       "            <td>aut </td> <td>2004</td> <td>0.34           </td>\n",
       "        </tr>\n",
       "        <tr>\n",
       "            <td>aze </td> <td>2008</td> <td>0.31           </td>\n",
       "        </tr>\n",
       "        <tr>\n",
       "            <td>bdi </td> <td>2006</td> <td>81.32          </td>\n",
       "        </tr>\n",
       "        <tr>\n",
       "            <td>bel </td> <td>2000</td> <td>0.5            </td>\n",
       "        </tr>\n",
       "        <tr>\n",
       "            <td>ben </td> <td>2012</td> <td>51.61          </td>\n",
       "        </tr>\n",
       "    </tbody>\n",
       "</table>\n",
       "<p>... (135 rows omitted)</p>"
      ],
      "text/plain": [
       "geo  | time | poverty_percent\n",
       "ago  | 2009 | 43.37\n",
       "alb  | 2012 | 0.46\n",
       "arg  | 2011 | 1.41\n",
       "arm  | 2012 | 1.75\n",
       "aus  | 2003 | 1.36\n",
       "aut  | 2004 | 0.34\n",
       "aze  | 2008 | 0.31\n",
       "bdi  | 2006 | 81.32\n",
       "bel  | 2000 | 0.5\n",
       "ben  | 2012 | 51.61\n",
       "... (135 rows omitted)"
      ]
     },
     "execution_count": 103,
     "metadata": {},
     "output_type": "execute_result"
    }
   ],
   "source": [
    "def first(values):\n",
    "    return values.item(0)\n",
    "\n",
    "latest_poverty = poverty.sort('time', descending = True).group('geo', first)\n",
    "latest_poverty = latest_poverty.relabeled(0, 'geo').relabeled(1, 'time').relabeled(2, 'poverty_percent') # You should *not* change this line.\n",
    "latest_poverty"
   ]
  },
  {
   "cell_type": "code",
   "execution_count": 104,
   "metadata": {
    "deletable": false,
    "editable": false
   },
   "outputs": [
    {
     "name": "stdout",
     "output_type": "stream",
     "text": [
      "~~~~~~~~~~~~~~~~~~~~~~~~~~~~~~~~~~~~~~~~~~~~~~~~~~~~~~~~~~~~~~~~~~~~~\n",
      "Running tests\n",
      "\n",
      "---------------------------------------------------------------------\n",
      "Test summary\n",
      "    Passed: 2\n",
      "    Failed: 0\n",
      "[ooooooooook] 100.0% passed\n",
      "\n"
     ]
    }
   ],
   "source": [
    "ok.grade(\"q2_1\");"
   ]
  },
  {
   "cell_type": "markdown",
   "metadata": {
    "deletable": false,
    "editable": false
   },
   "source": [
    "**Question 2.** Using both `latest_poverty` and `population`, create a four-column table called `recent_poverty_total` with one row for each country in `latest_poverty`. The four columns should have the following labels and contents:\n",
    "1. `geo` contains the 3-letter country code,\n",
    "1. `poverty_percent` contains the most recent poverty percent,\n",
    "1. `population_total` contains the population of the country in 2010,\n",
    "1. `poverty_total` contains the number of people in poverty **rounded to the nearest integer**, based on the 2010 population and most recent poverty rate.\n",
    "\n",
    "<!--\n",
    "BEGIN QUESTION\n",
    "name: q2_2\n",
    "-->"
   ]
  },
  {
   "cell_type": "code",
   "execution_count": 105,
   "metadata": {
    "deletable": false
   },
   "outputs": [
    {
     "data": {
      "text/html": [
       "<table border=\"1\" class=\"dataframe\">\n",
       "    <thead>\n",
       "        <tr>\n",
       "            <th>geo</th> <th>poverty_percent</th> <th>population_total</th> <th>poverty_total</th>\n",
       "        </tr>\n",
       "    </thead>\n",
       "    <tbody>\n",
       "        <tr>\n",
       "            <td>ago </td> <td>43.37          </td> <td>23356247        </td> <td>1.01296e+07  </td>\n",
       "        </tr>\n",
       "        <tr>\n",
       "            <td>alb </td> <td>0.46           </td> <td>2948029         </td> <td>13561        </td>\n",
       "        </tr>\n",
       "        <tr>\n",
       "            <td>arg </td> <td>1.41           </td> <td>40895751        </td> <td>576630       </td>\n",
       "        </tr>\n",
       "        <tr>\n",
       "            <td>arm </td> <td>1.75           </td> <td>2877314         </td> <td>50353        </td>\n",
       "        </tr>\n",
       "        <tr>\n",
       "            <td>aus </td> <td>1.36           </td> <td>22154687        </td> <td>301304       </td>\n",
       "        </tr>\n",
       "        <tr>\n",
       "            <td>aut </td> <td>0.34           </td> <td>8409945         </td> <td>28594        </td>\n",
       "        </tr>\n",
       "        <tr>\n",
       "            <td>aze </td> <td>0.31           </td> <td>9032465         </td> <td>28001        </td>\n",
       "        </tr>\n",
       "        <tr>\n",
       "            <td>bdi </td> <td>81.32          </td> <td>8675606         </td> <td>7.055e+06    </td>\n",
       "        </tr>\n",
       "        <tr>\n",
       "            <td>bel </td> <td>0.5            </td> <td>10938735        </td> <td>54694        </td>\n",
       "        </tr>\n",
       "        <tr>\n",
       "            <td>ben </td> <td>51.61          </td> <td>9199254         </td> <td>4.74774e+06  </td>\n",
       "        </tr>\n",
       "    </tbody>\n",
       "</table>\n",
       "<p>... (135 rows omitted)</p>"
      ],
      "text/plain": [
       "geo  | poverty_percent | population_total | poverty_total\n",
       "ago  | 43.37           | 23356247         | 1.01296e+07\n",
       "alb  | 0.46            | 2948029          | 13561\n",
       "arg  | 1.41            | 40895751         | 576630\n",
       "arm  | 1.75            | 2877314          | 50353\n",
       "aus  | 1.36            | 22154687         | 301304\n",
       "aut  | 0.34            | 8409945          | 28594\n",
       "aze  | 0.31            | 9032465          | 28001\n",
       "bdi  | 81.32           | 8675606          | 7.055e+06\n",
       "bel  | 0.5             | 10938735         | 54694\n",
       "ben  | 51.61           | 9199254          | 4.74774e+06\n",
       "... (135 rows omitted)"
      ]
     },
     "execution_count": 105,
     "metadata": {},
     "output_type": "execute_result"
    }
   ],
   "source": [
    "poverty_and_pop = latest_poverty.join('geo', population.where('time', are.equal_to(2010))).drop('time').drop('time_2')\n",
    "recent_poverty_total = poverty_and_pop.with_columns('poverty_total', np.round(poverty_and_pop.column(\"poverty_percent\") * poverty_and_pop.column('population_total') / 100))\n",
    "recent_poverty_total"
   ]
  },
  {
   "cell_type": "code",
   "execution_count": 106,
   "metadata": {
    "deletable": false,
    "editable": false
   },
   "outputs": [
    {
     "name": "stdout",
     "output_type": "stream",
     "text": [
      "~~~~~~~~~~~~~~~~~~~~~~~~~~~~~~~~~~~~~~~~~~~~~~~~~~~~~~~~~~~~~~~~~~~~~\n",
      "Running tests\n",
      "\n",
      "---------------------------------------------------------------------\n",
      "Test summary\n",
      "    Passed: 3\n",
      "    Failed: 0\n",
      "[ooooooooook] 100.0% passed\n",
      "\n"
     ]
    }
   ],
   "source": [
    "ok.grade(\"q2_2\");"
   ]
  },
  {
   "cell_type": "markdown",
   "metadata": {
    "deletable": false,
    "editable": false
   },
   "source": [
    "**Question 3.** Assign the name `poverty_percent` to the known percentage of the world’s 2010 population that were living in extreme poverty. Assume that the `poverty_total` numbers in the `recent_poverty_total` table describe **all** people in 2010 living in extreme poverty. You should find a number that is above the 2018 global estimate of 8%, since many country-specific poverty rates are older than 2018.\n",
    "\n",
    "*Hint*: The sum of the `population_total` column in the `recent_poverty_total` table is not the world population, because only a subset of the world's countries are included in the `recent_poverty_total` table (only some countries have known poverty rates). Use the `population` table to compute the world's 2010 total population..\n",
    "\n",
    "<!--\n",
    "BEGIN QUESTION\n",
    "name: q2_3\n",
    "-->"
   ]
  },
  {
   "cell_type": "code",
   "execution_count": 107,
   "metadata": {
    "deletable": false
   },
   "outputs": [
    {
     "data": {
      "text/plain": [
       "14.248865303997139"
      ]
     },
     "execution_count": 107,
     "metadata": {},
     "output_type": "execute_result"
    }
   ],
   "source": [
    "poverty_percent = sum(recent_poverty_total.column('poverty_total')) / sum(population.where('time', are.equal_to(2010)).column('population_total')) * 100\n",
    "poverty_percent"
   ]
  },
  {
   "cell_type": "code",
   "execution_count": 108,
   "metadata": {
    "deletable": false,
    "editable": false
   },
   "outputs": [
    {
     "name": "stdout",
     "output_type": "stream",
     "text": [
      "~~~~~~~~~~~~~~~~~~~~~~~~~~~~~~~~~~~~~~~~~~~~~~~~~~~~~~~~~~~~~~~~~~~~~\n",
      "Running tests\n",
      "\n",
      "---------------------------------------------------------------------\n",
      "Test summary\n",
      "    Passed: 1\n",
      "    Failed: 0\n",
      "[ooooooooook] 100.0% passed\n",
      "\n"
     ]
    }
   ],
   "source": [
    "ok.grade(\"q2_3\");"
   ]
  },
  {
   "cell_type": "markdown",
   "metadata": {
    "deletable": false,
    "editable": false
   },
   "source": [
    "The `countries` table includes not only the name and region of countries, but also their positions on the globe."
   ]
  },
  {
   "cell_type": "code",
   "execution_count": 109,
   "metadata": {
    "deletable": false,
    "editable": false
   },
   "outputs": [
    {
     "data": {
      "text/html": [
       "<table border=\"1\" class=\"dataframe\">\n",
       "    <thead>\n",
       "        <tr>\n",
       "            <th>country</th> <th>name</th> <th>world_4region</th> <th>latitude</th> <th>longitude</th>\n",
       "        </tr>\n",
       "    </thead>\n",
       "    <tbody>\n",
       "        <tr>\n",
       "            <td>afg    </td> <td>Afghanistan         </td> <td>asia         </td> <td>33      </td> <td>66       </td>\n",
       "        </tr>\n",
       "        <tr>\n",
       "            <td>ago    </td> <td>Angola              </td> <td>africa       </td> <td>-12.5   </td> <td>18.5     </td>\n",
       "        </tr>\n",
       "        <tr>\n",
       "            <td>alb    </td> <td>Albania             </td> <td>europe       </td> <td>41      </td> <td>20       </td>\n",
       "        </tr>\n",
       "        <tr>\n",
       "            <td>and    </td> <td>Andorra             </td> <td>europe       </td> <td>42.5078 </td> <td>1.52109  </td>\n",
       "        </tr>\n",
       "        <tr>\n",
       "            <td>are    </td> <td>United Arab Emirates</td> <td>asia         </td> <td>23.75   </td> <td>54.5     </td>\n",
       "        </tr>\n",
       "        <tr>\n",
       "            <td>arg    </td> <td>Argentina           </td> <td>americas     </td> <td>-34     </td> <td>-64      </td>\n",
       "        </tr>\n",
       "        <tr>\n",
       "            <td>arm    </td> <td>Armenia             </td> <td>europe       </td> <td>40.25   </td> <td>45       </td>\n",
       "        </tr>\n",
       "        <tr>\n",
       "            <td>atg    </td> <td>Antigua and Barbuda </td> <td>americas     </td> <td>17.05   </td> <td>-61.8    </td>\n",
       "        </tr>\n",
       "        <tr>\n",
       "            <td>aus    </td> <td>Australia           </td> <td>asia         </td> <td>-25     </td> <td>135      </td>\n",
       "        </tr>\n",
       "        <tr>\n",
       "            <td>aut    </td> <td>Austria             </td> <td>europe       </td> <td>47.3333 </td> <td>13.3333  </td>\n",
       "        </tr>\n",
       "    </tbody>\n",
       "</table>\n",
       "<p>... (187 rows omitted)</p>"
      ],
      "text/plain": [
       "country | name                 | world_4region | latitude | longitude\n",
       "afg     | Afghanistan          | asia          | 33       | 66\n",
       "ago     | Angola               | africa        | -12.5    | 18.5\n",
       "alb     | Albania              | europe        | 41       | 20\n",
       "and     | Andorra              | europe        | 42.5078  | 1.52109\n",
       "are     | United Arab Emirates | asia          | 23.75    | 54.5\n",
       "arg     | Argentina            | americas      | -34      | -64\n",
       "arm     | Armenia              | europe        | 40.25    | 45\n",
       "atg     | Antigua and Barbuda  | americas      | 17.05    | -61.8\n",
       "aus     | Australia            | asia          | -25      | 135\n",
       "aut     | Austria              | europe        | 47.3333  | 13.3333\n",
       "... (187 rows omitted)"
      ]
     },
     "execution_count": 109,
     "metadata": {},
     "output_type": "execute_result"
    }
   ],
   "source": [
    "countries.select('country', 'name', 'world_4region', 'latitude', 'longitude')"
   ]
  },
  {
   "cell_type": "markdown",
   "metadata": {
    "deletable": false,
    "editable": false
   },
   "source": [
    "**Question 4.** Using both `countries` and `recent_poverty_total`, create a five-column table called `poverty_map` with one row for every country in `recent_poverty_total`.  The five columns should have the following labels and contents:\n",
    "1. `latitude` contains the country's latitude,\n",
    "1. `longitude` contains the country's longitude,\n",
    "1. `name` contains the country's name,\n",
    "1. `region` contains the country's region from the `world_4region` column of `countries`,\n",
    "1. `poverty_total` contains the country's poverty total.\n",
    "\n",
    "<!--\n",
    "BEGIN QUESTION\n",
    "name: q2_4\n",
    "-->"
   ]
  },
  {
   "cell_type": "code",
   "execution_count": 110,
   "metadata": {
    "deletable": false
   },
   "outputs": [
    {
     "data": {
      "text/html": [
       "<table border=\"1\" class=\"dataframe\">\n",
       "    <thead>\n",
       "        <tr>\n",
       "            <th>latitude</th> <th>longitude</th> <th>name</th> <th>region</th> <th>poverty_total</th>\n",
       "        </tr>\n",
       "    </thead>\n",
       "    <tbody>\n",
       "        <tr>\n",
       "            <td>-12.5   </td> <td>18.5     </td> <td>Angola    </td> <td>africa  </td> <td>1.01296e+07  </td>\n",
       "        </tr>\n",
       "        <tr>\n",
       "            <td>41      </td> <td>20       </td> <td>Albania   </td> <td>europe  </td> <td>13561        </td>\n",
       "        </tr>\n",
       "        <tr>\n",
       "            <td>-34     </td> <td>-64      </td> <td>Argentina </td> <td>americas</td> <td>576630       </td>\n",
       "        </tr>\n",
       "        <tr>\n",
       "            <td>40.25   </td> <td>45       </td> <td>Armenia   </td> <td>europe  </td> <td>50353        </td>\n",
       "        </tr>\n",
       "        <tr>\n",
       "            <td>-25     </td> <td>135      </td> <td>Australia </td> <td>asia    </td> <td>301304       </td>\n",
       "        </tr>\n",
       "        <tr>\n",
       "            <td>47.3333 </td> <td>13.3333  </td> <td>Austria   </td> <td>europe  </td> <td>28594        </td>\n",
       "        </tr>\n",
       "        <tr>\n",
       "            <td>40.5    </td> <td>47.5     </td> <td>Azerbaijan</td> <td>europe  </td> <td>28001        </td>\n",
       "        </tr>\n",
       "        <tr>\n",
       "            <td>-3.5    </td> <td>30       </td> <td>Burundi   </td> <td>africa  </td> <td>7.055e+06    </td>\n",
       "        </tr>\n",
       "        <tr>\n",
       "            <td>50.75   </td> <td>4.5      </td> <td>Belgium   </td> <td>europe  </td> <td>54694        </td>\n",
       "        </tr>\n",
       "        <tr>\n",
       "            <td>9.5     </td> <td>2.25     </td> <td>Benin     </td> <td>africa  </td> <td>4.74774e+06  </td>\n",
       "        </tr>\n",
       "    </tbody>\n",
       "</table>\n",
       "<p>... (135 rows omitted)</p>"
      ],
      "text/plain": [
       "latitude | longitude | name       | region   | poverty_total\n",
       "-12.5    | 18.5      | Angola     | africa   | 1.01296e+07\n",
       "41       | 20        | Albania    | europe   | 13561\n",
       "-34      | -64       | Argentina  | americas | 576630\n",
       "40.25    | 45        | Armenia    | europe   | 50353\n",
       "-25      | 135       | Australia  | asia     | 301304\n",
       "47.3333  | 13.3333   | Austria    | europe   | 28594\n",
       "40.5     | 47.5      | Azerbaijan | europe   | 28001\n",
       "-3.5     | 30        | Burundi    | africa   | 7.055e+06\n",
       "50.75    | 4.5       | Belgium    | europe   | 54694\n",
       "9.5      | 2.25      | Benin      | africa   | 4.74774e+06\n",
       "... (135 rows omitted)"
      ]
     },
     "execution_count": 110,
     "metadata": {},
     "output_type": "execute_result"
    }
   ],
   "source": [
    "poverty_map = countries.join('country', recent_poverty_total, 'geo').select('latitude', 'longitude', 'name', 'world_4region', 'poverty_total').relabeled('world_4region', 'region')\n",
    "poverty_map"
   ]
  },
  {
   "cell_type": "code",
   "execution_count": 111,
   "metadata": {
    "deletable": false,
    "editable": false
   },
   "outputs": [
    {
     "name": "stdout",
     "output_type": "stream",
     "text": [
      "~~~~~~~~~~~~~~~~~~~~~~~~~~~~~~~~~~~~~~~~~~~~~~~~~~~~~~~~~~~~~~~~~~~~~\n",
      "Running tests\n",
      "\n",
      "---------------------------------------------------------------------\n",
      "Test summary\n",
      "    Passed: 2\n",
      "    Failed: 0\n",
      "[ooooooooook] 100.0% passed\n",
      "\n"
     ]
    }
   ],
   "source": [
    "ok.grade(\"q2_4\");"
   ]
  },
  {
   "cell_type": "markdown",
   "metadata": {
    "deletable": false,
    "editable": false
   },
   "source": [
    "Run the cell below to draw a map of the world in which the areas of circles represent the number of people living in extreme poverty. Double-click on the map to zoom in."
   ]
  },
  {
   "cell_type": "code",
   "execution_count": 112,
   "metadata": {
    "deletable": false,
    "editable": false
   },
   "outputs": [
    {
     "data": {
      "text/html": [
       "<div style=\"width:100%;\"><div style=\"position:relative;width:100%;height:0;padding-bottom:60%;\"><span style=\"color:#565656\">Make this Notebook Trusted to load map: File -> Trust Notebook</span><iframe src=\"about:blank\" style=\"position:absolute;width:100%;height:100%;left:0;top:0;border:none !important;\" data-html=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 onload=\"this.contentDocument.open();this.contentDocument.write(atob(this.getAttribute('data-html')));this.contentDocument.close();\" allowfullscreen webkitallowfullscreen mozallowfullscreen></iframe></div></div>"
      ],
      "text/plain": [
       "<datascience.maps.Map at 0x7f7450ce2f40>"
      ]
     },
     "execution_count": 112,
     "metadata": {},
     "output_type": "execute_result"
    }
   ],
   "source": [
    "# It may take a few seconds to generate this map.\n",
    "colors = {'africa': 'blue', 'europe': 'black', 'asia': 'red', 'americas': 'green'}\n",
    "scaled = poverty_map.with_columns(\n",
    "    'poverty_total', 1e-4 * poverty_map.column('poverty_total'),\n",
    "    'region', poverty_map.apply(colors.get, 'region')\n",
    ")\n",
    "Circle.map_table(scaled)"
   ]
  },
  {
   "cell_type": "markdown",
   "metadata": {
    "deletable": false,
    "editable": false
   },
   "source": [
    "Although people live in extreme poverty throughout the world (with more than 5 million in the United States), the largest numbers are in Asia and Africa."
   ]
  },
  {
   "cell_type": "markdown",
   "metadata": {
    "deletable": false,
    "editable": false
   },
   "source": [
    "**Question 5.** Assign `largest` to a two-column table with the `name` (not the 3-letter code) and `poverty_total` of the 10 countries with the largest number of people living in extreme poverty.\n",
    "\n",
    "<!--\n",
    "BEGIN QUESTION\n",
    "name: q2_5\n",
    "-->"
   ]
  },
  {
   "cell_type": "code",
   "execution_count": 113,
   "metadata": {
    "deletable": false
   },
   "outputs": [
    {
     "data": {
      "text/html": [
       "<table border=\"1\" class=\"dataframe\">\n",
       "    <thead>\n",
       "        <tr>\n",
       "            <th>name</th> <th>poverty_total</th>\n",
       "        </tr>\n",
       "    </thead>\n",
       "    <tbody>\n",
       "        <tr>\n",
       "            <td>India           </td> <td>291,660,639.00</td>\n",
       "        </tr>\n",
       "        <tr>\n",
       "            <td>Nigeria         </td> <td>98,319,537.00 </td>\n",
       "        </tr>\n",
       "        <tr>\n",
       "            <td>China           </td> <td>85,687,544.00 </td>\n",
       "        </tr>\n",
       "        <tr>\n",
       "            <td>Bangladesh      </td> <td>63,826,375.00 </td>\n",
       "        </tr>\n",
       "        <tr>\n",
       "            <td>Congo, Dem. Rep.</td> <td>56,635,412.00 </td>\n",
       "        </tr>\n",
       "        <tr>\n",
       "            <td>Indonesia       </td> <td>39,177,145.00 </td>\n",
       "        </tr>\n",
       "        <tr>\n",
       "            <td>Ethiopia        </td> <td>32,242,742.00 </td>\n",
       "        </tr>\n",
       "        <tr>\n",
       "            <td>Pakistan        </td> <td>22,858,700.00 </td>\n",
       "        </tr>\n",
       "        <tr>\n",
       "            <td>Tanzania        </td> <td>19,281,872.00 </td>\n",
       "        </tr>\n",
       "        <tr>\n",
       "            <td>Madagascar      </td> <td>18,543,643.00 </td>\n",
       "        </tr>\n",
       "    </tbody>\n",
       "</table>"
      ],
      "text/plain": [
       "name             | poverty_total\n",
       "India            | 291,660,639.00\n",
       "Nigeria          | 98,319,537.00\n",
       "China            | 85,687,544.00\n",
       "Bangladesh       | 63,826,375.00\n",
       "Congo, Dem. Rep. | 56,635,412.00\n",
       "Indonesia        | 39,177,145.00\n",
       "Ethiopia         | 32,242,742.00\n",
       "Pakistan         | 22,858,700.00\n",
       "Tanzania         | 19,281,872.00\n",
       "Madagascar       | 18,543,643.00"
      ]
     },
     "execution_count": 113,
     "metadata": {},
     "output_type": "execute_result"
    }
   ],
   "source": [
    "largest = poverty_map.select('name','poverty_total').sort('poverty_total', descending = True).take(range(0,10))\n",
    "largest.set_format('poverty_total', NumberFormatter)"
   ]
  },
  {
   "cell_type": "code",
   "execution_count": 114,
   "metadata": {
    "deletable": false,
    "editable": false
   },
   "outputs": [
    {
     "name": "stdout",
     "output_type": "stream",
     "text": [
      "~~~~~~~~~~~~~~~~~~~~~~~~~~~~~~~~~~~~~~~~~~~~~~~~~~~~~~~~~~~~~~~~~~~~~\n",
      "Running tests\n",
      "\n",
      "---------------------------------------------------------------------\n",
      "Test summary\n",
      "    Passed: 3\n",
      "    Failed: 0\n",
      "[ooooooooook] 100.0% passed\n",
      "\n"
     ]
    }
   ],
   "source": [
    "ok.grade(\"q2_5\");"
   ]
  },
  {
   "cell_type": "markdown",
   "metadata": {
    "deletable": false
   },
   "source": [
    "**Question 6.** Write a function called `poverty_timeline` that takes **the name of a country** as its argument. It should draw a line plot of the number of people living in poverty in that country with time on the horizontal axis. The line plot should have a point for each row in the `poverty` table for that country. To compute the population living in poverty from a poverty percentage, multiply by the population of the country **in that year**.\n",
    "\n",
    "*Hint:* This question is long. Feel free to create cells and experiment. "
   ]
  },
  {
   "cell_type": "code",
   "execution_count": 116,
   "metadata": {},
   "outputs": [],
   "source": [
    "def poverty_timeline(country):\n",
    "    '''Draw a timeline of people living in extreme poverty in a country.'''\n",
    "    geo = countries.where('name', country).column('country').item(0)\n",
    "    country_poverty = poverty.where('geo', geo)\n",
    "    poverty_and_population = country_poverty.join('time', population.where('geo', geo))\n",
    "    p_and_p = poverty_and_population.with_columns('total_poverty', poverty_and_population.column('extreme_poverty_percent_people_below_125_a_day') * poverty_and_population.column('population_total') / 100)\n",
    "    return p_and_p.plot('time', 'total_poverty')\n",
    "    # This solution will take multiple lines of code. Use as many as you need"
   ]
  },
  {
   "cell_type": "markdown",
   "metadata": {
    "deletable": false,
    "editable": false
   },
   "source": [
    "Finally, draw the timelines below to see how the world is changing. You can check your work by comparing your graphs to the ones on [gapminder.org](https://www.gapminder.org/tools/#$state$entities$show$country$/$in@=ind;;;;&marker$axis_y$which=number_of_people_in_poverty&scaleType=linear&spaceRef:null;;;&chart-type=linechart).\n",
    "\n",
    "<!--\n",
    "BEGIN QUESTION\n",
    "name: q2_6\n",
    "manual: true\n",
    "-->\n",
    "<!-- EXPORT TO PDF -->"
   ]
  },
  {
   "cell_type": "code",
   "execution_count": 118,
   "metadata": {
    "export_pdf": true
   },
   "outputs": [
    {
     "data": {
      "image/png": "[encoded data removed]",
      "text/plain": [
       "<Figure size 432x288 with 1 Axes>"
      ]
     },
     "metadata": {},
     "output_type": "display_data"
    },
    {
     "data": {
      "image/png": "[encoded data removed]",
      "text/plain": [
       "<Figure size 432x288 with 1 Axes>"
      ]
     },
     "metadata": {},
     "output_type": "display_data"
    },
    {
     "data": {
      "image/png": "[encoded data removed]",
      "text/plain": [
       "<Figure size 432x288 with 1 Axes>"
      ]
     },
     "metadata": {},
     "output_type": "display_data"
    },
    {
     "data": {
      "image/png": "[encoded data removed]",
      "text/plain": [
       "<Figure size 432x288 with 1 Axes>"
      ]
     },
     "metadata": {},
     "output_type": "display_data"
    }
   ],
   "source": [
    "poverty_timeline('India')\n",
    "poverty_timeline('Nigeria')\n",
    "poverty_timeline('China')\n",
    "poverty_timeline('United States')"
   ]
  },
  {
   "cell_type": "markdown",
   "metadata": {
    "deletable": false,
    "editable": false
   },
   "source": [
    "Although the number of people living in extreme poverty has been increasing in Nigeria and the United States, the massive decreases in China and India have shaped the overall trend that extreme poverty is decreasing worldwide, both in percentage and in absolute number. \n",
    "\n",
    "To learn more, watch [Hans Rosling in a 2015 film](https://www.gapminder.org/videos/dont-panic-end-poverty/) about the UN goal of eradicating extreme poverty from the world. \n",
    "\n",
    "Below, we've also added an interactive dropdown menu for you to visualize `poverty_timeline` graphs for other countries. Note that each dropdown menu selection may take a few seconds to run."
   ]
  },
  {
   "cell_type": "code",
   "execution_count": 119,
   "metadata": {
    "deletable": false,
    "editable": false
   },
   "outputs": [
    {
     "data": {
      "application/vnd.jupyter.widget-view+json": {
       "model_id": "dd1a31e6acb7400da509ffe5fa9cecfa",
       "version_major": 2,
       "version_minor": 0
      },
      "text/plain": [
       "interactive(children=(Dropdown(description='country', options=('Angola', 'Albania', 'Argentina', 'Armenia', 'A…"
      ]
     },
     "metadata": {},
     "output_type": "display_data"
    }
   ],
   "source": [
    "# Just run this cell\n",
    "\n",
    "all_countries = poverty_map.column('name')\n",
    "_ = widgets.interact(poverty_timeline, country=list(all_countries))"
   ]
  },
  {
   "cell_type": "markdown",
   "metadata": {
    "deletable": false,
    "editable": false
   },
   "source": [
    "**You're finished!** Congratulations on mastering data visualization and table manipulation. Time to submit."
   ]
  },
  {
   "cell_type": "markdown",
   "metadata": {},
   "source": [
    "## 3. Submission\n"
   ]
  },
  {
   "cell_type": "markdown",
   "metadata": {
    "collapsed": true
   },
   "source": [
    "Once you're finished, select \"Save and Checkpoint\" in the File menu and then execute the `submit` cell below. The result will contain a link that you can use to check that your assignment has been submitted successfully. If you submit more than once before the deadline, we will only grade your final submission. If you mistakenly submit the wrong one, you can head to [okpy.org](https://okpy.org/) and flag the correct version. To do so, go to the website, click on this assignment, and find the version you would like to have graded. There should be an option to flag that submission for grading!"
   ]
  },
  {
   "cell_type": "code",
   "execution_count": null,
   "metadata": {},
   "outputs": [],
   "source": [
    "_ = ok.submit()"
   ]
  },
  {
   "cell_type": "code",
   "execution_count": 121,
   "metadata": {},
   "outputs": [
    {
     "name": "stdout",
     "output_type": "stream",
     "text": [
      "Running all tests...\n",
      "~~~~~~~~~~~~~~~~~~~~~~~~~~~~~~~~~~~~~~~~~~~~~~~~~~~~~~~~~~~~~~~~~~~~~\n",
      "Running tests\n",
      "\n",
      "---------------------------------------------------------------------\n",
      "Test summary\n",
      "    Passed: 2\n",
      "    Failed: 0\n",
      "[ooooooooook] 100.0% passed\n",
      "\n",
      "~~~~~~~~~~~~~~~~~~~~~~~~~~~~~~~~~~~~~~~~~~~~~~~~~~~~~~~~~~~~~~~~~~~~~\n",
      "Running tests\n",
      "\n",
      "---------------------------------------------------------------------\n",
      "Test summary\n",
      "    Passed: 4\n",
      "    Failed: 0\n",
      "[ooooooooook] 100.0% passed\n",
      "\n",
      "~~~~~~~~~~~~~~~~~~~~~~~~~~~~~~~~~~~~~~~~~~~~~~~~~~~~~~~~~~~~~~~~~~~~~\n",
      "Running tests\n",
      "\n",
      "---------------------------------------------------------------------\n",
      "Test summary\n",
      "    Passed: 2\n",
      "    Failed: 0\n",
      "[ooooooooook] 100.0% passed\n",
      "\n",
      "~~~~~~~~~~~~~~~~~~~~~~~~~~~~~~~~~~~~~~~~~~~~~~~~~~~~~~~~~~~~~~~~~~~~~\n",
      "Running tests\n",
      "\n",
      "---------------------------------------------------------------------\n",
      "Test summary\n",
      "    Passed: 4\n",
      "    Failed: 0\n",
      "[ooooooooook] 100.0% passed\n",
      "\n",
      "~~~~~~~~~~~~~~~~~~~~~~~~~~~~~~~~~~~~~~~~~~~~~~~~~~~~~~~~~~~~~~~~~~~~~\n",
      "Running tests\n",
      "\n",
      "---------------------------------------------------------------------\n",
      "Test summary\n",
      "    Passed: 2\n",
      "    Failed: 0\n",
      "[ooooooooook] 100.0% passed\n",
      "\n",
      "~~~~~~~~~~~~~~~~~~~~~~~~~~~~~~~~~~~~~~~~~~~~~~~~~~~~~~~~~~~~~~~~~~~~~\n",
      "Running tests\n",
      "\n",
      "---------------------------------------------------------------------\n",
      "Test summary\n",
      "    Passed: 1\n",
      "    Failed: 0\n",
      "[ooooooooook] 100.0% passed\n",
      "\n",
      "~~~~~~~~~~~~~~~~~~~~~~~~~~~~~~~~~~~~~~~~~~~~~~~~~~~~~~~~~~~~~~~~~~~~~\n",
      "Running tests\n",
      "\n",
      "---------------------------------------------------------------------\n",
      "Test summary\n",
      "    Passed: 2\n",
      "    Failed: 0\n",
      "[ooooooooook] 100.0% passed\n",
      "\n",
      "~~~~~~~~~~~~~~~~~~~~~~~~~~~~~~~~~~~~~~~~~~~~~~~~~~~~~~~~~~~~~~~~~~~~~\n",
      "Running tests\n",
      "\n",
      "---------------------------------------------------------------------\n",
      "Test summary\n",
      "    Passed: 3\n",
      "    Failed: 0\n",
      "[ooooooooook] 100.0% passed\n",
      "\n",
      "~~~~~~~~~~~~~~~~~~~~~~~~~~~~~~~~~~~~~~~~~~~~~~~~~~~~~~~~~~~~~~~~~~~~~\n",
      "Running tests\n",
      "\n",
      "---------------------------------------------------------------------\n",
      "Test summary\n",
      "    Passed: 2\n",
      "    Failed: 0\n",
      "[ooooooooook] 100.0% passed\n",
      "\n",
      "~~~~~~~~~~~~~~~~~~~~~~~~~~~~~~~~~~~~~~~~~~~~~~~~~~~~~~~~~~~~~~~~~~~~~\n",
      "Running tests\n",
      "\n",
      "---------------------------------------------------------------------\n",
      "Test summary\n",
      "    Passed: 1\n",
      "    Failed: 0\n",
      "[ooooooooook] 100.0% passed\n",
      "\n",
      "~~~~~~~~~~~~~~~~~~~~~~~~~~~~~~~~~~~~~~~~~~~~~~~~~~~~~~~~~~~~~~~~~~~~~\n",
      "Running tests\n",
      "\n",
      "---------------------------------------------------------------------\n",
      "Test summary\n",
      "    Passed: 2\n",
      "    Failed: 0\n",
      "[ooooooooook] 100.0% passed\n",
      "\n",
      "~~~~~~~~~~~~~~~~~~~~~~~~~~~~~~~~~~~~~~~~~~~~~~~~~~~~~~~~~~~~~~~~~~~~~\n",
      "Running tests\n",
      "\n",
      "---------------------------------------------------------------------\n",
      "Test summary\n",
      "    Passed: 3\n",
      "    Failed: 0\n",
      "[ooooooooook] 100.0% passed\n",
      "\n",
      "~~~~~~~~~~~~~~~~~~~~~~~~~~~~~~~~~~~~~~~~~~~~~~~~~~~~~~~~~~~~~~~~~~~~~\n",
      "Running tests\n",
      "\n",
      "---------------------------------------------------------------------\n",
      "Test summary\n",
      "    Passed: 1\n",
      "    Failed: 0\n",
      "[ooooooooook] 100.0% passed\n",
      "\n",
      "~~~~~~~~~~~~~~~~~~~~~~~~~~~~~~~~~~~~~~~~~~~~~~~~~~~~~~~~~~~~~~~~~~~~~\n",
      "Running tests\n",
      "\n",
      "---------------------------------------------------------------------\n",
      "Test summary\n",
      "    Passed: 2\n",
      "    Failed: 0\n",
      "[ooooooooook] 100.0% passed\n",
      "\n",
      "~~~~~~~~~~~~~~~~~~~~~~~~~~~~~~~~~~~~~~~~~~~~~~~~~~~~~~~~~~~~~~~~~~~~~\n",
      "Running tests\n",
      "\n",
      "---------------------------------------------------------------------\n",
      "Test summary\n",
      "    Passed: 3\n",
      "    Failed: 0\n",
      "[ooooooooook] 100.0% passed\n",
      "\n",
      "Finished running all tests.\n"
     ]
    }
   ],
   "source": [
    "# For your convenience, you can run this cell to run all the tests at once!\n",
    "import os\n",
    "print(\"Running all tests...\")\n",
    "_ = [ok.grade(q[:-3]) for q in os.listdir(\"tests\") if q.startswith('q') and len(q) <= 10]\n",
    "print(\"Finished running all tests.\")"
   ]
  },
  {
   "cell_type": "code",
   "execution_count": null,
   "metadata": {},
   "outputs": [],
   "source": []
  }
 ],
 "metadata": {
  "kernelspec": {
   "display_name": "Python 3",
   "language": "python",
   "name": "python3"
  },
  "language_info": {
   "codemirror_mode": {
    "name": "ipython",
    "version": 3
   },
   "file_extension": ".py",
   "mimetype": "text/x-python",
   "name": "python",
   "nbconvert_exporter": "python",
   "pygments_lexer": "ipython3",
   "version": "3.8.5"
  },
  "widgets": {
   "application/vnd.jupyter.widget-state+json": {
    "state": {
     "0114ad3078db4a479337bcd8224e55d9": {
      "model_module": "@jupyter-widgets/output",
      "model_module_version": "1.0.0",
      "model_name": "OutputModel",
      "state": {
       "_dom_classes": [],
       "_model_module": "@jupyter-widgets/output",
       "_model_module_version": "1.0.0",
       "_model_name": "OutputModel",
       "_view_count": null,
       "_view_module": "@jupyter-widgets/output",
       "_view_module_version": "1.0.0",
       "_view_name": "OutputView",
       "layout": "IPY_MODEL_276443f35cda42e09201faaf8fac6497",
       "msg_id": "",
       "outputs": []
      }
     },
     "1fc6398f14e044cc8a1ce8551989183b": {
      "model_module": "@jupyter-widgets/controls",
      "model_module_version": "1.5.0",
      "model_name": "DescriptionStyleModel",
      "state": {
       "_model_module": "@jupyter-widgets/controls",
       "_model_module_version": "1.5.0",
       "_model_name": "DescriptionStyleModel",
       "_view_count": null,
       "_view_module": "@jupyter-widgets/base",
       "_view_module_version": "1.2.0",
       "_view_name": "StyleView",
       "description_width": ""
      }
     },
     "276443f35cda42e09201faaf8fac6497": {
      "model_module": "@jupyter-widgets/base",
      "model_module_version": "1.2.0",
      "model_name": "LayoutModel",
      "state": {
       "_model_module": "@jupyter-widgets/base",
       "_model_module_version": "1.2.0",
       "_model_name": "LayoutModel",
       "_view_count": null,
       "_view_module": "@jupyter-widgets/base",
       "_view_module_version": "1.2.0",
       "_view_name": "LayoutView",
       "align_content": null,
       "align_items": null,
       "align_self": null,
       "border": null,
       "bottom": null,
       "display": null,
       "flex": null,
       "flex_flow": null,
       "grid_area": null,
       "grid_auto_columns": null,
       "grid_auto_flow": null,
       "grid_auto_rows": null,
       "grid_column": null,
       "grid_gap": null,
       "grid_row": null,
       "grid_template_areas": null,
       "grid_template_columns": null,
       "grid_template_rows": null,
       "height": null,
       "justify_content": null,
       "justify_items": null,
       "left": null,
       "margin": null,
       "max_height": null,
       "max_width": null,
       "min_height": null,
       "min_width": null,
       "object_fit": null,
       "object_position": null,
       "order": null,
       "overflow": null,
       "overflow_x": null,
       "overflow_y": null,
       "padding": null,
       "right": null,
       "top": null,
       "visibility": null,
       "width": null
      }
     },
     "39a97358d3644570ac526587d88af5e2": {
      "model_module": "@jupyter-widgets/base",
      "model_module_version": "1.2.0",
      "model_name": "LayoutModel",
      "state": {
       "_model_module": "@jupyter-widgets/base",
       "_model_module_version": "1.2.0",
       "_model_name": "LayoutModel",
       "_view_count": null,
       "_view_module": "@jupyter-widgets/base",
       "_view_module_version": "1.2.0",
       "_view_name": "LayoutView",
       "align_content": null,
       "align_items": null,
       "align_self": null,
       "border": null,
       "bottom": null,
       "display": null,
       "flex": null,
       "flex_flow": null,
       "grid_area": null,
       "grid_auto_columns": null,
       "grid_auto_flow": null,
       "grid_auto_rows": null,
       "grid_column": null,
       "grid_gap": null,
       "grid_row": null,
       "grid_template_areas": null,
       "grid_template_columns": null,
       "grid_template_rows": null,
       "height": null,
       "justify_content": null,
       "justify_items": null,
       "left": null,
       "margin": null,
       "max_height": null,
       "max_width": null,
       "min_height": null,
       "min_width": null,
       "object_fit": null,
       "object_position": null,
       "order": null,
       "overflow": null,
       "overflow_x": null,
       "overflow_y": null,
       "padding": null,
       "right": null,
       "top": null,
       "visibility": null,
       "width": null
      }
     },
     "3dfe7b5d2ce74e899172561709d82350": {
      "model_module": "@jupyter-widgets/controls",
      "model_module_version": "1.5.0",
      "model_name": "VBoxModel",
      "state": {
       "_dom_classes": [
        "widget-interact"
       ],
       "_model_module": "@jupyter-widgets/controls",
       "_model_module_version": "1.5.0",
       "_model_name": "VBoxModel",
       "_view_count": null,
       "_view_module": "@jupyter-widgets/controls",
       "_view_module_version": "1.5.0",
       "_view_name": "VBoxView",
       "box_style": "",
       "children": [
        "IPY_MODEL_3fb826043d5742f9a82dafdfe3e9118a",
        "IPY_MODEL_0114ad3078db4a479337bcd8224e55d9"
       ],
       "layout": "IPY_MODEL_412ca64f26df4d008cd7fb497105e0c9"
      }
     },
     "3fb826043d5742f9a82dafdfe3e9118a": {
      "model_module": "@jupyter-widgets/controls",
      "model_module_version": "1.5.0",
      "model_name": "IntSliderModel",
      "state": {
       "_dom_classes": [],
       "_model_module": "@jupyter-widgets/controls",
       "_model_module_version": "1.5.0",
       "_model_name": "IntSliderModel",
       "_view_count": null,
       "_view_module": "@jupyter-widgets/controls",
       "_view_module_version": "1.5.0",
       "_view_name": "IntSliderView",
       "continuous_update": true,
       "description": "year",
       "description_tooltip": null,
       "disabled": false,
       "layout": "IPY_MODEL_39a97358d3644570ac526587d88af5e2",
       "max": 2015,
       "min": 1960,
       "orientation": "horizontal",
       "readout": true,
       "readout_format": "d",
       "step": 1,
       "style": "IPY_MODEL_61002bda6285462685d2226a7acce16e",
       "value": 1960
      }
     },
     "412ca64f26df4d008cd7fb497105e0c9": {
      "model_module": "@jupyter-widgets/base",
      "model_module_version": "1.2.0",
      "model_name": "LayoutModel",
      "state": {
       "_model_module": "@jupyter-widgets/base",
       "_model_module_version": "1.2.0",
       "_model_name": "LayoutModel",
       "_view_count": null,
       "_view_module": "@jupyter-widgets/base",
       "_view_module_version": "1.2.0",
       "_view_name": "LayoutView",
       "align_content": null,
       "align_items": null,
       "align_self": null,
       "border": null,
       "bottom": null,
       "display": null,
       "flex": null,
       "flex_flow": null,
       "grid_area": null,
       "grid_auto_columns": null,
       "grid_auto_flow": null,
       "grid_auto_rows": null,
       "grid_column": null,
       "grid_gap": null,
       "grid_row": null,
       "grid_template_areas": null,
       "grid_template_columns": null,
       "grid_template_rows": null,
       "height": null,
       "justify_content": null,
       "justify_items": null,
       "left": null,
       "margin": null,
       "max_height": null,
       "max_width": null,
       "min_height": null,
       "min_width": null,
       "object_fit": null,
       "object_position": null,
       "order": null,
       "overflow": null,
       "overflow_x": null,
       "overflow_y": null,
       "padding": null,
       "right": null,
       "top": null,
       "visibility": null,
       "width": null
      }
     },
     "5db3af59349b40ac8412ede7fb796fa8": {
      "model_module": "@jupyter-widgets/base",
      "model_module_version": "1.2.0",
      "model_name": "LayoutModel",
      "state": {
       "_model_module": "@jupyter-widgets/base",
       "_model_module_version": "1.2.0",
       "_model_name": "LayoutModel",
       "_view_count": null,
       "_view_module": "@jupyter-widgets/base",
       "_view_module_version": "1.2.0",
       "_view_name": "LayoutView",
       "align_content": null,
       "align_items": null,
       "align_self": null,
       "border": null,
       "bottom": null,
       "display": null,
       "flex": null,
       "flex_flow": null,
       "grid_area": null,
       "grid_auto_columns": null,
       "grid_auto_flow": null,
       "grid_auto_rows": null,
       "grid_column": null,
       "grid_gap": null,
       "grid_row": null,
       "grid_template_areas": null,
       "grid_template_columns": null,
       "grid_template_rows": null,
       "height": null,
       "justify_content": null,
       "justify_items": null,
       "left": null,
       "margin": null,
       "max_height": null,
       "max_width": null,
       "min_height": null,
       "min_width": null,
       "object_fit": null,
       "object_position": null,
       "order": null,
       "overflow": null,
       "overflow_x": null,
       "overflow_y": null,
       "padding": null,
       "right": null,
       "top": null,
       "visibility": null,
       "width": null
      }
     },
     "61002bda6285462685d2226a7acce16e": {
      "model_module": "@jupyter-widgets/controls",
      "model_module_version": "1.5.0",
      "model_name": "SliderStyleModel",
      "state": {
       "_model_module": "@jupyter-widgets/controls",
       "_model_module_version": "1.5.0",
       "_model_name": "SliderStyleModel",
       "_view_count": null,
       "_view_module": "@jupyter-widgets/base",
       "_view_module_version": "1.2.0",
       "_view_name": "StyleView",
       "description_width": "",
       "handle_color": null
      }
     },
     "68fb317c917a438c9bc95cd1c03b30da": {
      "model_module": "@jupyter-widgets/controls",
      "model_module_version": "1.5.0",
      "model_name": "VBoxModel",
      "state": {
       "_dom_classes": [
        "widget-interact"
       ],
       "_model_module": "@jupyter-widgets/controls",
       "_model_module_version": "1.5.0",
       "_model_name": "VBoxModel",
       "_view_count": null,
       "_view_module": "@jupyter-widgets/controls",
       "_view_module_version": "1.5.0",
       "_view_name": "VBoxView",
       "box_style": "",
       "children": [
        "IPY_MODEL_f139d990792a4256b383c9ba66ae8b71",
        "IPY_MODEL_c6ee9d742cb04fc4ac83408666ef5517"
       ],
       "layout": "IPY_MODEL_740df27b4b044ed5a30c7f4fbbec3400"
      }
     },
     "740df27b4b044ed5a30c7f4fbbec3400": {
      "model_module": "@jupyter-widgets/base",
      "model_module_version": "1.2.0",
      "model_name": "LayoutModel",
      "state": {
       "_model_module": "@jupyter-widgets/base",
       "_model_module_version": "1.2.0",
       "_model_name": "LayoutModel",
       "_view_count": null,
       "_view_module": "@jupyter-widgets/base",
       "_view_module_version": "1.2.0",
       "_view_name": "LayoutView",
       "align_content": null,
       "align_items": null,
       "align_self": null,
       "border": null,
       "bottom": null,
       "display": null,
       "flex": null,
       "flex_flow": null,
       "grid_area": null,
       "grid_auto_columns": null,
       "grid_auto_flow": null,
       "grid_auto_rows": null,
       "grid_column": null,
       "grid_gap": null,
       "grid_row": null,
       "grid_template_areas": null,
       "grid_template_columns": null,
       "grid_template_rows": null,
       "height": null,
       "justify_content": null,
       "justify_items": null,
       "left": null,
       "margin": null,
       "max_height": null,
       "max_width": null,
       "min_height": null,
       "min_width": null,
       "object_fit": null,
       "object_position": null,
       "order": null,
       "overflow": null,
       "overflow_x": null,
       "overflow_y": null,
       "padding": null,
       "right": null,
       "top": null,
       "visibility": null,
       "width": null
      }
     },
     "9439aab3cc9a47389ee68326026751d0": {
      "model_module": "@jupyter-widgets/base",
      "model_module_version": "1.2.0",
      "model_name": "LayoutModel",
      "state": {
       "_model_module": "@jupyter-widgets/base",
       "_model_module_version": "1.2.0",
       "_model_name": "LayoutModel",
       "_view_count": null,
       "_view_module": "@jupyter-widgets/base",
       "_view_module_version": "1.2.0",
       "_view_name": "LayoutView",
       "align_content": null,
       "align_items": null,
       "align_self": null,
       "border": null,
       "bottom": null,
       "display": null,
       "flex": null,
       "flex_flow": null,
       "grid_area": null,
       "grid_auto_columns": null,
       "grid_auto_flow": null,
       "grid_auto_rows": null,
       "grid_column": null,
       "grid_gap": null,
       "grid_row": null,
       "grid_template_areas": null,
       "grid_template_columns": null,
       "grid_template_rows": null,
       "height": null,
       "justify_content": null,
       "justify_items": null,
       "left": null,
       "margin": null,
       "max_height": null,
       "max_width": null,
       "min_height": null,
       "min_width": null,
       "object_fit": null,
       "object_position": null,
       "order": null,
       "overflow": null,
       "overflow_x": null,
       "overflow_y": null,
       "padding": null,
       "right": null,
       "top": null,
       "visibility": null,
       "width": null
      }
     },
     "c6ee9d742cb04fc4ac83408666ef5517": {
      "model_module": "@jupyter-widgets/output",
      "model_module_version": "1.0.0",
      "model_name": "OutputModel",
      "state": {
       "_dom_classes": [],
       "_model_module": "@jupyter-widgets/output",
       "_model_module_version": "1.0.0",
       "_model_name": "OutputModel",
       "_view_count": null,
       "_view_module": "@jupyter-widgets/output",
       "_view_module_version": "1.0.0",
       "_view_name": "OutputView",
       "layout": "IPY_MODEL_9439aab3cc9a47389ee68326026751d0",
       "msg_id": "",
       "outputs": []
      }
     },
     "f139d990792a4256b383c9ba66ae8b71": {
      "model_module": "@jupyter-widgets/controls",
      "model_module_version": "1.5.0",
      "model_name": "DropdownModel",
      "state": {
       "_dom_classes": [],
       "_model_module": "@jupyter-widgets/controls",
       "_model_module_version": "1.5.0",
       "_model_name": "DropdownModel",
       "_options_labels": [
        "Angola",
        "Albania",
        "Argentina",
        "Armenia",
        "Australia",
        "Austria",
        "Azerbaijan",
        "Burundi",
        "Belgium",
        "Benin",
        "Burkina Faso",
        "Bangladesh",
        "Bulgaria",
        "Bosnia and Herzegovina",
        "Belarus",
        "Belize",
        "Bolivia",
        "Brazil",
        "Bhutan",
        "Botswana",
        "Central African Republic",
        "Canada",
        "Switzerland",
        "Chile",
        "China",
        "Cote d'Ivoire",
        "Cameroon",
        "Congo, Dem. Rep.",
        "Congo, Rep.",
        "Colombia",
        "Comoros",
        "Cape Verde",
        "Costa Rica",
        "Czech Republic",
        "Germany",
        "Djibouti",
        "Denmark",
        "Dominican Republic",
        "Algeria",
        "Ecuador",
        "Egypt",
        "Spain",
        "Estonia",
        "Ethiopia",
        "Finland",
        "Fiji",
        "France",
        "Micronesia, Fed. Sts.",
        "Gabon",
        "United Kingdom",
        "Georgia",
        "Ghana",
        "Guinea",
        "Gambia",
        "Guinea-Bissau",
        "Greece",
        "Guatemala",
        "Guyana",
        "Honduras",
        "Croatia",
        "Haiti",
        "Hungary",
        "Indonesia",
        "India",
        "Ireland",
        "Iran",
        "Iraq",
        "Israel",
        "Italy",
        "Jamaica",
        "Jordan",
        "Japan",
        "Kazakhstan",
        "Kenya",
        "Kyrgyz Republic",
        "Cambodia",
        "Lao",
        "Liberia",
        "St. Lucia",
        "Sri Lanka",
        "Lesotho",
        "Lithuania",
        "Latvia",
        "Morocco",
        "Moldova",
        "Madagascar",
        "Maldives",
        "Mexico",
        "North Macedonia",
        "Mali",
        "Montenegro",
        "Mozambique",
        "Mauritania",
        "Malawi",
        "Malaysia",
        "Namibia",
        "Niger",
        "Nigeria",
        "Nicaragua",
        "Netherlands",
        "Norway",
        "Nepal",
        "Pakistan",
        "Panama",
        "Peru",
        "Philippines",
        "Papua New Guinea",
        "Poland",
        "Paraguay",
        "Palestine",
        "Romania",
        "Russia",
        "Rwanda",
        "Sudan",
        "Senegal",
        "Sierra Leone",
        "El Salvador",
        "Serbia",
        "Sao Tome and Principe",
        "Suriname",
        "Slovak Republic",
        "Slovenia",
        "Sweden",
        "Swaziland",
        "Seychelles",
        "Syria",
        "Chad",
        "Togo",
        "Thailand",
        "Tajikistan",
        "Turkmenistan",
        "Timor-Leste",
        "Trinidad and Tobago",
        "Tunisia",
        "Turkey",
        "Tanzania",
        "Uganda",
        "Ukraine",
        "Uruguay",
        "United States",
        "Venezuela",
        "Vietnam",
        "Yemen",
        "South Africa",
        "Zambia"
       ],
       "_view_count": null,
       "_view_module": "@jupyter-widgets/controls",
       "_view_module_version": "1.5.0",
       "_view_name": "DropdownView",
       "description": "country",
       "description_tooltip": null,
       "disabled": false,
       "index": 0,
       "layout": "IPY_MODEL_5db3af59349b40ac8412ede7fb796fa8",
       "style": "IPY_MODEL_1fc6398f14e044cc8a1ce8551989183b"
      }
     }
    },
    "version_major": 2,
    "version_minor": 0
   }
  }
 },
 "nbformat": 4,
 "nbformat_minor": 1
}
