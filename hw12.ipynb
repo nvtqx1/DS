{
 "cells": [
  {
   "cell_type": "code",
   "execution_count": 1,
   "metadata": {
    "deletable": false,
    "editable": false
   },
   "outputs": [
    {
     "name": "stdout",
     "output_type": "stream",
     "text": [
      "=====================================================================\n",
      "Assignment: Homework 12: Classification\n",
      "OK, version v1.18.1\n",
      "=====================================================================\n",
      "\n"
     ]
    }
   ],
   "source": [
    "# Initialize OK\n",
    "from client.api.notebook import Notebook\n",
    "ok = Notebook('hw12.ok')"
   ]
  },
  {
   "cell_type": "markdown",
   "metadata": {},
   "source": [
    "# Homework 12: Classification"
   ]
  },
  {
   "cell_type": "markdown",
   "metadata": {},
   "source": [
    "**Helpful Resource:**\n",
    "- [Python Reference](http://data8.org/fa20/python-reference.html): Cheat sheet of helpful array & table methods used in Data 8!\n",
    "\n",
    "**Reading**: \n",
    "* [Classification](https://www.inferentialthinking.com/chapters/17/classification.html)"
   ]
  },
  {
   "cell_type": "markdown",
   "metadata": {},
   "source": [
    "Please complete this notebook by filling in the cells provided. Before you begin, execute the following cell to load the provided tests. Each time you start your server, you will need to execute this cell again to load the tests.\n",
    "\n",
    "For all problems that you must write explanations and sentences for, you **must** provide your answer in the designated space. **Moreover, throughout this homework and all future ones, please be sure to not re-assign variables throughout the notebook!** For example, if you use `max_temperature` in your answer to one question, do not reassign it later on. Otherwise, you will fail tests that you thought you were passing previously!\n",
    "\n",
    "**Deadline:**\n",
    "\n",
    "This assignment is due Friday, December 4 at 11:59 P.M. PST. You will receive an early submission bonus point if you turn in your final submission by Thursday, December 3 at 11:59 P.M. PST. Late work will not be accepted as per the [policies](http://data8.org/fa20/policies.html) page.\n",
    "\n",
    "**Note: This homework has hidden tests on it. That means even though tests may say 100% passed, doesn't mean your final grade will be 100%. We will be running more tests for correctness once everyone turns in the homework.**\n",
    "\n",
    "Directly sharing answers is not okay, but discussing problems with the course staff or with other students is encouraged. Refer to the policies page to learn more about how to learn cooperatively.\n",
    "\n",
    "You should start early so that you have time to get help if you're stuck. Office hours are held Monday-Friday. The schedule appears on [http://data8.org/fa20/office-hours.html](http://data8.org/fa20/office-hours.html)."
   ]
  },
  {
   "cell_type": "code",
   "execution_count": 2,
   "metadata": {
    "scrolled": true
   },
   "outputs": [
    {
     "name": "stdout",
     "output_type": "stream",
     "text": [
      "=====================================================================\n",
      "Assignment: Homework 12: Classification\n",
      "OK, version v1.18.1\n",
      "=====================================================================\n",
      "\n",
      "Successfully logged in as aarushiwalia@berkeley.edu\n"
     ]
    }
   ],
   "source": [
    "# Don't change this cell; just run it. \n",
    "\n",
    "import numpy as np\n",
    "from datascience import *\n",
    "\n",
    "# These lines do some fancy plotting magic.\",\n",
    "import matplotlib\n",
    "%matplotlib inline\n",
    "import matplotlib.pyplot as plt\n",
    "plt.style.use('fivethirtyeight')\n",
    "import warnings\n",
    "warnings.simplefilter('ignore', FutureWarning)\n",
    "\n",
    "from client.api.notebook import *\n",
    "def new_save_notebook(self):\n",
    "    \"\"\" Saves the current notebook by\n",
    "        injecting JavaScript to save to .ipynb file.\n",
    "    \"\"\"\n",
    "    try:\n",
    "        from IPython.display import display, Javascript\n",
    "    except ImportError:\n",
    "        log.warning(\"Could not import IPython Display Function\")\n",
    "        print(\"Make sure to save your notebook before sending it to OK!\")\n",
    "        return\n",
    "\n",
    "    if self.mode == \"jupyter\":\n",
    "        display(Javascript('IPython.notebook.save_checkpoint();'))\n",
    "        display(Javascript('IPython.notebook.save_notebook();'))\n",
    "    elif self.mode == \"jupyterlab\":\n",
    "        display(Javascript('document.querySelector(\\'[data-command=\"docmanager:save\"]\\').click();'))   \n",
    "\n",
    "    print('Saving notebook...', end=' ')\n",
    "\n",
    "    ipynbs = [path for path in self.assignment.src\n",
    "              if os.path.splitext(path)[1] == '.ipynb']\n",
    "    # Wait for first .ipynb to save\n",
    "    if ipynbs:\n",
    "        if wait_for_save(ipynbs[0]):\n",
    "            print(\"Saved '{}'.\".format(ipynbs[0]))\n",
    "        else:\n",
    "            log.warning(\"Timed out waiting for IPython save\")\n",
    "            print(\"Could not automatically save \\'{}\\'\".format(ipynbs[0]))\n",
    "            print(\"Make sure your notebook\"\n",
    "                  \" is correctly named and saved before submitting to OK!\".format(ipynbs[0]))\n",
    "            return False                \n",
    "    else:\n",
    "        print(\"No valid file sources found\")\n",
    "    return True\n",
    "\n",
    "def wait_for_save(filename, timeout=600):\n",
    "    \"\"\"Waits for FILENAME to update, waiting up to TIMEOUT seconds.\n",
    "    Returns True if a save was detected, and False otherwise.\n",
    "    \"\"\"\n",
    "    modification_time = os.path.getmtime(filename)\n",
    "    start_time = time.time()\n",
    "    while time.time() < start_time + timeout:\n",
    "        if (os.path.getmtime(filename) > modification_time and\n",
    "            os.path.getsize(filename) > 0):\n",
    "            return True\n",
    "        time.sleep(0.2)\n",
    "    return False\n",
    "\n",
    "Notebook.save_notebook = new_save_notebook\n",
    "\n",
    "ok = Notebook('hw12.ok')\n",
    "_ = ok.auth(inline=True)"
   ]
  },
  {
   "cell_type": "markdown",
   "metadata": {},
   "source": [
    "Before continuing the assignment, select \"Save and Checkpoint\" in the File menu and then execute the submit cell below. The result will contain a link that you can use to check that your assignment has been submitted successfully. If you submit more than once before the deadline, we will only grade your final submission. If you mistakenly submit the wrong one, you can head to okpy.org and flag the correct version. There will be another submit cell at the end of the assignment when you finish!"
   ]
  },
  {
   "cell_type": "code",
   "execution_count": 2,
   "metadata": {},
   "outputs": [],
   "source": [
    "_ = ok.submit()"
   ]
  },
  {
   "cell_type": "markdown",
   "metadata": {},
   "source": [
    "## 1. Bay Area School Coordinates with Classification\n"
   ]
  },
  {
   "cell_type": "markdown",
   "metadata": {},
   "source": [
    "Welcome to Homework 12! This homework is about k-Nearest Neighbors classification (kNN). Since this topic is covered in depth in Project 3, the purpose of this homework is to reinforce the basics of this method. You can and should reuse a lot of code that you wrote for Project 3 for this homework, or use code from this homework on Project 3!"
   ]
  },
  {
   "cell_type": "markdown",
   "metadata": {},
   "source": [
    "## Our Dearest Neighbors"
   ]
  },
  {
   "cell_type": "markdown",
   "metadata": {},
   "source": [
    "Carol is trying classify students as either attendees of UC Berkeley or as attendees of Leland Stanford Junior College. To classify the students, Carol has access to the coordinates of the location they live during the school year. First, load in the `coordinates` table."
   ]
  },
  {
   "cell_type": "code",
   "execution_count": 3,
   "metadata": {
    "deletable": false,
    "editable": false
   },
   "outputs": [
    {
     "data": {
      "text/html": [
       "<table border=\"1\" class=\"dataframe\">\n",
       "    <thead>\n",
       "        <tr>\n",
       "            <th>latitude</th> <th>longitude</th> <th>school</th>\n",
       "        </tr>\n",
       "    </thead>\n",
       "    <tbody>\n",
       "        <tr>\n",
       "            <td>37.8693 </td> <td>-122.255 </td> <td>Berkeley</td>\n",
       "        </tr>\n",
       "        <tr>\n",
       "            <td>37.8651 </td> <td>-122.256 </td> <td>Berkeley</td>\n",
       "        </tr>\n",
       "        <tr>\n",
       "            <td>37.8661 </td> <td>-122.254 </td> <td>Berkeley</td>\n",
       "        </tr>\n",
       "        <tr>\n",
       "            <td>37.868  </td> <td>-122.26  </td> <td>Berkeley</td>\n",
       "        </tr>\n",
       "        <tr>\n",
       "            <td>37.8683 </td> <td>-122.257 </td> <td>Berkeley</td>\n",
       "        </tr>\n",
       "    </tbody>\n",
       "</table>\n",
       "<p>... (95 rows omitted)</p>"
      ],
      "text/plain": [
       "<IPython.core.display.HTML object>"
      ]
     },
     "metadata": {},
     "output_type": "display_data"
    }
   ],
   "source": [
    "# Just run this cell!\n",
    "coordinates = Table.read_table('coordinates.csv')\n",
    "coordinates.show(5)"
   ]
  },
  {
   "cell_type": "markdown",
   "metadata": {},
   "source": [
    "As usual, let's investigate our data visually before performing any kind of numerical analysis."
   ]
  },
  {
   "cell_type": "code",
   "execution_count": 4,
   "metadata": {
    "deletable": false,
    "editable": false
   },
   "outputs": [
    {
     "data": {
      "image/png": "[encoded data removed]",
      "text/plain": [
       "<Figure size 360x360 with 1 Axes>"
      ]
     },
     "metadata": {},
     "output_type": "display_data"
    }
   ],
   "source": [
    "# Just run this cell!\n",
    "coordinates.scatter(\"longitude\", \"latitude\", group=\"school\")"
   ]
  },
  {
   "cell_type": "markdown",
   "metadata": {},
   "source": [
    "The locations of the points on this scatter plot might be familiar - run the following cell to see what they correspond to."
   ]
  },
  {
   "cell_type": "code",
   "execution_count": 5,
   "metadata": {
    "deletable": false,
    "editable": false
   },
   "outputs": [
    {
     "data": {
      "text/html": [
       "<div style=\"width:100%;\"><div style=\"position:relative;width:100%;height:0;padding-bottom:60%;\"><span style=\"color:#565656\">Make this Notebook Trusted to load map: File -> Trust Notebook</span><iframe src=\"about:blank\" style=\"position:absolute;width:100%;height:100%;left:0;top:0;border:none !important;\" data-html=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 onload=\"this.contentDocument.open();this.contentDocument.write(atob(this.getAttribute('data-html')));this.contentDocument.close();\" allowfullscreen webkitallowfullscreen mozallowfullscreen></iframe></div></div>"
      ],
      "text/plain": [
       "<datascience.maps.Map at 0x7fa4642ed190>"
      ]
     },
     "execution_count": 5,
     "metadata": {},
     "output_type": "execute_result"
    }
   ],
   "source": [
    "# Just run this cell!\n",
    "colors = {\"Berkeley\":\"blue\", \"Stanford\":\"red\"}\n",
    "t = Table().with_columns(\"lat\", coordinates.column(0), \n",
    "                                      \"lon\", coordinates.column(1), \n",
    "                                      \"color\", coordinates.apply(colors.get, 2)\n",
    "                        )\n",
    "Circle.map_table(t, radius=5, fill_opacity=1)"
   ]
  },
  {
   "cell_type": "markdown",
   "metadata": {
    "deletable": false,
    "editable": false
   },
   "source": [
    "#### Question 1\n",
    "\n",
    "Let's begin implementing the k-Nearest Neighbors algorithm. Define the `distance` function, which takes in two arguments: an array of numerical features, and a different array of numerical features. The function should return the [Euclidean distance](https://en.wikipedia.org/wiki/Euclidean_distance) between the two arrays. Euclidean distance is often referred to as the straight-line distance formula that you may have learned previously.\n",
    "\n",
    "\n",
    "<!--\n",
    "BEGIN QUESTION\n",
    "name: q1_1\n",
    "manual: false\n",
    "-->"
   ]
  },
  {
   "cell_type": "code",
   "execution_count": 6,
   "metadata": {
    "deletable": false
   },
   "outputs": [
    {
     "data": {
      "text/plain": [
       "5.196152422706632"
      ]
     },
     "execution_count": 6,
     "metadata": {},
     "output_type": "execute_result"
    }
   ],
   "source": [
    "def distance(arr1, arr2):\n",
    "    return np.sum((arr1 - arr2)**2)**0.5\n",
    "\n",
    "# Don't change/delete the code below in this cell\n",
    "distance_example = distance(make_array(1, 2, 3), make_array(4, 5, 6))\n",
    "distance_example"
   ]
  },
  {
   "cell_type": "code",
   "execution_count": 7,
   "metadata": {
    "deletable": false,
    "editable": false
   },
   "outputs": [
    {
     "name": "stdout",
     "output_type": "stream",
     "text": [
      "~~~~~~~~~~~~~~~~~~~~~~~~~~~~~~~~~~~~~~~~~~~~~~~~~~~~~~~~~~~~~~~~~~~~~\n",
      "Running tests\n",
      "\n",
      "---------------------------------------------------------------------\n",
      "Test summary\n",
      "    Passed: 2\n",
      "    Failed: 0\n",
      "[ooooooooook] 100.0% passed\n",
      "\n"
     ]
    }
   ],
   "source": [
    "ok.grade(\"q1_1\");"
   ]
  },
  {
   "cell_type": "markdown",
   "metadata": {},
   "source": [
    "### Splitting the dataset\n",
    "We'll do 2 different kinds of things with the `coordinates` dataset:\n",
    "1. We'll build a classifier using coordinates for which we know the associated label; this will teach it to recognize labels of similar coordinate values. This process is known as *training*.\n",
    "2. We'll evaluate or *test* the accuracy of the classifier we build on data we haven't seen before.\n",
    "\n",
    "For reasons discussed in lecture and the textbook, we want to use separate datasets for these two purposes.  So we split up our one dataset into two."
   ]
  },
  {
   "cell_type": "markdown",
   "metadata": {
    "deletable": false,
    "editable": false
   },
   "source": [
    "#### Question 2\n",
    "\n",
    "Next, let's split our dataset into a training set and a test set. Since `coordinates` has $100$ rows, let's create a training set with the first 75 rows and a test set with the remaining 25 rows. Remember that assignment to each group should be random, so we should shuffle the table first.\n",
    "\n",
    "*Hint: as a first step we can shuffle all the rows, then use the* `tbl.take` *function to split up the rows for each table*\n",
    "\n",
    "\n",
    "<!--\n",
    "BEGIN QUESTION\n",
    "name: q1_2\n",
    "manual: false\n",
    "-->"
   ]
  },
  {
   "cell_type": "code",
   "execution_count": 8,
   "metadata": {
    "for_assignment_type": "solution"
   },
   "outputs": [
    {
     "name": "stdout",
     "output_type": "stream",
     "text": [
      "Training set:\t 75 examples\n",
      "Test set:\t 25 examples\n"
     ]
    },
    {
     "data": {
      "text/html": [
       "<table border=\"1\" class=\"dataframe\">\n",
       "    <thead>\n",
       "        <tr>\n",
       "            <th>latitude</th> <th>longitude</th> <th>school</th>\n",
       "        </tr>\n",
       "    </thead>\n",
       "    <tbody>\n",
       "        <tr>\n",
       "            <td>37.8768 </td> <td>-122.266 </td> <td>Berkeley</td>\n",
       "        </tr>\n",
       "        <tr>\n",
       "            <td>37.8685 </td> <td>-122.272 </td> <td>Berkeley</td>\n",
       "        </tr>\n",
       "        <tr>\n",
       "            <td>37.4281 </td> <td>-122.154 </td> <td>Stanford</td>\n",
       "        </tr>\n",
       "        <tr>\n",
       "            <td>37.8668 </td> <td>-122.254 </td> <td>Berkeley</td>\n",
       "        </tr>\n",
       "        <tr>\n",
       "            <td>37.8646 </td> <td>-122.25  </td> <td>Berkeley</td>\n",
       "        </tr>\n",
       "    </tbody>\n",
       "</table>\n",
       "<p>... (70 rows omitted)</p>"
      ],
      "text/plain": [
       "<IPython.core.display.HTML object>"
      ]
     },
     "metadata": {},
     "output_type": "display_data"
    },
    {
     "data": {
      "text/html": [
       "<table border=\"1\" class=\"dataframe\">\n",
       "    <thead>\n",
       "        <tr>\n",
       "            <th>latitude</th> <th>longitude</th> <th>school</th>\n",
       "        </tr>\n",
       "    </thead>\n",
       "    <tbody>\n",
       "        <tr>\n",
       "            <td>37.8768 </td> <td>-122.266 </td> <td>Berkeley</td>\n",
       "        </tr>\n",
       "        <tr>\n",
       "            <td>37.8685 </td> <td>-122.272 </td> <td>Berkeley</td>\n",
       "        </tr>\n",
       "        <tr>\n",
       "            <td>37.4281 </td> <td>-122.154 </td> <td>Stanford</td>\n",
       "        </tr>\n",
       "        <tr>\n",
       "            <td>37.8668 </td> <td>-122.254 </td> <td>Berkeley</td>\n",
       "        </tr>\n",
       "        <tr>\n",
       "            <td>37.8646 </td> <td>-122.25  </td> <td>Berkeley</td>\n",
       "        </tr>\n",
       "    </tbody>\n",
       "</table>\n",
       "<p>... (20 rows omitted)</p>"
      ],
      "text/plain": [
       "<IPython.core.display.HTML object>"
      ]
     },
     "metadata": {},
     "output_type": "display_data"
    }
   ],
   "source": [
    "shuffled_table = coordinates.sample(with_replacement = False)\n",
    "train = shuffled_table.take(np.arange(75))\n",
    "test = shuffled_table.take(np.arange(25))\n",
    "\n",
    "print(\"Training set:\\t\",   train.num_rows, \"examples\")\n",
    "print(\"Test set:\\t\",       test.num_rows, \"examples\")\n",
    "train.show(5), test.show(5);"
   ]
  },
  {
   "cell_type": "code",
   "execution_count": 9,
   "metadata": {
    "deletable": false,
    "editable": false
   },
   "outputs": [
    {
     "name": "stdout",
     "output_type": "stream",
     "text": [
      "~~~~~~~~~~~~~~~~~~~~~~~~~~~~~~~~~~~~~~~~~~~~~~~~~~~~~~~~~~~~~~~~~~~~~\n",
      "Running tests\n",
      "\n",
      "---------------------------------------------------------------------\n",
      "Test summary\n",
      "    Passed: 3\n",
      "    Failed: 0\n",
      "[ooooooooook] 100.0% passed\n",
      "\n"
     ]
    }
   ],
   "source": [
    "ok.grade(\"q1_2\");"
   ]
  },
  {
   "cell_type": "markdown",
   "metadata": {
    "deletable": false,
    "editable": false
   },
   "source": [
    "#### Question 3\n",
    "\n",
    "Assign `features` to an array of column names (strings) of the features from the `coordinates` table.\n",
    "\n",
    "*Hint: which of the column names in the `coordinates` table are the features, and which of the column names correspond to the class we're trying to predict?*\n",
    "\n",
    "<!--\n",
    "BEGIN QUESTION\n",
    "name: q1_3\n",
    "manual: false\n",
    "-->"
   ]
  },
  {
   "cell_type": "code",
   "execution_count": 10,
   "metadata": {
    "deletable": false
   },
   "outputs": [
    {
     "data": {
      "text/plain": [
       "array(['latitude', 'longitude'], dtype='<U9')"
      ]
     },
     "execution_count": 10,
     "metadata": {},
     "output_type": "execute_result"
    }
   ],
   "source": [
    "features = make_array('latitude', 'longitude')\n",
    "features"
   ]
  },
  {
   "cell_type": "code",
   "execution_count": 11,
   "metadata": {
    "deletable": false,
    "editable": false
   },
   "outputs": [
    {
     "name": "stdout",
     "output_type": "stream",
     "text": [
      "~~~~~~~~~~~~~~~~~~~~~~~~~~~~~~~~~~~~~~~~~~~~~~~~~~~~~~~~~~~~~~~~~~~~~\n",
      "Running tests\n",
      "\n",
      "---------------------------------------------------------------------\n",
      "Test summary\n",
      "    Passed: 1\n",
      "    Failed: 0\n",
      "[ooooooooook] 100.0% passed\n",
      "\n"
     ]
    }
   ],
   "source": [
    "ok.grade(\"q1_3\");"
   ]
  },
  {
   "cell_type": "markdown",
   "metadata": {
    "deletable": false,
    "editable": false
   },
   "source": [
    "<div class=\"hide\">\\pagebreak</div>\n",
    "\n",
    "#### Question 4\n",
    "\n",
    "Now define the `classify` function. This function should take in a `row` from a table like `test` and classify it based on the data in `train` using the `k`-Nearest Neighbors based on the correct `features`.\n",
    "\n",
    "*Hint: The `distance` function we defined earlier takes in arrays as input, so use the `row_to_array` function we defined for you to convert rows to arrays of features.*\n",
    "\n",
    "*Hint 2: the skeleton code we provided iterates through each row in the training set*\n",
    "\n",
    "A refresher on k-nearest neighbors can be found [here](https://www.inferentialthinking.com/chapters/17/4/Implementing_the_Classifier.html) in the textbook.\n",
    "\n",
    "<!--\n",
    "BEGIN QUESTION\n",
    "name: q1_4\n",
    "manual: false\n",
    "-->"
   ]
  },
  {
   "cell_type": "code",
   "execution_count": 31,
   "metadata": {
    "deletable": false,
    "manual_grade": true,
    "manual_problem_id": "sign_lang_2"
   },
   "outputs": [
    {
     "data": {
      "text/plain": [
       "'Berkeley'"
      ]
     },
     "execution_count": 31,
     "metadata": {},
     "output_type": "execute_result"
    }
   ],
   "source": [
    "def row_to_array(row, features):\n",
    "    arr = make_array()\n",
    "    for feature in features:\n",
    "        arr = np.append(arr, row.item(feature))\n",
    "    return arr\n",
    "\n",
    "def classify(row, k, train):\n",
    "    test_row_features_array = row_to_array(row, features)\n",
    "    distances = make_array()\n",
    "    for train_row in train.rows:\n",
    "        train_row_features_array = row_to_array(train_row, features)\n",
    "        row_distance = distance(test_row_features_array, train_row_features_array)\n",
    "        distances = np.append(distances, row_distance)\n",
    "    train_with_distances = train.with_column('Distance', distances).sort('Distance')\n",
    "    nearest_neighbors = train_with_distances.take(np.arange(k))\n",
    "    most_common_label = make_array(np.count_nonzero(nearest_neighbors.column('school') == 'Berkeley'), np.count_nonzero(nearest_neighbors.column('school') == 'Stanford'))\n",
    "    if most_common_label.item(0) > most_common_label.item(1):\n",
    "        return 'Berkeley'\n",
    "    return 'Stanford'\n",
    "\n",
    "# Don't modify/delete the code below\n",
    "first_test = classify(test.row(0), 5, train)\n",
    "first_test"
   ]
  },
  {
   "cell_type": "code",
   "execution_count": 32,
   "metadata": {
    "deletable": false,
    "editable": false
   },
   "outputs": [
    {
     "name": "stdout",
     "output_type": "stream",
     "text": [
      "~~~~~~~~~~~~~~~~~~~~~~~~~~~~~~~~~~~~~~~~~~~~~~~~~~~~~~~~~~~~~~~~~~~~~\n",
      "Running tests\n",
      "\n",
      "---------------------------------------------------------------------\n",
      "Test summary\n",
      "    Passed: 2\n",
      "    Failed: 0\n",
      "[ooooooooook] 100.0% passed\n",
      "\n"
     ]
    }
   ],
   "source": [
    "ok.grade(\"q1_4\");"
   ]
  },
  {
   "cell_type": "markdown",
   "metadata": {
    "deletable": false,
    "editable": false
   },
   "source": [
    "<div class=\"hide\">\\pagebreak</div>\n",
    "\n",
    "#### Question 5\n",
    "\n",
    "Define the function `three_classify` that takes a `row` from `test` as an argument and classifies the row based on using 3-Nearest Neighbors. Use this function to find the `accuracy` of a 3-NN classifier on the `test` set. `accuracy` should be a proportion (not a percentage) of the schools that were correctly predicted.\n",
    "\n",
    "*Hint: you should be using a function you just created!*\n",
    "\n",
    "*Note: Usually before using a classifier on a test set, we'd classify first on a \"validation\" set, which we then can modify our training set again if need be, before actually testing on the test set. You don’t need to do that for this question, but you will learn about this more in Data 100.*\n",
    "\n",
    "<!--\n",
    "BEGIN QUESTION\n",
    "name: q1_5\n",
    "manual: false\n",
    "-->"
   ]
  },
  {
   "cell_type": "code",
   "execution_count": 35,
   "metadata": {
    "deletable": false,
    "manual_grade": true,
    "manual_problem_id": "sign_lang_3"
   },
   "outputs": [
    {
     "data": {
      "text/plain": [
       "1.0"
      ]
     },
     "execution_count": 35,
     "metadata": {},
     "output_type": "execute_result"
    }
   ],
   "source": [
    "def three_classify(row):\n",
    "    return classify(row, 3, train)\n",
    "\n",
    "test_with_prediction = test.with_column(\"prediction\", test.apply(three_classify))\n",
    "labels_correct = np.count_nonzero(test_with_prediction.column('prediction') == test_with_prediction.column('school'))\n",
    "accuracy = labels_correct / test.num_rows\n",
    "accuracy"
   ]
  },
  {
   "cell_type": "code",
   "execution_count": 36,
   "metadata": {
    "deletable": false,
    "editable": false
   },
   "outputs": [
    {
     "name": "stdout",
     "output_type": "stream",
     "text": [
      "~~~~~~~~~~~~~~~~~~~~~~~~~~~~~~~~~~~~~~~~~~~~~~~~~~~~~~~~~~~~~~~~~~~~~\n",
      "Running tests\n",
      "\n",
      "---------------------------------------------------------------------\n",
      "Test summary\n",
      "    Passed: 2\n",
      "    Failed: 0\n",
      "[ooooooooook] 100.0% passed\n",
      "\n"
     ]
    }
   ],
   "source": [
    "ok.grade(\"q1_5\");"
   ]
  },
  {
   "cell_type": "markdown",
   "metadata": {
    "deletable": false,
    "editable": false
   },
   "source": [
    "#### Question 6\n",
    "\n",
    "There are 77 rows of Berkeley students and 23 rows of Stanford students in the `coordinates` table. If we used the entire `coordinates` table as the train set, what is the smallest value of k that would ensure that a k-Nearest Neighbor classifier would always predict Berkeley as the class? Assign the value to `k`.\n",
    "\n",
    "<!--\n",
    "BEGIN QUESTION\n",
    "name: q1_6\n",
    "manual: false\n",
    "-->"
   ]
  },
  {
   "cell_type": "code",
   "execution_count": 37,
   "metadata": {},
   "outputs": [
    {
     "data": {
      "text/plain": [
       "47"
      ]
     },
     "execution_count": 37,
     "metadata": {},
     "output_type": "execute_result"
    }
   ],
   "source": [
    "k = 47\n",
    "k"
   ]
  },
  {
   "cell_type": "code",
   "execution_count": 38,
   "metadata": {
    "deletable": false,
    "editable": false
   },
   "outputs": [
    {
     "name": "stdout",
     "output_type": "stream",
     "text": [
      "~~~~~~~~~~~~~~~~~~~~~~~~~~~~~~~~~~~~~~~~~~~~~~~~~~~~~~~~~~~~~~~~~~~~~\n",
      "Running tests\n",
      "\n",
      "---------------------------------------------------------------------\n",
      "Test summary\n",
      "    Passed: 1\n",
      "    Failed: 0\n",
      "[ooooooooook] 100.0% passed\n",
      "\n"
     ]
    }
   ],
   "source": [
    "ok.grade(\"q1_6\");"
   ]
  },
  {
   "cell_type": "markdown",
   "metadata": {
    "deletable": false,
    "editable": false
   },
   "source": [
    "#### Question 7\n",
    "\n",
    "Why do we divide our data into a training and test set? Should we use our test set to find the best possible number of neighbors for a k-NN classifer? What is the point of a test set, and why do we only want to use the test set once? Explain your answer in 3 sentences or less. \n",
    "\n",
    "\n",
    "<!--\n",
    "BEGIN QUESTION\n",
    "name: q1_7\n",
    "manual: true\n",
    "-->\n",
    "<!-- EXPORT TO PDF -->"
   ]
  },
  {
   "cell_type": "markdown",
   "metadata": {
    "export_pdf": true
   },
   "source": [
    "*Write your answer here, replacing this text.*"
   ]
  },
  {
   "cell_type": "markdown",
   "metadata": {
    "deletable": false,
    "editable": false
   },
   "source": [
    "#### Question 8\n",
    "\n",
    "Why do we use an odd-numbered `k` in k-NN? Explain.\n",
    "\n",
    "\n",
    "<!--\n",
    "BEGIN QUESTION\n",
    "name: q1_8\n",
    "manual: true\n",
    "-->\n",
    "<!-- EXPORT TO PDF -->"
   ]
  },
  {
   "cell_type": "markdown",
   "metadata": {
    "export_pdf": true
   },
   "source": [
    "We use an odd-numbered k in k-NN to break any potential ties (even values would not be able to do this). If my k was 100, then there's a possibility that the neighbors could be evenly split up with 50 at Berkeley and 50 at Stanford. If this were to happen, then we wouldn't be able to classify a result with the k-NN test."
   ]
  },
  {
   "cell_type": "markdown",
   "metadata": {
    "deletable": false,
    "editable": false
   },
   "source": [
    "#### Question 9\n",
    "\n",
    "Thomas has devised a scheme for splitting up the test and training set. For each row from `coordinates`:\n",
    "\n",
    "- Rows for Stanford students have a 50% chance of being placed in the train set and 50% chance of placed in the test set.\n",
    "\n",
    "- Rows for Berkeley students have a 80% chance of being placed in the train set and 20% chance of placed in the test set.\n",
    "\n",
    "\n",
    "Given that a row is in the test set, what is the probability that it corresponds to a Stanford student? Assign that probability to `prob_furd`.\n",
    "\n",
    "*Hint: Remember that there are 77 Berkeley students and 23 Stanford students in `coordinates`*\n",
    "\n",
    "*Hint 2: Thomas' last name is Bayes*\n",
    "\n",
    "\n",
    "<!--\n",
    "BEGIN QUESTION\n",
    "name: q1_9\n",
    "manual: false\n",
    "-->"
   ]
  },
  {
   "cell_type": "code",
   "execution_count": 39,
   "metadata": {},
   "outputs": [
    {
     "data": {
      "text/plain": [
       "0.42750929368029744"
      ]
     },
     "execution_count": 39,
     "metadata": {},
     "output_type": "execute_result"
    }
   ],
   "source": [
    "prob_furd = (23 * 0.5) / ((23 * 0.5) + (77 * 0.2))\n",
    "prob_furd"
   ]
  },
  {
   "cell_type": "code",
   "execution_count": 40,
   "metadata": {
    "deletable": false,
    "editable": false
   },
   "outputs": [
    {
     "name": "stdout",
     "output_type": "stream",
     "text": [
      "~~~~~~~~~~~~~~~~~~~~~~~~~~~~~~~~~~~~~~~~~~~~~~~~~~~~~~~~~~~~~~~~~~~~~\n",
      "Running tests\n",
      "\n",
      "---------------------------------------------------------------------\n",
      "Test summary\n",
      "    Passed: 2\n",
      "    Failed: 0\n",
      "[ooooooooook] 100.0% passed\n",
      "\n"
     ]
    }
   ],
   "source": [
    "ok.grade(\"q1_9\");"
   ]
  },
  {
   "cell_type": "markdown",
   "metadata": {},
   "source": [
    "Congrats, you've finished the last homework! Be sure to scroll down to complete the final feedback survey and the official Berkeley course evaluations form that you will receive via email. If 80% of the class fills out both surveys, everyone will receive 2 bonus points on the final exam."
   ]
  },
  {
   "cell_type": "markdown",
   "metadata": {},
   "source": [
    "## (OPTIONAL, NOT IN SCOPE): k-NN for Non-Binary Classification"
   ]
  },
  {
   "cell_type": "markdown",
   "metadata": {
    "deletable": false,
    "editable": false
   },
   "source": [
    "**THIS IS NOT IN SCOPE/IS OPTIONAL**. There are no autograder tests for this/code for you to write. It just relies on the function `classify` in Question 4.\n",
    "\n",
    "In this class, we have taught you how to use the kNN algorithm to classify data as one of two classes. However, much of the data you will encounter in the real world will not fall nicely into one of two categories. \n",
    "\n",
    "How can we classify data with non-binary classes? It turns out we can still use kNN! That is, we find the distance between a point and all its neighbors, find the nearest neighbors, and take a majority vote among the neighbors to determine this point's class. \n",
    "\n",
    "The only difference is that now the neighboring points have more than two possible classes. This does introduce difficulty because now we have no way of guaranteeing that we will not encounter ties between classes. In the case that we do encounter a tie, we can just arbitrarily choose one of the classes.\n",
    "\n",
    "In fact, you don't even have to modify the code you wrote before at all to enable multi-class classification!"
   ]
  },
  {
   "cell_type": "markdown",
   "metadata": {
    "deletable": false,
    "editable": false
   },
   "source": [
    "Let's add some more data to our train table, this time for another class of students, students at San Jose Community College (SJCC)."
   ]
  },
  {
   "cell_type": "code",
   "execution_count": 28,
   "metadata": {
    "deletable": false,
    "editable": false
   },
   "outputs": [],
   "source": [
    "coordinates_multi = coordinates.with_rows([\n",
    "                              [37.304346, -121.915401, \"SJCC\"],\n",
    "                              [37.316275, -121.913879, \"SJCC\"],\n",
    "                              [37.409435, -121.951379, \"SJCC\"],\n",
    "                              [37.349387, -121.960771, \"SJCC\"],\n",
    "                              [37.329083, -121.928479, \"SJCC\"],\n",
    "                              [37.313017, -121.866730, \"SJCC\"],\n",
    "                              [37.346525, -121.894767, \"SJCC\"],\n",
    "                              [37.364157, -121.955717, \"SJCC\"],\n",
    "                              [37.383362, -121.925776, \"SJCC\"],\n",
    "                              [37.329545, -121.880639, \"SJCC\"]                             \n",
    "])"
   ]
  },
  {
   "cell_type": "code",
   "execution_count": 29,
   "metadata": {
    "deletable": false,
    "editable": false
   },
   "outputs": [],
   "source": [
    "classify(coordinates_multi.row(0), 5, coordinates_multi)"
   ]
  },
  {
   "cell_type": "code",
   "execution_count": 30,
   "metadata": {
    "deletable": false,
    "editable": false
   },
   "outputs": [],
   "source": [
    "classify(coordinates_multi.row(91), 5, coordinates_multi)"
   ]
  },
  {
   "cell_type": "code",
   "execution_count": 31,
   "metadata": {
    "deletable": false,
    "editable": false
   },
   "outputs": [],
   "source": [
    "classify(coordinates_multi.row(105), 5, coordinates_multi)"
   ]
  },
  {
   "cell_type": "markdown",
   "metadata": {},
   "source": [
    "Our classifier can classify rows as belonging to one of three classes!\n",
    "\n",
    "Classification is one of the most important fields in statistics, data science, and machine learning. There are thousands of different classification algorithms and modifications of algorithms! There are many that you'll learn if you continue down the path of becoming a data scientist!"
   ]
  },
  {
   "cell_type": "markdown",
   "metadata": {},
   "source": [
    "## 2. Final-Semester Survey\n"
   ]
  },
  {
   "cell_type": "markdown",
   "metadata": {},
   "source": [
    "You can find the end of semester feedback form [here](https://docs.google.com/forms/d/e/1FAIpQLSeI_K7XI2aHCw7Ke7Gi8quDFMjM2PfGJwBQHa-By0BzfZYszw/viewform). Please take some time to fill the survey out! Data 8 is still a relatively new class, and your feedback helps the class get better every semester!\n",
    "\n",
    "As incentive, if 80% of the course fills out this feedback form **and** the official Berkeley Course Evaluations (which will be released sometime in the next couple of weeks) for Data 8, everyone will receive two points of extra credit on the final!"
   ]
  },
  {
   "cell_type": "markdown",
   "metadata": {
    "deletable": false,
    "editable": false
   },
   "source": [
    "**Question 1.** Fill out the end of semester feedback form linked above. Once you have submitted, a secret word will be displayed. Set `secret_word` to the secret string at the end of the form.\n",
    "\n",
    "<!--\n",
    "BEGIN QUESTION\n",
    "name: q2_1\n",
    "manual: false\n",
    "-->"
   ]
  },
  {
   "cell_type": "code",
   "execution_count": 46,
   "metadata": {},
   "outputs": [],
   "source": [
    "secret_word = 'winterbreakhereicome'"
   ]
  },
  {
   "cell_type": "code",
   "execution_count": 47,
   "metadata": {
    "deletable": false,
    "editable": false
   },
   "outputs": [
    {
     "name": "stdout",
     "output_type": "stream",
     "text": [
      "~~~~~~~~~~~~~~~~~~~~~~~~~~~~~~~~~~~~~~~~~~~~~~~~~~~~~~~~~~~~~~~~~~~~~\n",
      "Running tests\n",
      "\n",
      "---------------------------------------------------------------------\n",
      "Test summary\n",
      "    Passed: 1\n",
      "    Failed: 0\n",
      "[ooooooooook] 100.0% passed\n",
      "\n"
     ]
    }
   ],
   "source": [
    "ok.grade(\"q2_1\");"
   ]
  },
  {
   "cell_type": "markdown",
   "metadata": {},
   "source": [
    "## 3. Submission\n"
   ]
  },
  {
   "cell_type": "markdown",
   "metadata": {
    "collapsed": true
   },
   "source": [
    "Once you're finished, select \"Save and Checkpoint\" in the File menu and then execute the `submit` cell below. The result will contain a link that you can use to check that your assignment has been submitted successfully. If you submit more than once before the deadline, we will only grade your final submission. If you mistakenly submit the wrong one, you can head to [okpy.org](https://okpy.org/) and flag the correct version. To do so, go to the website, click on this assignment, and find the version you would like to have graded. There should be an option to flag that submission for grading!"
   ]
  },
  {
   "cell_type": "code",
   "execution_count": null,
   "metadata": {},
   "outputs": [],
   "source": [
    "_ = ok.submit()"
   ]
  },
  {
   "cell_type": "code",
   "execution_count": 48,
   "metadata": {},
   "outputs": [
    {
     "name": "stdout",
     "output_type": "stream",
     "text": [
      "Running all tests...\n",
      "~~~~~~~~~~~~~~~~~~~~~~~~~~~~~~~~~~~~~~~~~~~~~~~~~~~~~~~~~~~~~~~~~~~~~\n",
      "Running tests\n",
      "\n",
      "---------------------------------------------------------------------\n",
      "Test summary\n",
      "    Passed: 2\n",
      "    Failed: 0\n",
      "[ooooooooook] 100.0% passed\n",
      "\n",
      "~~~~~~~~~~~~~~~~~~~~~~~~~~~~~~~~~~~~~~~~~~~~~~~~~~~~~~~~~~~~~~~~~~~~~\n",
      "Running tests\n",
      "\n",
      "---------------------------------------------------------------------\n",
      "Test summary\n",
      "    Passed: 3\n",
      "    Failed: 0\n",
      "[ooooooooook] 100.0% passed\n",
      "\n",
      "~~~~~~~~~~~~~~~~~~~~~~~~~~~~~~~~~~~~~~~~~~~~~~~~~~~~~~~~~~~~~~~~~~~~~\n",
      "Running tests\n",
      "\n",
      "---------------------------------------------------------------------\n",
      "Test summary\n",
      "    Passed: 1\n",
      "    Failed: 0\n",
      "[ooooooooook] 100.0% passed\n",
      "\n",
      "~~~~~~~~~~~~~~~~~~~~~~~~~~~~~~~~~~~~~~~~~~~~~~~~~~~~~~~~~~~~~~~~~~~~~\n",
      "Running tests\n",
      "\n",
      "---------------------------------------------------------------------\n",
      "Test summary\n",
      "    Passed: 2\n",
      "    Failed: 0\n",
      "[ooooooooook] 100.0% passed\n",
      "\n",
      "~~~~~~~~~~~~~~~~~~~~~~~~~~~~~~~~~~~~~~~~~~~~~~~~~~~~~~~~~~~~~~~~~~~~~\n",
      "Running tests\n",
      "\n",
      "---------------------------------------------------------------------\n",
      "Test summary\n",
      "    Passed: 2\n",
      "    Failed: 0\n",
      "[ooooooooook] 100.0% passed\n",
      "\n",
      "~~~~~~~~~~~~~~~~~~~~~~~~~~~~~~~~~~~~~~~~~~~~~~~~~~~~~~~~~~~~~~~~~~~~~\n",
      "Running tests\n",
      "\n",
      "---------------------------------------------------------------------\n",
      "Test summary\n",
      "    Passed: 1\n",
      "    Failed: 0\n",
      "[ooooooooook] 100.0% passed\n",
      "\n",
      "~~~~~~~~~~~~~~~~~~~~~~~~~~~~~~~~~~~~~~~~~~~~~~~~~~~~~~~~~~~~~~~~~~~~~\n",
      "Running tests\n",
      "\n",
      "---------------------------------------------------------------------\n",
      "Test summary\n",
      "    Passed: 2\n",
      "    Failed: 0\n",
      "[ooooooooook] 100.0% passed\n",
      "\n",
      "~~~~~~~~~~~~~~~~~~~~~~~~~~~~~~~~~~~~~~~~~~~~~~~~~~~~~~~~~~~~~~~~~~~~~\n",
      "Running tests\n",
      "\n",
      "---------------------------------------------------------------------\n",
      "Test summary\n",
      "    Passed: 1\n",
      "    Failed: 0\n",
      "[ooooooooook] 100.0% passed\n",
      "\n",
      "Finished running all tests.\n"
     ]
    }
   ],
   "source": [
    "# For your convenience, you can run this cell to run all the tests at once!\n",
    "import os\n",
    "print(\"Running all tests...\")\n",
    "_ = [ok.grade(q[:-3]) for q in os.listdir(\"tests\") if q.startswith('q') and len(q) <= 10]\n",
    "print(\"Finished running all tests.\")"
   ]
  },
  {
   "cell_type": "code",
   "execution_count": null,
   "metadata": {},
   "outputs": [],
   "source": []
  }
 ],
 "metadata": {
  "kernelspec": {
   "display_name": "Python 3",
   "language": "python",
   "name": "python3"
  },
  "language_info": {
   "codemirror_mode": {
    "name": "ipython",
    "version": 3
   },
   "file_extension": ".py",
   "mimetype": "text/x-python",
   "name": "python",
   "nbconvert_exporter": "python",
   "pygments_lexer": "ipython3",
   "version": "3.8.6"
  }
 },
 "nbformat": 4,
 "nbformat_minor": 1
}
