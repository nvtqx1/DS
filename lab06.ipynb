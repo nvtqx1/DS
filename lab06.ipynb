{
 "cells": [
  {
   "cell_type": "code",
   "id": "cell-lab06-0",
   "metadata": {
    "deletable": false,
    "editable": false,
    "ExecuteTime": {
     "end_time": "2025-05-20T02:05:45.197807Z",
     "start_time": "2025-05-20T02:05:41.509257Z"
    }
   },
   "source": [
    "# Initialize Otter\n",
    "import otter\n",
    "grader = otter.Notebook(\"lab06.ipynb\")"
   ],
   "outputs": [],
   "execution_count": 3
  },
  {
   "cell_type": "markdown",
   "id": "cell-lab06-1",
   "metadata": {},
   "source": [
    "## Lab 6: Examining the Therapeutic Touch\n",
    "\n",
    "Welcome to Lab 6!\n",
    "\n",
    "After such an extensive introduction to programming for data science, we are finally moving into the section of the course where we can apply our new skils to answer real questions.  \n",
    "\n",
    "In this lab, we'll use testing techniques that were introduced in lecture to test the idea of the therapeutic touch, the idea that some practitioner can feel and massage your human energy field. \n",
    "\n",
    "\n",
    "**Submission**: Once you’re finished, run all cells besides the last one, select File > Save Notebook, and then execute the final cell. Then submit the downloaded zip file, that includes your notebook,  according to your instructor's directions."
   ]
  },
  {
   "cell_type": "code",
   "id": "cell-lab06-2",
   "metadata": {
    "ExecuteTime": {
     "end_time": "2025-05-20T02:05:55.092657Z",
     "start_time": "2025-05-20T02:05:46.964277Z"
    }
   },
   "source": [
    "# Run this cell, but please don't change it.\n",
    "\n",
    "# These lines import the Numpy and Datascience modules.\n",
    "import numpy as np\n",
    "from datascience import *\n",
    "\n",
    "# These lines do some fancy plotting magic\n",
    "import matplotlib\n",
    "%matplotlib inline\n",
    "import matplotlib.pyplot as plt\n",
    "plt.style.use('fivethirtyeight')\n",
    "import warnings\n",
    "warnings.simplefilter('ignore', FutureWarning)\n",
    "from matplotlib import patches\n",
    "from ipywidgets import interact, interactive, fixed\n",
    "import ipywidgets as widgets\n"
   ],
   "outputs": [],
   "execution_count": 4
  },
  {
   "cell_type": "markdown",
   "id": "cell-lab06-3",
   "metadata": {},
   "source": [
    "## 1. What is the Therapeutic Touch\n",
    "\n",
    "The Therapeutic Touch (TT) is the idea that everyone can feel the Human Energy Field (HEF) around individuals.  Those who practice TT have described different people's HEFs as \"warm as Jell-O\" and \"tactile as taffy.\" \n",
    "\n",
    "TT was a popular technique used throughout the 20th century that was toted as a great way to bring balance to a person's health. Certain practitioners claim they have the ability to feel the HEF and can massage it in order to promote health and relaxation in individuals.\n",
    "\n",
    "### Emily Rosa\n",
    "\n",
    "[Emily Rosa](https://en.wikipedia.org/wiki/Emily_Rosa) was a 4th grade student who was very familiar with the world of TT, thanks to her parents, who were both medical practitioners and skeptics of TT.\n",
    "\n",
    "For her 4th grade science fair project, Emily decided to test whether or not TT practitioners could truly interact with a person's HEF. She later went on to publish her work in TT, becoming the youngest person to have a research paper published in a peer reviewed medical journal."
   ]
  },
  {
   "cell_type": "markdown",
   "id": "cell-lab06-4",
   "metadata": {},
   "source": [
    "### Emily's Experiment\n",
    "\n",
    "Emily's experiment was clean, simple, and effective. Due to her parents' occupations in the medical field, she had wide access to people who claimed to be TT practitioners. \n",
    "\n",
    "Emily took 21 TT practitioners and used them for her science experiment. She would take a TT practitioner and ask them to extend their hands through a screen (which they can't see through). Emily would be on the other side and would flip a fair coin. Depending on how the coin landed, she would put out either her left hand or her right hand. The TT practitioner would then have to answer which hand Emily put out. If a pracitioner could truly interact with a person's HEF, it would be expected that they answered correctly.\n",
    "\n",
    "Overall, through 210 samples, the practitioner picked the correct hand 44% of the time. \n",
    "\n",
    "Emily's main goal here was to test whether or not the TT practicioners' guesses were random, like the flip of a coin. In most medical experiments, this is the norm. We want to test whether or not the treatment has an effect, *not* whether or not the treatment actually works. \n",
    "\n",
    "We will now begin to formulate this experiment in terms of the terminology we learned in this course. "
   ]
  },
  {
   "cell_type": "markdown",
   "id": "cell-lab06-5",
   "metadata": {
    "deletable": false,
    "editable": false
   },
   "source": [
    "**Question 1.1**: Describe Emily’s model for how likely the TT practitioners are to choose the correct hand. What alternative model is her model meant to discredit? Discuss with students around you to come to a conclusion. Check in with a TA or AI if you are stuck.\n"
   ]
  },
  {
   "cell_type": "markdown",
   "id": "cell-lab06-6",
   "metadata": {
    "deletable": false,
    "editable": false
   },
   "source": [
    "**Question 1.2:** Remember that the practitioner got the correct answer 44% (0.44) of the time. According to Emily's model, on average, what proportion of times do we expect the practitioner to guess the correct hand? Make sure your answer is a number between 0 and 1. \n"
   ]
  },
  {
   "cell_type": "code",
   "id": "cell-lab06-7",
   "metadata": {
    "tags": [],
    "ExecuteTime": {
     "end_time": "2025-05-20T02:05:55.104161Z",
     "start_time": "2025-05-20T02:05:55.100148Z"
    }
   },
   "source": [
    "expected_proportion_correct = 0.5\n",
    "expected_proportion_correct"
   ],
   "outputs": [
    {
     "data": {
      "text/plain": [
       "0.5"
      ]
     },
     "execution_count": 5,
     "metadata": {},
     "output_type": "execute_result"
    }
   ],
   "execution_count": 5
  },
  {
   "cell_type": "code",
   "id": "cell-lab06-8",
   "metadata": {
    "deletable": false,
    "editable": false,
    "ExecuteTime": {
     "end_time": "2025-05-20T02:05:59.999524Z",
     "start_time": "2025-05-20T02:05:59.991042Z"
    }
   },
   "source": [
    "grader.check(\"q1_2\")"
   ],
   "outputs": [
    {
     "data": {
      "text/plain": [
       "q1_2 results: All test cases passed!"
      ],
      "text/html": [
       "<p><strong><pre style='display: inline;'>q1_2</pre></strong> passed! 🍀</p>"
      ]
     },
     "execution_count": 6,
     "metadata": {},
     "output_type": "execute_result"
    }
   ],
   "execution_count": 6
  },
  {
   "cell_type": "markdown",
   "id": "cell-lab06-9",
   "metadata": {
    "deletable": false,
    "editable": false
   },
   "source": [
    "The goal now is to see if our deviation from this expected proportion of correct answers is due to something other than chance. \n",
    "\n",
    "**Question 1.3:** We usually use a statistic to help determine which model the evidence points towards. What is a statistic that we can use to compare outcomes under Emily’s model to what was observed? Assign `valid_stat` to an array of integer(s) representing test statistics that Emily can use: \n",
    "\n",
    "1. The difference between the expected percent correct and the actual percent correct\n",
    "2. The absolute difference between the expected percent correct and the actual percent correct\n",
    "3. The sum of the expected percent correct and the actual percent correct\n",
    "\n",
    "**NOTE:** Make sure to use `make_array` to create your array of integer(s)!\n"
   ]
  },
  {
   "cell_type": "code",
   "id": "cell-lab06-10",
   "metadata": {
    "tags": [],
    "ExecuteTime": {
     "end_time": "2025-05-20T02:06:01.756408Z",
     "start_time": "2025-05-20T02:06:01.751336Z"
    }
   },
   "source": [
    "valid_stat = make_array(2)\n",
    "valid_stat"
   ],
   "outputs": [
    {
     "data": {
      "text/plain": [
       "array([2])"
      ]
     },
     "execution_count": 7,
     "metadata": {},
     "output_type": "execute_result"
    }
   ],
   "execution_count": 7
  },
  {
   "cell_type": "code",
   "id": "cell-lab06-11",
   "metadata": {
    "deletable": false,
    "editable": false,
    "ExecuteTime": {
     "end_time": "2025-05-20T02:06:02.980581Z",
     "start_time": "2025-05-20T02:06:02.964184Z"
    }
   },
   "source": [
    "grader.check(\"q1_3\")"
   ],
   "outputs": [
    {
     "data": {
      "text/plain": [
       "q1_3 results: All test cases passed!"
      ],
      "text/html": [
       "<p><strong><pre style='display: inline;'>q1_3</pre></strong> passed! 🌈</p>"
      ]
     },
     "execution_count": 8,
     "metadata": {},
     "output_type": "execute_result"
    }
   ],
   "execution_count": 8
  },
  {
   "cell_type": "markdown",
   "id": "cell-lab06-12",
   "metadata": {
    "deletable": false,
    "editable": false
   },
   "source": [
    "**Question 1.4:** Why is the statistic from Question 1.3 the appropriate choice for comparing outcomes in Emily's experiment? How does it relate to the models you defined in Question 1.1?\n"
   ]
  },
  {
   "cell_type": "markdown",
   "id": "cell-lab06-13",
   "metadata": {
    "deletable": false,
    "editable": false
   },
   "source": [
    "**Question 1.5:** Define the function `statistic` which takes in an expected proportion and an actual proportion, and returns the value of the statistic chosen in Question 1.3. Assume that the argument takes in proportions, but  return your answer as a percentage. \n",
    "\n",
    "*Hint:* Remember we are asking for a **percentage**, not a proportion. \n"
   ]
  },
  {
   "cell_type": "code",
   "id": "cell-lab06-14",
   "metadata": {
    "tags": [],
    "ExecuteTime": {
     "end_time": "2025-05-20T02:09:39.670393Z",
     "start_time": "2025-05-20T02:09:39.664174Z"
    }
   },
   "source": [
    "def statistic(expected_prop, actual_prop):\n",
    "    result = np.abs(expected_prop - actual_prop)\n",
    "    return result * 100\n",
    "statistic(0.5, 0.44)"
   ],
   "outputs": [
    {
     "data": {
      "text/plain": [
       "6.0"
      ]
     },
     "execution_count": 18,
     "metadata": {},
     "output_type": "execute_result"
    }
   ],
   "execution_count": 18
  },
  {
   "cell_type": "code",
   "id": "cell-lab06-15",
   "metadata": {
    "deletable": false,
    "editable": false,
    "ExecuteTime": {
     "end_time": "2025-05-20T02:09:40.835520Z",
     "start_time": "2025-05-20T02:09:40.816296Z"
    }
   },
   "source": [
    "grader.check(\"q1_5\")"
   ],
   "outputs": [
    {
     "data": {
      "text/plain": [
       "q1_5 results: All test cases passed!"
      ],
      "text/html": [
       "<p><strong><pre style='display: inline;'>q1_5</pre></strong> passed! 🌟</p>"
      ]
     },
     "execution_count": 19,
     "metadata": {},
     "output_type": "execute_result"
    }
   ],
   "execution_count": 19
  },
  {
   "cell_type": "markdown",
   "id": "cell-lab06-16",
   "metadata": {
    "deletable": false,
    "editable": false
   },
   "source": [
    "**Question 1.6:** Use your newly defined function to calculate the observed statistic from Emily's experiment. \n"
   ]
  },
  {
   "cell_type": "code",
   "id": "cell-lab06-17",
   "metadata": {
    "tags": [],
    "ExecuteTime": {
     "end_time": "2025-05-20T02:09:42.212498Z",
     "start_time": "2025-05-20T02:09:42.207590Z"
    }
   },
   "source": [
    "observed_statistic = statistic(0.5, 0.44)\n",
    "observed_statistic"
   ],
   "outputs": [
    {
     "data": {
      "text/plain": [
       "6.0"
      ]
     },
     "execution_count": 20,
     "metadata": {},
     "output_type": "execute_result"
    }
   ],
   "execution_count": 20
  },
  {
   "cell_type": "code",
   "id": "cell-lab06-18",
   "metadata": {
    "deletable": false,
    "editable": false,
    "ExecuteTime": {
     "end_time": "2025-05-20T02:09:43.438039Z",
     "start_time": "2025-05-20T02:09:43.425371Z"
    }
   },
   "source": [
    "grader.check(\"q1_6\")"
   ],
   "outputs": [
    {
     "data": {
      "text/plain": [
       "q1_6 results: All test cases passed!"
      ],
      "text/html": [
       "<p><strong><pre style='display: inline;'>q1_6</pre></strong> passed! ✨</p>"
      ]
     },
     "execution_count": 21,
     "metadata": {},
     "output_type": "execute_result"
    }
   ],
   "execution_count": 21
  },
  {
   "cell_type": "markdown",
   "id": "cell-lab06-19",
   "metadata": {},
   "source": [
    "**Is this observed statistic consistent with what we expect to see under Emily’s model?**\n",
    "\n",
    "In order to answer this question, we must simulate the experiment as though Emily's model was correct, and calculate our statistic for every simulation.\n",
    "\n",
    "### `sample_proportions`\n",
    "\n",
    "`sample_proportions` can be used to randomly sample from multiple categories when you know the proportion of data points that are expected to fall in each category. `sample_proportions` takes two arguments: the sample size and an array that contains the distribution of categories in the population (should sum to 1).\n",
    "\n",
    "Consider flipping a fair coin, where the two outcomes (coin lands heads and coin lands tails) occur with an equal chance. We expect that half of all coin flips will land heads, and half of all coin flips will land tails.\n",
    "\n",
    "Run the following cell to see the simulation of 10 flips of a fair coin. Let the first item of `coin_proportions` be the proportion of heads and the second item of `coin_proportions` be the proportion of tails.\n",
    "\n",
    "*Observe what happens when you run this cell multiple times—the proportion of coin flips that land heads and tails appears to change, as you are simulating flipping 10 coins each time!*"
   ]
  },
  {
   "cell_type": "code",
   "id": "cell-lab06-20",
   "metadata": {
    "ExecuteTime": {
     "end_time": "2025-05-20T02:09:46.622980Z",
     "start_time": "2025-05-20T02:09:46.617696Z"
    }
   },
   "source": [
    "coin_proportions = make_array(0.5, 0.5) \n",
    "ten_flips = sample_proportions(10, coin_proportions)\n",
    "ten_flips"
   ],
   "outputs": [
    {
     "data": {
      "text/plain": [
       "array([ 0.9,  0.1])"
      ]
     },
     "execution_count": 22,
     "metadata": {},
     "output_type": "execute_result"
    }
   ],
   "execution_count": 22
  },
  {
   "cell_type": "markdown",
   "id": "cell-lab06-21",
   "metadata": {},
   "source": [
    "`sample_proportions` returns an array that is the same length as the proportion array that is passed through. It contains the proportion of each category that appears in the sample. \n",
    "\n",
    "In our example, the first item of `ten_flips` is the simulated proportion of heads and the second item of `ten_flips` is the simulated proportion of tails."
   ]
  },
  {
   "cell_type": "code",
   "id": "cell-lab06-22",
   "metadata": {
    "ExecuteTime": {
     "end_time": "2025-05-20T02:09:49.056829Z",
     "start_time": "2025-05-20T02:09:49.049470Z"
    }
   },
   "source": [
    "simulated_proportion_heads = ten_flips.item(0)\n",
    "simulated_proportion_tails = ten_flips.item(1)\n",
    "\n",
    "print(\"In our simulation, \" + str(simulated_proportion_heads) + \" of flips were heads and \" \\\n",
    "      + str(simulated_proportion_tails) + \" of flips were tails.\")"
   ],
   "outputs": [
    {
     "name": "stdout",
     "output_type": "stream",
     "text": [
      "In our simulation, 0.9 of flips were heads and 0.1 of flips were tails.\n"
     ]
    }
   ],
   "execution_count": 23
  },
  {
   "cell_type": "markdown",
   "id": "cell-lab06-23",
   "metadata": {
    "deletable": false,
    "editable": false
   },
   "source": [
    "**Question 1.7:** To begin simulating, we should start by creating a representation of Emily's model to use for our simulation. This will be an array with two items in it. The first item should be the proportion of times a TT practictioner picks the correct hand, assuming that Emily’s model was correct. The second item should be the proportion of times, under the same assumption, that the TT practitioner picks the incorrect hand. Assign `model_proportions` to this array. \n",
    "\n",
    "After this, we can simulate 210 hand choices, as Emily evaluated in real life, and find a single statistic to summarize this instance of the simulation. Use the `sample_proportions` function and assign the **proportion of correct hand choices** (out of 210) to `simulation_proportion_correct`. Lastly, use your statistic function to assign `one_statistic`  to the value of the statistic for this one simulation.\n",
    "\n",
    "*Hint:* `sample_proportions` usage can be found on the [Python Reference](http://data8.org/fa21/python-reference.html).\n"
   ]
  },
  {
   "cell_type": "code",
   "id": "cell-lab06-24",
   "metadata": {
    "tags": [],
    "ExecuteTime": {
     "end_time": "2025-05-20T02:22:29.560979Z",
     "start_time": "2025-05-20T02:22:29.552038Z"
    }
   },
   "source": [
    "np.random.seed(16)\n",
    "\n",
    "model_proportions = make_array(0.5, 0.5)\n",
    "simulation_proportion_correct = sample_proportions(210, model_proportions).item(0)\n",
    "one_statistic = round(statistic(0.5, simulation_proportion_correct), 2)\n",
    "\n",
    "one_statistic\n"
   ],
   "outputs": [
    {
     "data": {
      "text/plain": [
       "0.94999999999999996"
      ]
     },
     "execution_count": 97,
     "metadata": {},
     "output_type": "execute_result"
    }
   ],
   "execution_count": 97
  },
  {
   "cell_type": "code",
   "id": "cell-lab06-25",
   "metadata": {
    "deletable": false,
    "editable": false,
    "ExecuteTime": {
     "end_time": "2025-05-20T02:22:31.389298Z",
     "start_time": "2025-05-20T02:22:31.363171Z"
    }
   },
   "source": "grader.check(\"q1_7\")",
   "outputs": [
    {
     "data": {
      "text/plain": [
       "q1_7 results:\n",
       "    q1_7 - 1 result:\n",
       "        ✅ Test case passed\n",
       "\n",
       "    q1_7 - 2 result:\n",
       "        ✅ Test case passed\n",
       "\n",
       "    q1_7 - 3 result:\n",
       "        ✅ Test case passed\n",
       "\n",
       "    q1_7 - 4 result:\n",
       "        ✅ Test case passed\n",
       "\n",
       "    q1_7 - 5 result:\n",
       "        ✅ Test case passed\n",
       "\n",
       "    q1_7 - 6 result:\n",
       "        ❌ Test case failed\n",
       "        Trying:\n",
       "            round(one_statistic, 2)\n",
       "        Expecting:\n",
       "            0.95\n",
       "        **********************************************************************\n",
       "        Line 1, in q1_7 5\n",
       "        Failed example:\n",
       "            round(one_statistic, 2)\n",
       "        Expected:\n",
       "            0.95\n",
       "        Got:\n",
       "            0.94999999999999996"
      ],
      "text/html": [
       "<p><strong style='color: red;'><pre style='display: inline;'>q1_7</pre> results:</strong></p><p><strong><pre style='display: inline;'>q1_7 - 1</pre> result:</strong></p><pre>    ✅ Test case passed</pre><p><strong><pre style='display: inline;'>q1_7 - 2</pre> result:</strong></p><pre>    ✅ Test case passed</pre><p><strong><pre style='display: inline;'>q1_7 - 3</pre> result:</strong></p><pre>    ✅ Test case passed</pre><p><strong><pre style='display: inline;'>q1_7 - 4</pre> result:</strong></p><pre>    ✅ Test case passed</pre><p><strong><pre style='display: inline;'>q1_7 - 5</pre> result:</strong></p><pre>    ✅ Test case passed</pre><p><strong><pre style='display: inline;'>q1_7 - 6</pre> result:</strong></p><pre>    ❌ Test case failed\n",
       "    Trying:\n",
       "        round(one_statistic, 2)\n",
       "    Expecting:\n",
       "        0.95\n",
       "    **********************************************************************\n",
       "    Line 1, in q1_7 5\n",
       "    Failed example:\n",
       "        round(one_statistic, 2)\n",
       "    Expected:\n",
       "        0.95\n",
       "    Got:\n",
       "        0.94999999999999996\n",
       "</pre>"
      ]
     },
     "execution_count": 98,
     "metadata": {},
     "output_type": "execute_result"
    }
   ],
   "execution_count": 98
  },
  {
   "cell_type": "markdown",
   "id": "cell-lab06-26",
   "metadata": {},
   "source": [
    "**Question 1.8:** Let's now see what the distribution of statistics is actually like under Emily's model. \n",
    "\n",
    "Define the function `simulation_and_statistic` to take in the `model_proportions` array and the expected proportion of times a TT practitioner would guess a hand correctly under Emily's model. The function should simulate Emily running through the experiment 210 times and return the statistic of this one simulation. \n",
    "\n",
    "*Hint:* This should follow the same pattern as the code you did in the previous problem.  "
   ]
  },
  {
   "cell_type": "code",
   "id": "cell-lab06-27",
   "metadata": {
    "for_assignment_type": "solution",
    "tags": [],
    "ExecuteTime": {
     "end_time": "2025-05-20T02:24:53.925656Z",
     "start_time": "2025-05-20T02:24:53.920699Z"
    }
   },
   "source": [
    "def simulation_and_statistic(model_proportions, expected_proportion_correct):\n",
    "    '''Simulates 210 TT hand choices under Emily’s model. \n",
    "    Returns one statistic from the simulation.'''\n",
    "    model_proportions = make_array(0.5, 0.5)\n",
    "    expected_proportion_correct = sample_proportions(210, model_proportions).item(0)\n",
    "    one_statistic = round(statistic(0.5, expected_proportion_correct), 2)\n",
    "    return one_statistic"
   ],
   "outputs": [],
   "execution_count": 99
  },
  {
   "cell_type": "code",
   "id": "cell-lab06-28",
   "metadata": {
    "tags": [],
    "ExecuteTime": {
     "end_time": "2025-05-20T02:25:16.164937Z",
     "start_time": "2025-05-20T02:25:16.143585Z"
    }
   },
   "source": [
    "num_repetitions = 1000\n",
    "\n",
    "simulated_statistics = make_array()\n",
    "\n",
    "for i in np.arange(num_repetitions):\n",
    "    new_simulated = simulation_and_statistic(model_proportions, expected_proportion_correct)\n",
    "    simulated_statistics = np.append(simulated_statistics, new_simulated)"
   ],
   "outputs": [],
   "execution_count": 103
  },
  {
   "cell_type": "code",
   "id": "cell-lab06-29",
   "metadata": {
    "deletable": false,
    "editable": false,
    "ExecuteTime": {
     "end_time": "2025-05-20T02:25:17.686021Z",
     "start_time": "2025-05-20T02:25:17.671179Z"
    }
   },
   "source": [
    "grader.check(\"q1_8\")"
   ],
   "outputs": [
    {
     "data": {
      "text/plain": [
       "q1_8 results: All test cases passed!"
      ],
      "text/html": [
       "<p><strong><pre style='display: inline;'>q1_8</pre></strong> passed! 🚀</p>"
      ]
     },
     "execution_count": 104,
     "metadata": {},
     "output_type": "execute_result"
    }
   ],
   "execution_count": 104
  },
  {
   "cell_type": "markdown",
   "id": "cell-lab06-30",
   "metadata": {},
   "source": [
    "Let's view the distribution of the simulated statistics under Emily's model, and visually compare where the observed statistic lies relative to the simulated statistics."
   ]
  },
  {
   "cell_type": "code",
   "id": "cell-lab06-31",
   "metadata": {
    "ExecuteTime": {
     "end_time": "2025-05-20T02:25:21.403711Z",
     "start_time": "2025-05-20T02:25:21.242573Z"
    }
   },
   "source": [
    "t = Table().with_column('Simulated Statistics', simulated_statistics)\n",
    "t.hist()\n",
    "plt.scatter(observed_statistic, 0, color='red', s=100, zorder=2);"
   ],
   "outputs": [
    {
     "data": {
      "text/plain": [
       "<Figure size 600x400 with 1 Axes>"
      ],
      "image/png": "[encoded data removed]"
     },
     "metadata": {},
     "output_type": "display_data"
    }
   ],
   "execution_count": 105
  },
  {
   "cell_type": "markdown",
   "id": "cell-lab06-32",
   "metadata": {},
   "source": [
    "We can make a visual argument as to whether we believe the observed statistic is consistent with Emily’s model. Here, since larger values of the test statistic suggest the alternative model (where the chance of guessing the correct hand is something other than 50%), we can formalize our analysis by finding what proportion of simulated statistics were as large or larger than our observed test statistic (the area at or to the right of the observed test statistic). If this area is small enough, we’ll declare that the observed data are inconsistent with our simulated model. Here is the [link](https://inferentialthinking.com/chapters/11/1/Assessing_a_Model.html) to the section in the textbook."
   ]
  },
  {
   "cell_type": "markdown",
   "id": "cell-lab06-33",
   "metadata": {
    "deletable": false,
    "editable": false
   },
   "source": [
    "**Question 1.9:** Calculate the proportion of simulated statistics greater than or equal to the observed statistic. \n",
    "\n",
    "*Hint:* `np.count_nonzero` usage can be found [here](http://data8.org/fa21/python-reference.html).\n"
   ]
  },
  {
   "cell_type": "code",
   "id": "cell-lab06-34",
   "metadata": {
    "scrolled": true,
    "tags": [],
    "ExecuteTime": {
     "end_time": "2025-05-20T02:25:38.728629Z",
     "start_time": "2025-05-20T02:25:38.724956Z"
    }
   },
   "source": [
    "proportion_greater_or_equal = np.count_nonzero(simulated_statistics > observed_statistic) / len(simulated_statistics)\n",
    "proportion_greater_or_equal"
   ],
   "outputs": [
    {
     "data": {
      "text/plain": [
       "0.075"
      ]
     },
     "execution_count": 106,
     "metadata": {},
     "output_type": "execute_result"
    }
   ],
   "execution_count": 106
  },
  {
   "cell_type": "code",
   "id": "cell-lab06-35",
   "metadata": {
    "deletable": false,
    "editable": false,
    "ExecuteTime": {
     "end_time": "2025-05-20T02:25:40.651763Z",
     "start_time": "2025-05-20T02:25:40.639984Z"
    }
   },
   "source": [
    "grader.check(\"q1_9\")"
   ],
   "outputs": [
    {
     "data": {
      "text/plain": [
       "q1_9 results: All test cases passed!"
      ],
      "text/html": [
       "<p><strong><pre style='display: inline;'>q1_9</pre></strong> passed! 🌈</p>"
      ]
     },
     "execution_count": 107,
     "metadata": {},
     "output_type": "execute_result"
    }
   ],
   "execution_count": 107
  },
  {
   "cell_type": "markdown",
   "id": "cell-lab06-36",
   "metadata": {},
   "source": [
    "By convention, we often compare the proportion we just calculated to 0.05. If the proportion of simulated statistics greater than or equal to the observed statistic is sufficiently small (less than or equal to 0.05), then this is evidence against Emily's model. Conceptually, you may think of this as the case where less than 5% of simulated values are as far or farther away from what we had expected. If this is not the case, we don’t have any reason to doubt Emily’s model. \n",
    "\n",
    "This should help you make your own conclusions about Emily Rosa's experiment. \n",
    "\n",
    "Therapeutic touch fell out of use after this experiment, which was eventually accepted into one of the premier medical journals. TT practitioners hit back and accused Emily and her family of tampering with the results, while some claimed that Emily's bad spiritual mood towards therapeutic touch made it difficult to read her HEF. Whatever it may be, Emily's experiment is a classic example about how anyone, with the right resources, can test anything they want!"
   ]
  },
  {
   "cell_type": "markdown",
   "id": "cell-lab06-37",
   "metadata": {
    "deletable": false,
    "editable": false
   },
   "source": [
    "**Question 1.10:** Now, take some time to think to yourself and discuss with your peers:\n",
    "\n",
    "1. Is the data more consistent with Emily' model (practioners were randomly guessing)?\n",
    "2. What does this mean in terms of Emily's experiment? Do the TT practitioners' answers follow an even chance model or is there something else at play? \n",
    "\n",
    "Did you talk to your peers? (T/F)\n"
   ]
  },
  {
   "cell_type": "code",
   "id": "cell-lab06-38",
   "metadata": {
    "tags": [],
    "ExecuteTime": {
     "end_time": "2025-05-20T02:26:08.404322Z",
     "start_time": "2025-05-20T02:26:08.397378Z"
    }
   },
   "source": [
    "peer_talk = True\n",
    "peer_talk"
   ],
   "outputs": [
    {
     "data": {
      "text/plain": [
       "True"
      ]
     },
     "execution_count": 109,
     "metadata": {},
     "output_type": "execute_result"
    }
   ],
   "execution_count": 109
  },
  {
   "cell_type": "code",
   "id": "cell-lab06-39",
   "metadata": {
    "ExecuteTime": {
     "end_time": "2025-05-20T02:26:09.428476Z",
     "start_time": "2025-05-20T02:26:09.423908Z"
    }
   },
   "source": [
    "peer_talk == True"
   ],
   "outputs": [
    {
     "data": {
      "text/plain": [
       "True"
      ]
     },
     "execution_count": 110,
     "metadata": {},
     "output_type": "execute_result"
    }
   ],
   "execution_count": 110
  },
  {
   "cell_type": "markdown",
   "id": "cell-lab06-40",
   "metadata": {},
   "source": [
    "## 2. Submission\n",
    "\n",
    "<img src=\"appa_momo.jpg\" alt=\"drawing\" width=\"300\"/>\n",
    "\n",
    "Appa and Momo want to congratulate you on completing the lab!! Now you can relax like them! \n",
    "\n",
    "**Important submission steps:** \n",
    "1. Run the tests and verify that they all pass.\n",
    "2. Choose **Save Notebook** from the **File** menu, then **run the final cell**. \n",
    "3. Click the link to download the zip file.\n",
    "4. Then submit the zip file to the corresponding assignment according to your instructor's directions. \n",
    "\n",
    "**It is your responsibility to make sure your work is saved before running the last cell.**"
   ]
  },
  {
   "cell_type": "markdown",
   "id": "cell-lab06-41",
   "metadata": {
    "deletable": false,
    "editable": false
   },
   "source": [
    "## Submission\n",
    "\n",
    "Make sure you have run all cells in your notebook in order before running the cell below, so that all images/graphs appear in the output. The cell below will generate a zip file for you to submit. **Please save before exporting!**"
   ]
  },
  {
   "cell_type": "code",
   "id": "cell-lab06-42",
   "metadata": {
    "deletable": false,
    "editable": false,
    "ExecuteTime": {
     "end_time": "2025-05-20T02:26:46.570623Z",
     "start_time": "2025-05-20T02:26:23.109279Z"
    }
   },
   "source": [
    "# Save your notebook first, then run this cell to export your submission.\n",
    "grader.export(pdf=False, run_tests=True)"
   ],
   "outputs": [
    {
     "name": "stdout",
     "output_type": "stream",
     "text": [
      "Running your submission against local test cases...\n",
      "\n",
      "\n",
      "Your submission received the following results when run against available test cases:\n",
      "\n",
      "    q1_2 results: All test cases passed!\n",
      "\n",
      "    q1_3 results: All test cases passed!\n",
      "\n",
      "    q1_5 results: All test cases passed!\n",
      "\n",
      "    q1_6 results: All test cases passed!\n",
      "\n",
      "    q1_7 results:\n",
      "        q1_7 - 1 result:\n",
      "            ✅ Test case passed\n",
      "\n",
      "        q1_7 - 2 result:\n",
      "            ✅ Test case passed\n",
      "\n",
      "        q1_7 - 3 result:\n",
      "            ✅ Test case passed\n",
      "\n",
      "        q1_7 - 4 result:\n",
      "            ✅ Test case passed\n",
      "\n",
      "        q1_7 - 5 result:\n",
      "            ✅ Test case passed\n",
      "\n",
      "        q1_7 - 6 result:\n",
      "            ❌ Test case failed\n",
      "            Trying:\n",
      "                round(one_statistic, 2)\n",
      "            Expecting:\n",
      "                0.95\n",
      "            **********************************************************************\n",
      "            Line 1, in q1_7 5\n",
      "            Failed example:\n",
      "                round(one_statistic, 2)\n",
      "            Expected:\n",
      "                0.95\n",
      "            Got:\n",
      "                0.94999999999999996\n",
      "\n",
      "    q1_8 results: All test cases passed!\n",
      "\n",
      "    q1_9 results: All test cases passed!\n"
     ]
    },
    {
     "data": {
      "text/plain": [
       "<IPython.core.display.HTML object>"
      ],
      "text/html": [
       "\n",
       "                    <p>\n",
       "                        Your submission has been exported. Click\n",
       "                        <a href=\"lab06_2025_05_20T09_26_23_112797.zip\" download=\"lab06_2025_05_20T09_26_23_112797.zip\" target=\"_blank\">here</a> to download\n",
       "                        the zip file.\n",
       "                    </p>\n",
       "                "
      ]
     },
     "metadata": {},
     "output_type": "display_data"
    }
   ],
   "execution_count": 111
  },
  {
   "cell_type": "markdown",
   "id": "cell-lab06-43",
   "metadata": {},
   "source": [
    " "
   ]
  }
 ],
 "metadata": {
  "kernelspec": {
   "display_name": "Python 3 (ipykernel)",
   "language": "python",
   "name": "python3"
  },
  "language_info": {
   "codemirror_mode": {
    "name": "ipython",
    "version": 3
   },
   "file_extension": ".py",
   "mimetype": "text/x-python",
   "name": "python",
   "nbconvert_exporter": "python",
   "pygments_lexer": "ipython3",
   "version": "3.12.8"
  },
  "otter": {
   "OK_FORMAT": true,
   "tests": {
    "q1_2": {
     "name": "q1_2",
     "points": null,
     "suites": [
      {
       "cases": [
        {
         "code": ">>> 0 <= expected_proportion_correct <= 1\nTrue",
         "hidden": false,
         "locked": false
        },
        {
         "code": ">>> expected_proportion_correct == 0.5\nTrue",
         "hidden": false,
         "locked": false
        }
       ],
       "scored": true,
       "setup": "",
       "teardown": "",
       "type": "doctest"
      }
     ]
    },
    "q1_3": {
     "name": "q1_3",
     "points": null,
     "suites": [
      {
       "cases": [
        {
         "code": ">>> type(valid_stat) == np.ndarray\nTrue",
         "hidden": false,
         "locked": false
        },
        {
         "code": ">>> int(sum(valid_stat))\n2",
         "hidden": false,
         "locked": false
        }
       ],
       "scored": true,
       "setup": "",
       "teardown": "",
       "type": "doctest"
      }
     ]
    },
    "q1_5": {
     "name": "q1_5",
     "points": null,
     "suites": [
      {
       "cases": [
        {
         "code": ">>> int(round(statistic(0.5, 0.5) + statistic(0.4, 0.1), 1))\n30",
         "hidden": false,
         "locked": false
        },
        {
         "code": ">>> int(statistic(0.4, 0.1) - statistic(0.1, 0.4))\n0",
         "hidden": false,
         "locked": false
        }
       ],
       "scored": true,
       "setup": "",
       "teardown": "",
       "type": "doctest"
      }
     ]
    },
    "q1_6": {
     "name": "q1_6",
     "points": null,
     "suites": [
      {
       "cases": [
        {
         "code": ">>> int(round(observed_statistic, 2))\n6",
         "hidden": false,
         "locked": false
        }
       ],
       "scored": true,
       "setup": "",
       "teardown": "",
       "type": "doctest"
      }
     ]
    },
    "q1_7": {
     "name": "q1_7",
     "points": null,
     "suites": [
      {
       "cases": [
        {
         "code": ">>> len(model_proportions) % 2 == 0\nTrue",
         "hidden": false,
         "locked": false
        },
        {
         "code": ">>> len(np.unique(model_proportions))\n1",
         "hidden": false,
         "locked": false
        },
        {
         "code": ">>> sum(model_proportions) == 1\nTrue",
         "hidden": false,
         "locked": false
        },
        {
         "code": ">>> type(simulation_proportion_correct) == float\nTrue",
         "hidden": false,
         "locked": false
        },
        {
         "code": ">>> round(simulation_proportion_correct, 2)\n0.49",
         "hidden": false,
         "locked": false
        },
        {
         "code": ">>> round(one_statistic, 2)\n0.95",
         "hidden": false,
         "locked": false
        }
       ],
       "scored": true,
       "setup": "",
       "teardown": "",
       "type": "doctest"
      }
     ]
    },
    "q1_8": {
     "name": "q1_8",
     "points": null,
     "suites": [
      {
       "cases": [
        {
         "code": ">>> len(simulated_statistics) == 1000\nTrue",
         "hidden": false,
         "locked": false
        },
        {
         "code": ">>> np.all(simulated_statistics <= 30)\nTrue",
         "hidden": false,
         "locked": false
        },
        {
         "code": ">>> np.all(simulated_statistics >= 0)\nTrue",
         "hidden": false,
         "locked": false
        },
        {
         "code": ">>> 0 <= simulation_and_statistic(model_proportions, expected_proportion_correct) <= 25\nTrue",
         "hidden": false,
         "locked": false
        }
       ],
       "scored": true,
       "setup": "",
       "teardown": "",
       "type": "doctest"
      }
     ]
    },
    "q1_9": {
     "name": "q1_9",
     "points": null,
     "suites": [
      {
       "cases": [
        {
         "code": ">>> 0 <= proportion_greater_or_equal <= 1\nTrue",
         "hidden": false,
         "locked": false
        },
        {
         "code": ">>> proportion_greater_or_equal * 1000 == np.count_nonzero(simulated_statistics >= observed_statistic)\nTrue",
         "hidden": false,
         "locked": false
        }
       ],
       "scored": true,
       "setup": "",
       "teardown": "",
       "type": "doctest"
      }
     ]
    }
   }
  }
 },
 "nbformat": 4,
 "nbformat_minor": 5
}
